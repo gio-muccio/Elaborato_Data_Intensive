{
 "cells": [
  {
   "cell_type": "markdown",
   "id": "61191cb0",
   "metadata": {},
   "source": [
    "# Predizione del peso di un individuo in base alle proprie abitudini alimentari, allo stile di vita e alle caratteristiche fisiche."
   ]
  },
  {
   "cell_type": "markdown",
   "id": "a96df0dc",
   "metadata": {},
   "source": [
    "#### Elaborato di Programmazione di Applicazioni Data Intensive\n",
    "Laurea in Ingegneria e Scienze Informatiche  \n",
    "Università di Bologna, Cesena\n",
    "  \n",
    "Giovanni Muccioli  \n",
    "`giovanni.muccioli@studio.unibo.it`"
   ]
  },
  {
   "cell_type": "markdown",
   "id": "a50958d7",
   "metadata": {},
   "source": [
    "#### Obiettivo\n",
    "\n",
    "Si vuole realizzare un modello di regressione che sia capace di predire al meglio il peso di un individuo, sulla base di diversi aspetti riguardanti le abitudini alimentari e lo stile di vita della persona, ma anche in base ad alcune caratteristiche fisiche.  \n",
    "\n",
    "Tale modello predittivo avrà quindi lo scopo di individuare ed evidenziare quali fattori influenzano maggiormente la predizione, consentendone cioè una comprensione chiara ed approfondita dei fattori che incidono in modo rilevante nella determinazione del peso di una persona."
   ]
  },
  {
   "cell_type": "markdown",
   "id": "fc5bb958",
   "metadata": {},
   "source": [
    "#### Fonte   \n",
    "\n",
    "Il dataset oggetto dell'analisi è stato acquisito da UCI Machine Learning Repository (https://archive.ics.uci.edu/ml).  \n",
    "URL dataset: https://archive.ics.uci.edu/dataset/544/estimation+of+obesity+levels+based+on+eating+habits+and+physical+condition"
   ]
  },
  {
   "cell_type": "markdown",
   "id": "5bed6a76",
   "metadata": {},
   "source": [
    "#### Descrizioni generali del contesto   \n",
    "\n",
    "Il dataset contiene informazioni di 2111 individui provenienti dai paesi di Messico, Perù e Colombia, in base alle loro abitudini alimentari, allo stile di vita, alle condizioni e caratteristiche fisiche.  \n",
    "Tutte queste informazioni popolano il dataset, caratterizzato da 17 diverse variabili."
   ]
  },
  {
   "cell_type": "code",
   "execution_count": 1,
   "id": "0c6830fc",
   "metadata": {},
   "outputs": [],
   "source": [
    "# Importazioni prime librerie necessarie per la gestione e l'analisi dei dati\n",
    "import numpy as np\n",
    "import pandas as pd"
   ]
  },
  {
   "cell_type": "code",
   "execution_count": 2,
   "id": "35166000",
   "metadata": {
    "scrolled": false
   },
   "outputs": [
    {
     "data": {
      "text/html": [
       "<div>\n",
       "<style scoped>\n",
       "    .dataframe tbody tr th:only-of-type {\n",
       "        vertical-align: middle;\n",
       "    }\n",
       "\n",
       "    .dataframe tbody tr th {\n",
       "        vertical-align: top;\n",
       "    }\n",
       "\n",
       "    .dataframe thead th {\n",
       "        text-align: right;\n",
       "    }\n",
       "</style>\n",
       "<table border=\"1\" class=\"dataframe\">\n",
       "  <thead>\n",
       "    <tr style=\"text-align: right;\">\n",
       "      <th></th>\n",
       "      <th>Gender</th>\n",
       "      <th>Age</th>\n",
       "      <th>Height</th>\n",
       "      <th>Weight</th>\n",
       "      <th>family_history_with_overweight</th>\n",
       "      <th>FAVC</th>\n",
       "      <th>FCVC</th>\n",
       "      <th>NCP</th>\n",
       "      <th>CAEC</th>\n",
       "      <th>SMOKE</th>\n",
       "      <th>CH2O</th>\n",
       "      <th>SCC</th>\n",
       "      <th>FAF</th>\n",
       "      <th>TUE</th>\n",
       "      <th>CALC</th>\n",
       "      <th>MTRANS</th>\n",
       "      <th>NObeyesdad</th>\n",
       "    </tr>\n",
       "  </thead>\n",
       "  <tbody>\n",
       "    <tr>\n",
       "      <th>0</th>\n",
       "      <td>Female</td>\n",
       "      <td>21.000000</td>\n",
       "      <td>1.620000</td>\n",
       "      <td>64.000000</td>\n",
       "      <td>yes</td>\n",
       "      <td>no</td>\n",
       "      <td>2.0</td>\n",
       "      <td>3.0</td>\n",
       "      <td>Sometimes</td>\n",
       "      <td>no</td>\n",
       "      <td>2.000000</td>\n",
       "      <td>no</td>\n",
       "      <td>0.000000</td>\n",
       "      <td>1.000000</td>\n",
       "      <td>no</td>\n",
       "      <td>Public_Transportation</td>\n",
       "      <td>Normal_Weight</td>\n",
       "    </tr>\n",
       "    <tr>\n",
       "      <th>1</th>\n",
       "      <td>Female</td>\n",
       "      <td>21.000000</td>\n",
       "      <td>1.520000</td>\n",
       "      <td>56.000000</td>\n",
       "      <td>yes</td>\n",
       "      <td>no</td>\n",
       "      <td>3.0</td>\n",
       "      <td>3.0</td>\n",
       "      <td>Sometimes</td>\n",
       "      <td>yes</td>\n",
       "      <td>3.000000</td>\n",
       "      <td>yes</td>\n",
       "      <td>3.000000</td>\n",
       "      <td>0.000000</td>\n",
       "      <td>Sometimes</td>\n",
       "      <td>Public_Transportation</td>\n",
       "      <td>Normal_Weight</td>\n",
       "    </tr>\n",
       "    <tr>\n",
       "      <th>2</th>\n",
       "      <td>Male</td>\n",
       "      <td>23.000000</td>\n",
       "      <td>1.800000</td>\n",
       "      <td>77.000000</td>\n",
       "      <td>yes</td>\n",
       "      <td>no</td>\n",
       "      <td>2.0</td>\n",
       "      <td>3.0</td>\n",
       "      <td>Sometimes</td>\n",
       "      <td>no</td>\n",
       "      <td>2.000000</td>\n",
       "      <td>no</td>\n",
       "      <td>2.000000</td>\n",
       "      <td>1.000000</td>\n",
       "      <td>Frequently</td>\n",
       "      <td>Public_Transportation</td>\n",
       "      <td>Normal_Weight</td>\n",
       "    </tr>\n",
       "    <tr>\n",
       "      <th>3</th>\n",
       "      <td>Male</td>\n",
       "      <td>27.000000</td>\n",
       "      <td>1.800000</td>\n",
       "      <td>87.000000</td>\n",
       "      <td>no</td>\n",
       "      <td>no</td>\n",
       "      <td>3.0</td>\n",
       "      <td>3.0</td>\n",
       "      <td>Sometimes</td>\n",
       "      <td>no</td>\n",
       "      <td>2.000000</td>\n",
       "      <td>no</td>\n",
       "      <td>2.000000</td>\n",
       "      <td>0.000000</td>\n",
       "      <td>Frequently</td>\n",
       "      <td>Walking</td>\n",
       "      <td>Overweight_Level_I</td>\n",
       "    </tr>\n",
       "    <tr>\n",
       "      <th>4</th>\n",
       "      <td>Male</td>\n",
       "      <td>22.000000</td>\n",
       "      <td>1.780000</td>\n",
       "      <td>89.800000</td>\n",
       "      <td>no</td>\n",
       "      <td>no</td>\n",
       "      <td>2.0</td>\n",
       "      <td>1.0</td>\n",
       "      <td>Sometimes</td>\n",
       "      <td>no</td>\n",
       "      <td>2.000000</td>\n",
       "      <td>no</td>\n",
       "      <td>0.000000</td>\n",
       "      <td>0.000000</td>\n",
       "      <td>Sometimes</td>\n",
       "      <td>Public_Transportation</td>\n",
       "      <td>Overweight_Level_II</td>\n",
       "    </tr>\n",
       "    <tr>\n",
       "      <th>...</th>\n",
       "      <td>...</td>\n",
       "      <td>...</td>\n",
       "      <td>...</td>\n",
       "      <td>...</td>\n",
       "      <td>...</td>\n",
       "      <td>...</td>\n",
       "      <td>...</td>\n",
       "      <td>...</td>\n",
       "      <td>...</td>\n",
       "      <td>...</td>\n",
       "      <td>...</td>\n",
       "      <td>...</td>\n",
       "      <td>...</td>\n",
       "      <td>...</td>\n",
       "      <td>...</td>\n",
       "      <td>...</td>\n",
       "      <td>...</td>\n",
       "    </tr>\n",
       "    <tr>\n",
       "      <th>2106</th>\n",
       "      <td>Female</td>\n",
       "      <td>20.976842</td>\n",
       "      <td>1.710730</td>\n",
       "      <td>131.408528</td>\n",
       "      <td>yes</td>\n",
       "      <td>yes</td>\n",
       "      <td>3.0</td>\n",
       "      <td>3.0</td>\n",
       "      <td>Sometimes</td>\n",
       "      <td>no</td>\n",
       "      <td>1.728139</td>\n",
       "      <td>no</td>\n",
       "      <td>1.676269</td>\n",
       "      <td>0.906247</td>\n",
       "      <td>Sometimes</td>\n",
       "      <td>Public_Transportation</td>\n",
       "      <td>Obesity_Type_III</td>\n",
       "    </tr>\n",
       "    <tr>\n",
       "      <th>2107</th>\n",
       "      <td>Female</td>\n",
       "      <td>21.982942</td>\n",
       "      <td>1.748584</td>\n",
       "      <td>133.742943</td>\n",
       "      <td>yes</td>\n",
       "      <td>yes</td>\n",
       "      <td>3.0</td>\n",
       "      <td>3.0</td>\n",
       "      <td>Sometimes</td>\n",
       "      <td>no</td>\n",
       "      <td>2.005130</td>\n",
       "      <td>no</td>\n",
       "      <td>1.341390</td>\n",
       "      <td>0.599270</td>\n",
       "      <td>Sometimes</td>\n",
       "      <td>Public_Transportation</td>\n",
       "      <td>Obesity_Type_III</td>\n",
       "    </tr>\n",
       "    <tr>\n",
       "      <th>2108</th>\n",
       "      <td>Female</td>\n",
       "      <td>22.524036</td>\n",
       "      <td>1.752206</td>\n",
       "      <td>133.689352</td>\n",
       "      <td>yes</td>\n",
       "      <td>yes</td>\n",
       "      <td>3.0</td>\n",
       "      <td>3.0</td>\n",
       "      <td>Sometimes</td>\n",
       "      <td>no</td>\n",
       "      <td>2.054193</td>\n",
       "      <td>no</td>\n",
       "      <td>1.414209</td>\n",
       "      <td>0.646288</td>\n",
       "      <td>Sometimes</td>\n",
       "      <td>Public_Transportation</td>\n",
       "      <td>Obesity_Type_III</td>\n",
       "    </tr>\n",
       "    <tr>\n",
       "      <th>2109</th>\n",
       "      <td>Female</td>\n",
       "      <td>24.361936</td>\n",
       "      <td>1.739450</td>\n",
       "      <td>133.346641</td>\n",
       "      <td>yes</td>\n",
       "      <td>yes</td>\n",
       "      <td>3.0</td>\n",
       "      <td>3.0</td>\n",
       "      <td>Sometimes</td>\n",
       "      <td>no</td>\n",
       "      <td>2.852339</td>\n",
       "      <td>no</td>\n",
       "      <td>1.139107</td>\n",
       "      <td>0.586035</td>\n",
       "      <td>Sometimes</td>\n",
       "      <td>Public_Transportation</td>\n",
       "      <td>Obesity_Type_III</td>\n",
       "    </tr>\n",
       "    <tr>\n",
       "      <th>2110</th>\n",
       "      <td>Female</td>\n",
       "      <td>23.664709</td>\n",
       "      <td>1.738836</td>\n",
       "      <td>133.472641</td>\n",
       "      <td>yes</td>\n",
       "      <td>yes</td>\n",
       "      <td>3.0</td>\n",
       "      <td>3.0</td>\n",
       "      <td>Sometimes</td>\n",
       "      <td>no</td>\n",
       "      <td>2.863513</td>\n",
       "      <td>no</td>\n",
       "      <td>1.026452</td>\n",
       "      <td>0.714137</td>\n",
       "      <td>Sometimes</td>\n",
       "      <td>Public_Transportation</td>\n",
       "      <td>Obesity_Type_III</td>\n",
       "    </tr>\n",
       "  </tbody>\n",
       "</table>\n",
       "<p>2111 rows × 17 columns</p>\n",
       "</div>"
      ],
      "text/plain": [
       "      Gender        Age    Height      Weight family_history_with_overweight  \\\n",
       "0     Female  21.000000  1.620000   64.000000                            yes   \n",
       "1     Female  21.000000  1.520000   56.000000                            yes   \n",
       "2       Male  23.000000  1.800000   77.000000                            yes   \n",
       "3       Male  27.000000  1.800000   87.000000                             no   \n",
       "4       Male  22.000000  1.780000   89.800000                             no   \n",
       "...      ...        ...       ...         ...                            ...   \n",
       "2106  Female  20.976842  1.710730  131.408528                            yes   \n",
       "2107  Female  21.982942  1.748584  133.742943                            yes   \n",
       "2108  Female  22.524036  1.752206  133.689352                            yes   \n",
       "2109  Female  24.361936  1.739450  133.346641                            yes   \n",
       "2110  Female  23.664709  1.738836  133.472641                            yes   \n",
       "\n",
       "     FAVC  FCVC  NCP       CAEC SMOKE      CH2O  SCC       FAF       TUE  \\\n",
       "0      no   2.0  3.0  Sometimes    no  2.000000   no  0.000000  1.000000   \n",
       "1      no   3.0  3.0  Sometimes   yes  3.000000  yes  3.000000  0.000000   \n",
       "2      no   2.0  3.0  Sometimes    no  2.000000   no  2.000000  1.000000   \n",
       "3      no   3.0  3.0  Sometimes    no  2.000000   no  2.000000  0.000000   \n",
       "4      no   2.0  1.0  Sometimes    no  2.000000   no  0.000000  0.000000   \n",
       "...   ...   ...  ...        ...   ...       ...  ...       ...       ...   \n",
       "2106  yes   3.0  3.0  Sometimes    no  1.728139   no  1.676269  0.906247   \n",
       "2107  yes   3.0  3.0  Sometimes    no  2.005130   no  1.341390  0.599270   \n",
       "2108  yes   3.0  3.0  Sometimes    no  2.054193   no  1.414209  0.646288   \n",
       "2109  yes   3.0  3.0  Sometimes    no  2.852339   no  1.139107  0.586035   \n",
       "2110  yes   3.0  3.0  Sometimes    no  2.863513   no  1.026452  0.714137   \n",
       "\n",
       "            CALC                 MTRANS           NObeyesdad  \n",
       "0             no  Public_Transportation        Normal_Weight  \n",
       "1      Sometimes  Public_Transportation        Normal_Weight  \n",
       "2     Frequently  Public_Transportation        Normal_Weight  \n",
       "3     Frequently                Walking   Overweight_Level_I  \n",
       "4      Sometimes  Public_Transportation  Overweight_Level_II  \n",
       "...          ...                    ...                  ...  \n",
       "2106   Sometimes  Public_Transportation     Obesity_Type_III  \n",
       "2107   Sometimes  Public_Transportation     Obesity_Type_III  \n",
       "2108   Sometimes  Public_Transportation     Obesity_Type_III  \n",
       "2109   Sometimes  Public_Transportation     Obesity_Type_III  \n",
       "2110   Sometimes  Public_Transportation     Obesity_Type_III  \n",
       "\n",
       "[2111 rows x 17 columns]"
      ]
     },
     "execution_count": 2,
     "metadata": {},
     "output_type": "execute_result"
    }
   ],
   "source": [
    "# URL file CSV da repository GitHub\n",
    "URL_dataset = \"https://raw.githubusercontent.com/gio-muccio/Elaborato_Data_Intensive/main/ObesityDataSet_raw_and_data_sinthetic.csv\"\n",
    "\n",
    "dataset = pd.read_csv(URL_dataset)\n",
    "\n",
    "# Visualizzazione dataset iniziale\n",
    "dataset"
   ]
  },
  {
   "cell_type": "markdown",
   "id": "04b22fc8",
   "metadata": {},
   "source": [
    "Analizziamo dunque le variabili presenti.\n",
    "\n",
    "1. `Gender`: Rappresenta il genere dell'individuo, che può essere \"Female\" (femmina) o \"Male\" (maschio).\n",
    "2. `Age`: Rappresenta l'età dell'individuo.\n",
    "3. `Height`: Rappresenta l'altezza dell'individuo, espressa in metri.\n",
    "4. `Weight`: Rappresenta il peso dell'individuo, espresso in chilogrammi.\n",
    "5. `family_history_with_overweight`: Indica se l'individuo ha una familiarità in termini di sovrappeso, ossia se possiede (o possedeva) familiari in sovrappeso. Può assumere i valori \"yes\" o \"no\".\n",
    "6. `FAVC`: Rappresenta se l'individuo consuma frequentemente alimenti ad alto contenuto calorico (cosiddetto \"cibo spazzatura\", ossia ad alto contenuto di grassi e zuccheri). Può assumere i valori \"yes\" o \"no\". \n",
    "7. `FCVC`: Rappresenta il numero di pasti in cui l'individuo assume verdure, espresso in una scala da 1 a 3.\n",
    "8. `NCP`: Rappresenta il numero di pasti principali consumati giornalmente dall'individuo, espresso in una scala da 1 a 4.\n",
    "9. `CAEC`: Rappresenta la frequenza di consumo di cibo al di fuori dei pasti principali da parte dell'individuo. Può assumere i valori \"Sometimes\", \"Frequently\", \"Always\", \"no\".\n",
    "10. `SMOKE`: Indica se l'individuo fuma o meno. Può assumere i valori \"yes\" o \"no\".\n",
    "11. `CH2O`: Rappresenta il consumo di acqua da parte dell'individuo, espresso in una scala da 1 a 3.\n",
    "12. `SCC`: Indica se l'individuo monitora le calorie che consuma quotidianamente. Il monitoraggio delle calorie può essere utile sia per la gestione del peso che per la salute generale. Può assumere i valori \"yes\" o \"no\".\n",
    "13. `FAF`: Rappresenta la frequenza dei giorni alla settimana di attività fisica da parte dell'individuo, espresso in una scala da 0 a 3.\n",
    "14. `TUE`: Rappresenta il tempo di utilizzo dei dispositivi tecnologici, ossia il tempo dedicato alle attività sedentarie da parte dell'individuo (per esempio il tempo trascorso davanti al computer, allo smartphone, alla tv, ecc.),  espresso in una scala da 0 a 2.\n",
    "15. `CALC`: Rappresenta l'assunzione di alcol da parte dell'individuo, espresso nei possibili seguenti valori: \"Sometimes\", \"Frequently\", \"Always\", \"no\".\n",
    "16. `MTRANS`: Rappresenta il mezzo di trasporto principale utilizzato dall'individuo. Può assumere diversi valori, ad esempio \"Public_Transportation\", \"Walking\", \"Automobile\", \"Motorbike\", \"Bike\".\n",
    "17. `NObeyesdad`: Rappresenta la classe di obesità di ciascun individuo. Può essere \"Insufficient_Weight\", \"Normal_Weight\", \"Overweight_Level_I\", \"Overweight_Level_II\", \"Obesity_Type_I\", \"Obesity_Type_II\" o \"Obesity_Type_III\"."
   ]
  },
  {
   "cell_type": "markdown",
   "id": "eff5adf9",
   "metadata": {},
   "source": [
    "#### Osservazioni e precisazioni\n",
    "\n",
    "Prima di poter iniziare con l'analisi, è bene notare la seguente precisazione presente nella pagina contenente il dataset: \"Il 77% dei dati è stato generato sinteticamente utilizzando lo strumento Weka e il filtro SMOTE, il 23% dei dati è stato raccolto direttamente dagli utenti attraverso una piattaforma web\".\n",
    "\n",
    "\n",
    "La tecnica SMOTE è utilizzata nei contesti legati a problemi di classificazione quando si vuole ottenere un modello di classificazione dove i dati di partenza sono sbilanciati.  \n",
    "Attraverso questa tecnica, si ottiene un'aggiunta di variabili artificiali che sono coerenti alla classe meno numerosa. Questo aiuta di fatti a bilanciare il dataset con lo scopo di migliorare le prestazioni durante l'addestramento del modello.  \n",
    "Tale accorgimento potrebbe essere di estrema importanza per creare un modello di classificazione che classifichi un individuo per livelli di obesità.\n",
    "\n",
    "\n",
    "Essendo però il nostro scopo creare un modello di regressione che sia in grado di predire il peso di un individuo (e non a quale livello di obesità appartiene, cioè non un problema di classificazione) dobbiamo porre attenzione alla struttura e ai valori dei dati messi a disposizione.  \n",
    "Anzitutto, le variabili fornite possono essere utili per creare un modello predittivo approssimativo del peso di un individuo: la previsione del peso è un processo complesso e dipende da molti fattori che potrebbero non essere completamente rappresentati da queste variabili. Tuttavia, molte delle variabili fornite possono avere un impatto sul peso di una persona e possono quindi essere considerate valide per la predizione approssimativa del peso.  \n",
    "Inoltre, una parte dei dati presenti nel dataset non è di origine reale: non provengono da utenti reali, ma provengono da dati creati artificialmente.  \n",
    "Questo è un aspetto importante da tenere in considerazione quando si analizza il dataset, poiché potrebbe influenzare l'analisi e l'affidabilità dei modelli addestrati su di esso, nonostante sia un'ottima tecnica per risolvere problemi di classificazione quando si hanno classi sbilanciate.  \n",
    "La generazione sintetica dei dati potrebbe introdurre delle peculiarità o bias nei dati, e pertanto è fondamentale valutare attentamente la qualità e l'attendibilità delle informazioni presenti.  \n",
    "È proprio con tale premessa che è bene effettuare una manipolazione e una sistemazione dei dati. "
   ]
  },
  {
   "cell_type": "code",
   "execution_count": 3,
   "id": "3c38a0fc",
   "metadata": {
    "scrolled": true
   },
   "outputs": [
    {
     "data": {
      "text/plain": [
       "0       21.000000\n",
       "1       21.000000\n",
       "2       23.000000\n",
       "3       27.000000\n",
       "4       22.000000\n",
       "          ...    \n",
       "2106    20.976842\n",
       "2107    21.982942\n",
       "2108    22.524036\n",
       "2109    24.361936\n",
       "2110    23.664709\n",
       "Name: Age, Length: 2111, dtype: float64"
      ]
     },
     "execution_count": 3,
     "metadata": {},
     "output_type": "execute_result"
    }
   ],
   "source": [
    "# Iniziali valori decimali per l'età (Age)\n",
    "dataset[\"Age\"]"
   ]
  },
  {
   "cell_type": "markdown",
   "id": "05d05d8f",
   "metadata": {},
   "source": [
    "La presenza di \"dati artificiali\" è evidente, per esempio, analizzando le diverse età (`Age`) delle persone: è chiaro che i valori riguardanti l'età debbano essere dei valori interi, e non dei valori decimali. Tuttavia, durante la generazione sintetica con SMOTE, si sono ottenuti nuovi valori, come per esempio un'età pari a _20.976842._  \n",
    "È un valore decimale che ovviamente andrà manipolato: tali valori decimali saranno arrotondati all'intero più vicino.  \n",
    "\n",
    "\n",
    "Inoltre, dall'esplorazione e dalla consultazione della variabile `FCVC` che rappresenta il numero di pasti in cui l'individuo mangia verdure espresso in una scala da 1 a 3 ..."
   ]
  },
  {
   "cell_type": "code",
   "execution_count": 4,
   "id": "e807b499",
   "metadata": {
    "scrolled": true
   },
   "outputs": [
    {
     "data": {
      "text/plain": [
       "array([2.      , 3.      , 1.      , 2.450218, 2.880161, 2.00876 ,\n",
       "       2.596579, 2.591439, 2.392665, 1.123939, 2.027574, 2.658112,\n",
       "       2.88626 , 2.714447, 2.750715, 1.4925  , 2.205439, 2.059138,\n",
       "       2.310423, 2.823179])"
      ]
     },
     "execution_count": 4,
     "metadata": {},
     "output_type": "execute_result"
    }
   ],
   "source": [
    "dataset[\"FCVC\"].unique()[:20]"
   ]
  },
  {
   "cell_type": "code",
   "execution_count": 5,
   "id": "9bdb5d16",
   "metadata": {
    "scrolled": true
   },
   "outputs": [
    {
     "data": {
      "text/plain": [
       "3.000000    652\n",
       "2.000000    600\n",
       "1.000000     33\n",
       "2.823179      2\n",
       "2.214980      2\n",
       "           ... \n",
       "2.927409      1\n",
       "2.706134      1\n",
       "2.010684      1\n",
       "2.300408      1\n",
       "2.680375      1\n",
       "Name: FCVC, Length: 810, dtype: int64"
      ]
     },
     "execution_count": 5,
     "metadata": {},
     "output_type": "execute_result"
    }
   ],
   "source": [
    "dataset[\"FCVC\"].value_counts()"
   ]
  },
  {
   "cell_type": "markdown",
   "id": "7534fe4e",
   "metadata": {},
   "source": [
    "Si osserva come vi sia una predominanza di valori che assumono valori in una scala da 1 a 3, con valori interi.  \n",
    "Emerge, però, come vi siano valori decimali che con buona probabilità sono stati realizzati in modo artificiale come spiegato precedentemente tramite la tecnica SMOTE.  \n",
    "\n",
    "Se ne deduce come sia meglio trattare tali dati non tanto come valori decimali, bensì come valori categorici interi che variano in una scala da 1 a 3. Tali valori decimali, quindi, saranno arrotondati all'intero più vicino, per poi definirli di tipo categorico."
   ]
  },
  {
   "cell_type": "markdown",
   "id": "66822776",
   "metadata": {},
   "source": [
    "Infine, nonostante la pagina contenente il dataset specificasse come non vi fossero presenti valori mancanti, si verifica di seguito la veridicità dell'affermazione in modo tale da non avere potenziali problemi durante l'addestramento del modello."
   ]
  },
  {
   "cell_type": "code",
   "execution_count": 6,
   "id": "b25b0c1f",
   "metadata": {},
   "outputs": [
    {
     "data": {
      "text/plain": [
       "Gender                            0\n",
       "Age                               0\n",
       "Height                            0\n",
       "Weight                            0\n",
       "family_history_with_overweight    0\n",
       "FAVC                              0\n",
       "FCVC                              0\n",
       "NCP                               0\n",
       "CAEC                              0\n",
       "SMOKE                             0\n",
       "CH2O                              0\n",
       "SCC                               0\n",
       "FAF                               0\n",
       "TUE                               0\n",
       "CALC                              0\n",
       "MTRANS                            0\n",
       "NObeyesdad                        0\n",
       "dtype: int64"
      ]
     },
     "execution_count": 6,
     "metadata": {},
     "output_type": "execute_result"
    }
   ],
   "source": [
    "dataset.isnull().sum()"
   ]
  },
  {
   "cell_type": "markdown",
   "id": "95815ab0",
   "metadata": {},
   "source": [
    "Si dimostra come non vi siano valori mancanti.    \n",
    "\n",
    "Di seguito si imporranno gli accorgimenti sopra citati intervenendo sui dati che lo necessitano, per poi procedere con l'analisi."
   ]
  },
  {
   "cell_type": "markdown",
   "id": "4ccc3c0b",
   "metadata": {},
   "source": [
    "## Manipolazione e preparazione dei dati"
   ]
  },
  {
   "cell_type": "markdown",
   "id": "ddf501e2",
   "metadata": {},
   "source": [
    "Riprendendo la definizione delle variabili, si interviene manipolando ciascuna di esse in modo coerente.  \n",
    "\n",
    "\n",
    "Anziutto, vi sono delle variabili che sono definibili come categoriche ordinali poichè assumono valori all'interno di una scala (es: da 1 a 3, da 1 a 4, ecc...).  \n",
    "Ricordando che le variabili che assumono valori all'interno di una scala sono:  \n",
    "- `FCVC`,\n",
    "- `NCP`,\n",
    "- `CH2O`, \n",
    "- `FAF`,\n",
    "- `TUE`,\n",
    "\n",
    "i relativi dati dovranno essere trasformati in valori interi per poi essere arrotondati all'intero più vicino (quindi non dovranno essere valori decimali). Una volta fatto ciò, allora dovranno essere definiti come categorici."
   ]
  },
  {
   "cell_type": "code",
   "execution_count": 7,
   "id": "2c8383ad",
   "metadata": {},
   "outputs": [],
   "source": [
    "dataset[\"FCVC\"] = dataset[\"FCVC\"].round().astype(\"int64\")\n",
    "dataset[\"NCP\"] = dataset[\"NCP\"].round().astype(\"int64\")\n",
    "dataset[\"CH2O\"] = dataset[\"CH2O\"].round().astype(\"int64\")\n",
    "dataset[\"FAF\"] = dataset[\"FAF\"].round().astype(\"int64\")\n",
    "dataset[\"TUE\"] = dataset[\"TUE\"].round().astype(\"int64\")"
   ]
  },
  {
   "cell_type": "code",
   "execution_count": 8,
   "id": "3062ceb9",
   "metadata": {},
   "outputs": [
    {
     "data": {
      "text/plain": [
       "(array([2, 3, 1], dtype=int64),\n",
       " array([3, 1, 4, 2], dtype=int64),\n",
       " array([2, 3, 1], dtype=int64),\n",
       " array([0, 3, 2, 1], dtype=int64),\n",
       " array([1, 0, 2], dtype=int64))"
      ]
     },
     "execution_count": 8,
     "metadata": {},
     "output_type": "execute_result"
    }
   ],
   "source": [
    "dataset[\"FCVC\"].unique() , dataset[\"NCP\"].unique(), dataset[\"CH2O\"].unique(), dataset[\"FAF\"].unique() ,dataset[\"TUE\"].unique()"
   ]
  },
  {
   "cell_type": "markdown",
   "id": "909de6ae",
   "metadata": {},
   "source": [
    "Ora assumono valori interi coerentemente alla propria scala."
   ]
  },
  {
   "cell_type": "markdown",
   "id": "10c8eefa",
   "metadata": {},
   "source": [
    "Prima di procedere alla conversione, allo stesso tempo si osservano anche altre variabili categoriche ordinali, i quali valori non sono espressi all'interno di una scala bensì da stringhe che ne definiscono pur sempre una relazione d'ordine.  \n",
    "Tali ulteriori variabili categoriche ordinali sono:  \n",
    "- `CAEC`,\n",
    "- `CALC`\n",
    "\n",
    "I possibili valori sono i seguenti:"
   ]
  },
  {
   "cell_type": "code",
   "execution_count": 9,
   "id": "28704f8c",
   "metadata": {},
   "outputs": [
    {
     "data": {
      "text/plain": [
       "(array(['no', 'Sometimes', 'Frequently', 'Always'], dtype=object),\n",
       " array(['Sometimes', 'Frequently', 'Always', 'no'], dtype=object))"
      ]
     },
     "execution_count": 9,
     "metadata": {},
     "output_type": "execute_result"
    }
   ],
   "source": [
    "dataset[\"CALC\"].unique(), dataset[\"CAEC\"].unique()"
   ]
  },
  {
   "cell_type": "markdown",
   "id": "ae38d473",
   "metadata": {},
   "source": [
    "Infine si osservano anche variabili categoriche nominali, dove tra le categorie possibili non sussiste un ordine intrinseco.  \n",
    "Le variabili categoriche nominali sono:\n",
    "- `Gender`,\n",
    "- `family_history_with_overweight`,\n",
    "- `FAVC`,\n",
    "- `SMOKE`,\n",
    "- `SCC`,\n",
    "- `MTRANS`,\n",
    "- `NObeyesdad`.  \n",
    "\n",
    "Si procede, quindi, imponendo che tali variabili categoriche siano anche definite come tali in memoria. Ad ora, non possono essere definite categoriche poichè le variabili categoriche ordinali, espresse da valori che risiedono all'interno di una scala, sono riconosciute come variabili di tipo intero, mentre le restanti variabili categoriche (le altre due categoriche ordinali sopra precisate e le categoriche nominali) sono riconosciute come semplici stringhe, e non come categorie."
   ]
  },
  {
   "cell_type": "code",
   "execution_count": 10,
   "id": "909d1f4d",
   "metadata": {},
   "outputs": [
    {
     "name": "stdout",
     "output_type": "stream",
     "text": [
      "<class 'pandas.core.frame.DataFrame'>\n",
      "RangeIndex: 2111 entries, 0 to 2110\n",
      "Data columns (total 17 columns):\n",
      " #   Column                          Non-Null Count  Dtype  \n",
      "---  ------                          --------------  -----  \n",
      " 0   Gender                          2111 non-null   object \n",
      " 1   Age                             2111 non-null   float64\n",
      " 2   Height                          2111 non-null   float64\n",
      " 3   Weight                          2111 non-null   float64\n",
      " 4   family_history_with_overweight  2111 non-null   object \n",
      " 5   FAVC                            2111 non-null   object \n",
      " 6   FCVC                            2111 non-null   int64  \n",
      " 7   NCP                             2111 non-null   int64  \n",
      " 8   CAEC                            2111 non-null   object \n",
      " 9   SMOKE                           2111 non-null   object \n",
      " 10  CH2O                            2111 non-null   int64  \n",
      " 11  SCC                             2111 non-null   object \n",
      " 12  FAF                             2111 non-null   int64  \n",
      " 13  TUE                             2111 non-null   int64  \n",
      " 14  CALC                            2111 non-null   object \n",
      " 15  MTRANS                          2111 non-null   object \n",
      " 16  NObeyesdad                      2111 non-null   object \n",
      "dtypes: float64(3), int64(5), object(9)\n",
      "memory usage: 1.3 MB\n"
     ]
    }
   ],
   "source": [
    "dataset.info(memory_usage=\"deep\")"
   ]
  },
  {
   "cell_type": "markdown",
   "id": "980323a7",
   "metadata": {},
   "source": [
    "Si impone quindi di seguito che tutte le variabili definite come categoriche vengano riconosciute come tali anche in memoria."
   ]
  },
  {
   "cell_type": "code",
   "execution_count": 11,
   "id": "8ec099df",
   "metadata": {},
   "outputs": [],
   "source": [
    "variables_dtypes = {\n",
    "    \"Gender\": \"category\",\n",
    "    \"family_history_with_overweight\": \"category\",\n",
    "    \"FAVC\": \"category\",\n",
    "    \"FCVC\": \"category\",\n",
    "    \"NCP\": \"category\",\n",
    "    \"CAEC\": \"category\",\n",
    "    \"SMOKE\": \"category\",\n",
    "    \"CH2O\": \"category\",\n",
    "    \"SCC\": \"category\",\n",
    "    \"FAF\": \"category\",\n",
    "    \"TUE\": \"category\",\n",
    "    \"CALC\": \"category\",\n",
    "    \"MTRANS\": \"category\",\n",
    "    \"NObeyesdad\": \"category\"\n",
    "}\n",
    "\n",
    "dataset = dataset.astype(variables_dtypes)"
   ]
  },
  {
   "cell_type": "code",
   "execution_count": 12,
   "id": "b17d461f",
   "metadata": {
    "scrolled": true
   },
   "outputs": [
    {
     "data": {
      "text/plain": [
       "(['Female', 'Male']\n",
       " Categories (2, object): ['Female', 'Male'],\n",
       " ['yes', 'no']\n",
       " Categories (2, object): ['no', 'yes'],\n",
       " ['Sometimes', 'Frequently', 'Always', 'no']\n",
       " Categories (4, object): ['Always', 'Frequently', 'Sometimes', 'no'],\n",
       " [3, 1, 4, 2]\n",
       " Categories (4, int64): [1, 2, 3, 4])"
      ]
     },
     "execution_count": 12,
     "metadata": {},
     "output_type": "execute_result"
    }
   ],
   "source": [
    "# Visualizzazione di qualche variabile categorica\n",
    "dataset[\"Gender\"].unique() , dataset[\"family_history_with_overweight\"].unique() , dataset[\"CAEC\"].unique() , dataset[\"NCP\"].unique()"
   ]
  },
  {
   "cell_type": "markdown",
   "id": "46f8a736",
   "metadata": {},
   "source": [
    "Si procede imponendo l'accorgimento sull'età notato precedentemente: si vuole che essa sia espressa da valori interi e non da valori decimali. Verrà applicato quindi un arrotondamento all'intero più vicino.  "
   ]
  },
  {
   "cell_type": "code",
   "execution_count": 13,
   "id": "f355848a",
   "metadata": {},
   "outputs": [],
   "source": [
    "dataset[\"Age\"] = dataset[\"Age\"].round().astype(\"int64\")"
   ]
  },
  {
   "cell_type": "markdown",
   "id": "60b83eba",
   "metadata": {},
   "source": [
    "Anche le variabili `Height` e `Weight` subiranno un arrotondamento: \n",
    "- l'altezza (`Height`), essendo espressa in metri, è solita essere rappresentata con due cifre decimali.\n",
    "- il peso (`Weight`), essendo espresso in chilogrammi, è solito essere rappresentato con due cifre decimali."
   ]
  },
  {
   "cell_type": "code",
   "execution_count": 14,
   "id": "5c88b561",
   "metadata": {},
   "outputs": [
    {
     "data": {
      "text/plain": [
       "0       1.620000\n",
       "1       1.520000\n",
       "2       1.800000\n",
       "3       1.800000\n",
       "4       1.780000\n",
       "          ...   \n",
       "2106    1.710730\n",
       "2107    1.748584\n",
       "2108    1.752206\n",
       "2109    1.739450\n",
       "2110    1.738836\n",
       "Name: Height, Length: 2111, dtype: float64"
      ]
     },
     "execution_count": 14,
     "metadata": {},
     "output_type": "execute_result"
    }
   ],
   "source": [
    "# Iniziali valori non arrotondati per l'altezza (Height)\n",
    "dataset[\"Height\"]"
   ]
  },
  {
   "cell_type": "markdown",
   "id": "24cacf28",
   "metadata": {},
   "source": [
    "Si nota come non tutti i valori relativi all'altezza siano limitati a due valori decimali. Quindi si applicherà questo arrotondamento per tutti i valori."
   ]
  },
  {
   "cell_type": "code",
   "execution_count": 15,
   "id": "af09c132",
   "metadata": {
    "scrolled": true
   },
   "outputs": [
    {
     "data": {
      "text/plain": [
       "0       1.62\n",
       "1       1.52\n",
       "2       1.80\n",
       "3       1.80\n",
       "4       1.78\n",
       "        ... \n",
       "2106    1.71\n",
       "2107    1.75\n",
       "2108    1.75\n",
       "2109    1.74\n",
       "2110    1.74\n",
       "Name: Height, Length: 2111, dtype: float64"
      ]
     },
     "execution_count": 15,
     "metadata": {},
     "output_type": "execute_result"
    }
   ],
   "source": [
    "dataset[\"Height\"] = dataset[\"Height\"].round(2)\n",
    "dataset[\"Height\"]"
   ]
  },
  {
   "cell_type": "markdown",
   "id": "3e137f0f",
   "metadata": {},
   "source": [
    "Il medesimo discorso vale anche per il peso `Weight`, come anticipato."
   ]
  },
  {
   "cell_type": "code",
   "execution_count": 16,
   "id": "f0e6a447",
   "metadata": {},
   "outputs": [
    {
     "data": {
      "text/plain": [
       "0        64.00\n",
       "1        56.00\n",
       "2        77.00\n",
       "3        87.00\n",
       "4        89.80\n",
       "         ...  \n",
       "2106    131.41\n",
       "2107    133.74\n",
       "2108    133.69\n",
       "2109    133.35\n",
       "2110    133.47\n",
       "Name: Weight, Length: 2111, dtype: float64"
      ]
     },
     "execution_count": 16,
     "metadata": {},
     "output_type": "execute_result"
    }
   ],
   "source": [
    "dataset[\"Weight\"] = dataset[\"Weight\"].round(2)\n",
    "dataset[\"Weight\"]"
   ]
  },
  {
   "cell_type": "markdown",
   "id": "2d419cb5",
   "metadata": {},
   "source": [
    "Si visualizzano di seguito le modifiche apportate alle variabili con i relativi dettagli sull'uso di memoria."
   ]
  },
  {
   "cell_type": "code",
   "execution_count": 17,
   "id": "5f8bc9cc",
   "metadata": {},
   "outputs": [
    {
     "name": "stdout",
     "output_type": "stream",
     "text": [
      "<class 'pandas.core.frame.DataFrame'>\n",
      "RangeIndex: 2111 entries, 0 to 2110\n",
      "Data columns (total 17 columns):\n",
      " #   Column                          Non-Null Count  Dtype   \n",
      "---  ------                          --------------  -----   \n",
      " 0   Gender                          2111 non-null   category\n",
      " 1   Age                             2111 non-null   int64   \n",
      " 2   Height                          2111 non-null   float64 \n",
      " 3   Weight                          2111 non-null   float64 \n",
      " 4   family_history_with_overweight  2111 non-null   category\n",
      " 5   FAVC                            2111 non-null   category\n",
      " 6   FCVC                            2111 non-null   category\n",
      " 7   NCP                             2111 non-null   category\n",
      " 8   CAEC                            2111 non-null   category\n",
      " 9   SMOKE                           2111 non-null   category\n",
      " 10  CH2O                            2111 non-null   category\n",
      " 11  SCC                             2111 non-null   category\n",
      " 12  FAF                             2111 non-null   category\n",
      " 13  TUE                             2111 non-null   category\n",
      " 14  CALC                            2111 non-null   category\n",
      " 15  MTRANS                          2111 non-null   category\n",
      " 16  NObeyesdad                      2111 non-null   category\n",
      "dtypes: category(14), float64(2), int64(1)\n",
      "memory usage: 82.5 KB\n"
     ]
    }
   ],
   "source": [
    "dataset.info(memory_usage=\"deep\")"
   ]
  },
  {
   "cell_type": "markdown",
   "id": "b56e689f",
   "metadata": {},
   "source": [
    "Una volta manipolati i dati che lo necessitavano, il dataset finale (ossia quello su cui avverrà l'analisi e quello su cui si baserà il modello) è il seguente:"
   ]
  },
  {
   "cell_type": "code",
   "execution_count": 18,
   "id": "e42d1f68",
   "metadata": {
    "scrolled": false
   },
   "outputs": [
    {
     "data": {
      "text/html": [
       "<div>\n",
       "<style scoped>\n",
       "    .dataframe tbody tr th:only-of-type {\n",
       "        vertical-align: middle;\n",
       "    }\n",
       "\n",
       "    .dataframe tbody tr th {\n",
       "        vertical-align: top;\n",
       "    }\n",
       "\n",
       "    .dataframe thead th {\n",
       "        text-align: right;\n",
       "    }\n",
       "</style>\n",
       "<table border=\"1\" class=\"dataframe\">\n",
       "  <thead>\n",
       "    <tr style=\"text-align: right;\">\n",
       "      <th></th>\n",
       "      <th>Gender</th>\n",
       "      <th>Age</th>\n",
       "      <th>Height</th>\n",
       "      <th>Weight</th>\n",
       "      <th>family_history_with_overweight</th>\n",
       "      <th>FAVC</th>\n",
       "      <th>FCVC</th>\n",
       "      <th>NCP</th>\n",
       "      <th>CAEC</th>\n",
       "      <th>SMOKE</th>\n",
       "      <th>CH2O</th>\n",
       "      <th>SCC</th>\n",
       "      <th>FAF</th>\n",
       "      <th>TUE</th>\n",
       "      <th>CALC</th>\n",
       "      <th>MTRANS</th>\n",
       "      <th>NObeyesdad</th>\n",
       "    </tr>\n",
       "  </thead>\n",
       "  <tbody>\n",
       "    <tr>\n",
       "      <th>0</th>\n",
       "      <td>Female</td>\n",
       "      <td>21</td>\n",
       "      <td>1.62</td>\n",
       "      <td>64.00</td>\n",
       "      <td>yes</td>\n",
       "      <td>no</td>\n",
       "      <td>2</td>\n",
       "      <td>3</td>\n",
       "      <td>Sometimes</td>\n",
       "      <td>no</td>\n",
       "      <td>2</td>\n",
       "      <td>no</td>\n",
       "      <td>0</td>\n",
       "      <td>1</td>\n",
       "      <td>no</td>\n",
       "      <td>Public_Transportation</td>\n",
       "      <td>Normal_Weight</td>\n",
       "    </tr>\n",
       "    <tr>\n",
       "      <th>1</th>\n",
       "      <td>Female</td>\n",
       "      <td>21</td>\n",
       "      <td>1.52</td>\n",
       "      <td>56.00</td>\n",
       "      <td>yes</td>\n",
       "      <td>no</td>\n",
       "      <td>3</td>\n",
       "      <td>3</td>\n",
       "      <td>Sometimes</td>\n",
       "      <td>yes</td>\n",
       "      <td>3</td>\n",
       "      <td>yes</td>\n",
       "      <td>3</td>\n",
       "      <td>0</td>\n",
       "      <td>Sometimes</td>\n",
       "      <td>Public_Transportation</td>\n",
       "      <td>Normal_Weight</td>\n",
       "    </tr>\n",
       "    <tr>\n",
       "      <th>2</th>\n",
       "      <td>Male</td>\n",
       "      <td>23</td>\n",
       "      <td>1.80</td>\n",
       "      <td>77.00</td>\n",
       "      <td>yes</td>\n",
       "      <td>no</td>\n",
       "      <td>2</td>\n",
       "      <td>3</td>\n",
       "      <td>Sometimes</td>\n",
       "      <td>no</td>\n",
       "      <td>2</td>\n",
       "      <td>no</td>\n",
       "      <td>2</td>\n",
       "      <td>1</td>\n",
       "      <td>Frequently</td>\n",
       "      <td>Public_Transportation</td>\n",
       "      <td>Normal_Weight</td>\n",
       "    </tr>\n",
       "    <tr>\n",
       "      <th>3</th>\n",
       "      <td>Male</td>\n",
       "      <td>27</td>\n",
       "      <td>1.80</td>\n",
       "      <td>87.00</td>\n",
       "      <td>no</td>\n",
       "      <td>no</td>\n",
       "      <td>3</td>\n",
       "      <td>3</td>\n",
       "      <td>Sometimes</td>\n",
       "      <td>no</td>\n",
       "      <td>2</td>\n",
       "      <td>no</td>\n",
       "      <td>2</td>\n",
       "      <td>0</td>\n",
       "      <td>Frequently</td>\n",
       "      <td>Walking</td>\n",
       "      <td>Overweight_Level_I</td>\n",
       "    </tr>\n",
       "    <tr>\n",
       "      <th>4</th>\n",
       "      <td>Male</td>\n",
       "      <td>22</td>\n",
       "      <td>1.78</td>\n",
       "      <td>89.80</td>\n",
       "      <td>no</td>\n",
       "      <td>no</td>\n",
       "      <td>2</td>\n",
       "      <td>1</td>\n",
       "      <td>Sometimes</td>\n",
       "      <td>no</td>\n",
       "      <td>2</td>\n",
       "      <td>no</td>\n",
       "      <td>0</td>\n",
       "      <td>0</td>\n",
       "      <td>Sometimes</td>\n",
       "      <td>Public_Transportation</td>\n",
       "      <td>Overweight_Level_II</td>\n",
       "    </tr>\n",
       "    <tr>\n",
       "      <th>...</th>\n",
       "      <td>...</td>\n",
       "      <td>...</td>\n",
       "      <td>...</td>\n",
       "      <td>...</td>\n",
       "      <td>...</td>\n",
       "      <td>...</td>\n",
       "      <td>...</td>\n",
       "      <td>...</td>\n",
       "      <td>...</td>\n",
       "      <td>...</td>\n",
       "      <td>...</td>\n",
       "      <td>...</td>\n",
       "      <td>...</td>\n",
       "      <td>...</td>\n",
       "      <td>...</td>\n",
       "      <td>...</td>\n",
       "      <td>...</td>\n",
       "    </tr>\n",
       "    <tr>\n",
       "      <th>2106</th>\n",
       "      <td>Female</td>\n",
       "      <td>21</td>\n",
       "      <td>1.71</td>\n",
       "      <td>131.41</td>\n",
       "      <td>yes</td>\n",
       "      <td>yes</td>\n",
       "      <td>3</td>\n",
       "      <td>3</td>\n",
       "      <td>Sometimes</td>\n",
       "      <td>no</td>\n",
       "      <td>2</td>\n",
       "      <td>no</td>\n",
       "      <td>2</td>\n",
       "      <td>1</td>\n",
       "      <td>Sometimes</td>\n",
       "      <td>Public_Transportation</td>\n",
       "      <td>Obesity_Type_III</td>\n",
       "    </tr>\n",
       "    <tr>\n",
       "      <th>2107</th>\n",
       "      <td>Female</td>\n",
       "      <td>22</td>\n",
       "      <td>1.75</td>\n",
       "      <td>133.74</td>\n",
       "      <td>yes</td>\n",
       "      <td>yes</td>\n",
       "      <td>3</td>\n",
       "      <td>3</td>\n",
       "      <td>Sometimes</td>\n",
       "      <td>no</td>\n",
       "      <td>2</td>\n",
       "      <td>no</td>\n",
       "      <td>1</td>\n",
       "      <td>1</td>\n",
       "      <td>Sometimes</td>\n",
       "      <td>Public_Transportation</td>\n",
       "      <td>Obesity_Type_III</td>\n",
       "    </tr>\n",
       "    <tr>\n",
       "      <th>2108</th>\n",
       "      <td>Female</td>\n",
       "      <td>23</td>\n",
       "      <td>1.75</td>\n",
       "      <td>133.69</td>\n",
       "      <td>yes</td>\n",
       "      <td>yes</td>\n",
       "      <td>3</td>\n",
       "      <td>3</td>\n",
       "      <td>Sometimes</td>\n",
       "      <td>no</td>\n",
       "      <td>2</td>\n",
       "      <td>no</td>\n",
       "      <td>1</td>\n",
       "      <td>1</td>\n",
       "      <td>Sometimes</td>\n",
       "      <td>Public_Transportation</td>\n",
       "      <td>Obesity_Type_III</td>\n",
       "    </tr>\n",
       "    <tr>\n",
       "      <th>2109</th>\n",
       "      <td>Female</td>\n",
       "      <td>24</td>\n",
       "      <td>1.74</td>\n",
       "      <td>133.35</td>\n",
       "      <td>yes</td>\n",
       "      <td>yes</td>\n",
       "      <td>3</td>\n",
       "      <td>3</td>\n",
       "      <td>Sometimes</td>\n",
       "      <td>no</td>\n",
       "      <td>3</td>\n",
       "      <td>no</td>\n",
       "      <td>1</td>\n",
       "      <td>1</td>\n",
       "      <td>Sometimes</td>\n",
       "      <td>Public_Transportation</td>\n",
       "      <td>Obesity_Type_III</td>\n",
       "    </tr>\n",
       "    <tr>\n",
       "      <th>2110</th>\n",
       "      <td>Female</td>\n",
       "      <td>24</td>\n",
       "      <td>1.74</td>\n",
       "      <td>133.47</td>\n",
       "      <td>yes</td>\n",
       "      <td>yes</td>\n",
       "      <td>3</td>\n",
       "      <td>3</td>\n",
       "      <td>Sometimes</td>\n",
       "      <td>no</td>\n",
       "      <td>3</td>\n",
       "      <td>no</td>\n",
       "      <td>1</td>\n",
       "      <td>1</td>\n",
       "      <td>Sometimes</td>\n",
       "      <td>Public_Transportation</td>\n",
       "      <td>Obesity_Type_III</td>\n",
       "    </tr>\n",
       "  </tbody>\n",
       "</table>\n",
       "<p>2111 rows × 17 columns</p>\n",
       "</div>"
      ],
      "text/plain": [
       "      Gender  Age  Height  Weight family_history_with_overweight FAVC FCVC  \\\n",
       "0     Female   21    1.62   64.00                            yes   no    2   \n",
       "1     Female   21    1.52   56.00                            yes   no    3   \n",
       "2       Male   23    1.80   77.00                            yes   no    2   \n",
       "3       Male   27    1.80   87.00                             no   no    3   \n",
       "4       Male   22    1.78   89.80                             no   no    2   \n",
       "...      ...  ...     ...     ...                            ...  ...  ...   \n",
       "2106  Female   21    1.71  131.41                            yes  yes    3   \n",
       "2107  Female   22    1.75  133.74                            yes  yes    3   \n",
       "2108  Female   23    1.75  133.69                            yes  yes    3   \n",
       "2109  Female   24    1.74  133.35                            yes  yes    3   \n",
       "2110  Female   24    1.74  133.47                            yes  yes    3   \n",
       "\n",
       "     NCP       CAEC SMOKE CH2O  SCC FAF TUE        CALC  \\\n",
       "0      3  Sometimes    no    2   no   0   1          no   \n",
       "1      3  Sometimes   yes    3  yes   3   0   Sometimes   \n",
       "2      3  Sometimes    no    2   no   2   1  Frequently   \n",
       "3      3  Sometimes    no    2   no   2   0  Frequently   \n",
       "4      1  Sometimes    no    2   no   0   0   Sometimes   \n",
       "...   ..        ...   ...  ...  ...  ..  ..         ...   \n",
       "2106   3  Sometimes    no    2   no   2   1   Sometimes   \n",
       "2107   3  Sometimes    no    2   no   1   1   Sometimes   \n",
       "2108   3  Sometimes    no    2   no   1   1   Sometimes   \n",
       "2109   3  Sometimes    no    3   no   1   1   Sometimes   \n",
       "2110   3  Sometimes    no    3   no   1   1   Sometimes   \n",
       "\n",
       "                     MTRANS           NObeyesdad  \n",
       "0     Public_Transportation        Normal_Weight  \n",
       "1     Public_Transportation        Normal_Weight  \n",
       "2     Public_Transportation        Normal_Weight  \n",
       "3                   Walking   Overweight_Level_I  \n",
       "4     Public_Transportation  Overweight_Level_II  \n",
       "...                     ...                  ...  \n",
       "2106  Public_Transportation     Obesity_Type_III  \n",
       "2107  Public_Transportation     Obesity_Type_III  \n",
       "2108  Public_Transportation     Obesity_Type_III  \n",
       "2109  Public_Transportation     Obesity_Type_III  \n",
       "2110  Public_Transportation     Obesity_Type_III  \n",
       "\n",
       "[2111 rows x 17 columns]"
      ]
     },
     "execution_count": 18,
     "metadata": {},
     "output_type": "execute_result"
    }
   ],
   "source": [
    "# Visualizzazione dataset a seguito della manipolazione dei dati\n",
    "dataset"
   ]
  },
  {
   "cell_type": "markdown",
   "id": "6c3802e1",
   "metadata": {},
   "source": [
    "## Analisi esplorativa"
   ]
  },
  {
   "cell_type": "markdown",
   "id": "2ddd0105",
   "metadata": {},
   "source": [
    "Di seguito, si analizzano la distribuzione e le caratteristiche dei dati per ciascuna colonna, ossia per ciascuna variabile."
   ]
  },
  {
   "cell_type": "code",
   "execution_count": 19,
   "id": "8c990163",
   "metadata": {},
   "outputs": [],
   "source": [
    "# Importazione librerie necessarie per realizzazione grafici\n",
    "import matplotlib.pyplot as plt\n",
    "%matplotlib inline"
   ]
  },
  {
   "cell_type": "code",
   "execution_count": 20,
   "id": "6311b366",
   "metadata": {},
   "outputs": [
    {
     "data": {
      "text/html": [
       "<div>\n",
       "<style scoped>\n",
       "    .dataframe tbody tr th:only-of-type {\n",
       "        vertical-align: middle;\n",
       "    }\n",
       "\n",
       "    .dataframe tbody tr th {\n",
       "        vertical-align: top;\n",
       "    }\n",
       "\n",
       "    .dataframe thead th {\n",
       "        text-align: right;\n",
       "    }\n",
       "</style>\n",
       "<table border=\"1\" class=\"dataframe\">\n",
       "  <thead>\n",
       "    <tr style=\"text-align: right;\">\n",
       "      <th></th>\n",
       "      <th>Age</th>\n",
       "      <th>Height</th>\n",
       "      <th>Weight</th>\n",
       "    </tr>\n",
       "  </thead>\n",
       "  <tbody>\n",
       "    <tr>\n",
       "      <th>count</th>\n",
       "      <td>2111.000000</td>\n",
       "      <td>2111.000000</td>\n",
       "      <td>2111.000000</td>\n",
       "    </tr>\n",
       "    <tr>\n",
       "      <th>mean</th>\n",
       "      <td>24.315964</td>\n",
       "      <td>1.701620</td>\n",
       "      <td>86.586035</td>\n",
       "    </tr>\n",
       "    <tr>\n",
       "      <th>std</th>\n",
       "      <td>6.357078</td>\n",
       "      <td>0.093368</td>\n",
       "      <td>26.191163</td>\n",
       "    </tr>\n",
       "    <tr>\n",
       "      <th>min</th>\n",
       "      <td>14.000000</td>\n",
       "      <td>1.450000</td>\n",
       "      <td>39.000000</td>\n",
       "    </tr>\n",
       "    <tr>\n",
       "      <th>25%</th>\n",
       "      <td>20.000000</td>\n",
       "      <td>1.630000</td>\n",
       "      <td>65.470000</td>\n",
       "    </tr>\n",
       "    <tr>\n",
       "      <th>50%</th>\n",
       "      <td>23.000000</td>\n",
       "      <td>1.700000</td>\n",
       "      <td>83.000000</td>\n",
       "    </tr>\n",
       "    <tr>\n",
       "      <th>75%</th>\n",
       "      <td>26.000000</td>\n",
       "      <td>1.770000</td>\n",
       "      <td>107.430000</td>\n",
       "    </tr>\n",
       "    <tr>\n",
       "      <th>max</th>\n",
       "      <td>61.000000</td>\n",
       "      <td>1.980000</td>\n",
       "      <td>173.000000</td>\n",
       "    </tr>\n",
       "  </tbody>\n",
       "</table>\n",
       "</div>"
      ],
      "text/plain": [
       "               Age       Height       Weight\n",
       "count  2111.000000  2111.000000  2111.000000\n",
       "mean     24.315964     1.701620    86.586035\n",
       "std       6.357078     0.093368    26.191163\n",
       "min      14.000000     1.450000    39.000000\n",
       "25%      20.000000     1.630000    65.470000\n",
       "50%      23.000000     1.700000    83.000000\n",
       "75%      26.000000     1.770000   107.430000\n",
       "max      61.000000     1.980000   173.000000"
      ]
     },
     "execution_count": 20,
     "metadata": {},
     "output_type": "execute_result"
    }
   ],
   "source": [
    "dataset.describe()"
   ]
  },
  {
   "cell_type": "markdown",
   "id": "70435336",
   "metadata": {},
   "source": [
    "Dai valori ottenuti, se ne deducono le seguenti informazioni:\n",
    "\n",
    "- `Age`:  \n",
    "    - Ci sono 2111 valori non nulli. Si ha quindi nuovamente conferma di come non vi siano valori mancanti per tale variabile. \n",
    "    - L'età media è di circa 24 anni.\n",
    "    - La deviazione standard è di circa 6.36 anni, indicando una dispersione dei valori relativamente bassa. I dati, infatti, sono raggruppati intorno alla media: l'età delle persone è relativamente omogenea intorno ai 24 anni, ma ci possono essere alcune persone più giovani o più anziane con una differenza rispetto alla media che può arrivare fino a circa 6 anni.\n",
    "    - L'età minima è di 14 anni: indica la persona più giovane.\n",
    "    - L'età massima è di di 61 anni: indica la persona più anziana.\n",
    "    - Il 25% (primo quartile) dei dati ha un'età inferiore o uguale a 20 anni, mentre il 75% (terzo quartile) dei dati ha un'età inferiore o uguale a 26 anni.\n",
    "    - La medianda dell'età è 23. Indica il valore centrale dell'età nel dataset: il 50% dei dati ha un'età superiore a 23 anni e il restante 50% ha un'età inferiore a 23 anni.\n",
    "\n",
    "- `Height`:\n",
    "    - Ci sono 2111 valori non nulli. Si ha quindi nuovamente conferma di come non vi siano valori mancanti per tale variabile.\n",
    "    - L'altezza media è di circa 1.70 metri.\n",
    "    - La deviazione standard è di circa 0.09 metri (ossia 9 centimetri), indicando una bassa dispersione intorno alla media.\n",
    "    - L'altezza minima è di 1.45 metri: indica la persona più bassa.\n",
    "    - L'altezza massima è di 1.98 metri: indica la persona più alta.\n",
    "    - Il 25% dei dati ha un'altezza inferiore o uguale a 1.63 metri, mentre il 75% dei dati ha un'altezza inferiore o uguale a 1.77 metri.\n",
    "    - La mediana dell'altezza è 1.70. Indica il valore centrale dell'altezza nel dataset: il 50% dei dati ha un'altezza superiore a 1.70 metri e il restante 50% ha un'altezza inferiore a 1.70 metri.\n",
    "\n",
    "- `Weight`:\n",
    "    - Ci sono 2111 valori non nulli. Si ha quindi nuovamente conferma di come non vi siano valori mancanti per tale variabile.\n",
    "    - Il peso medio è di circa 86.59 kg.\n",
    "    - La deviazione standard è di circa 26.19 kg, indicando una dispersione dei valori relativamente alta rispetto alla media. Questo valore suggerisce una certa variabilità nei pesi delle persone all'interno del dataset, ma è un risultato che si può definire come prevedibile essendo un dataset in cui si hanno diversi livelli di obesità e quindi svariati pesi.\n",
    "    - Il peso minimo è di 39 kg: indica chiaramente un peso molto basso il quale fa pensare che corrisponda ad una persona definibile di peso insufficiente.\n",
    "    - Il peso massimo è di 173 kg: indica chiaramente un peso molto alto il quale fa pensare che corrisponda ad una persona definibile come \"obesa\".\n",
    "    - Il 25% dei dati ha un peso inferiore o uguale a 65.47 kg, mentre il 75% dei dati ha un peso inferiore o uguale a 107.43 kg.\n",
    "    - La mediana del peso è di 83 kg. Indica il valore centrale del peso nel dataset: il 50% dei dati ha un peso superiore a 83 kg e il restante 50% ha un peso inferiore a 83 kg."
   ]
  },
  {
   "cell_type": "markdown",
   "id": "357b894e",
   "metadata": {},
   "source": [
    "Potrebbe essere curioso capire fin da subito gli aspetti e le abitudini che ha la persona con un maggiore peso e quella con un minore peso, per aver già un'idea approssimativa di come possano influire diversi fattori piuttosto che altri sul peso di una persona."
   ]
  },
  {
   "cell_type": "code",
   "execution_count": 21,
   "id": "8b70b57d",
   "metadata": {},
   "outputs": [
    {
     "data": {
      "text/plain": [
       "Gender                                           Female\n",
       "Age                                                  20\n",
       "Height                                             1.54\n",
       "Weight                                             39.0\n",
       "family_history_with_overweight                      yes\n",
       "FAVC                                                yes\n",
       "FCVC                                                  1\n",
       "NCP                                                   3\n",
       "CAEC                                          Sometimes\n",
       "SMOKE                                                no\n",
       "CH2O                                                  2\n",
       "SCC                                                  no\n",
       "FAF                                                   3\n",
       "TUE                                                   2\n",
       "CALC                                          Sometimes\n",
       "MTRANS                            Public_Transportation\n",
       "NObeyesdad                          Insufficient_Weight\n",
       "Name: 395, dtype: object"
      ]
     },
     "execution_count": 21,
     "metadata": {},
     "output_type": "execute_result"
    }
   ],
   "source": [
    "# Persona con minor peso\n",
    "dataset.loc[dataset[\"Weight\"].idxmin()]"
   ]
  },
  {
   "cell_type": "markdown",
   "id": "65217dce",
   "metadata": {},
   "source": [
    "La persona con il peso più basso all'interno del dataset è classificata di peso insufficiente come ci si poteva aspettare. È una femmina e per avere un'età di 20 anni ha un'altezza pari a 1.54 metri: è quindi piuttosto bassa. Non è una fumatrice e nonostante abbia familiari in sovrappeso, lei al contrario ha un peso insufficiente. Infine è una persona che svolge molta attività fisica ma passa diverso tempo a svolgere anche attività sedentarie; assume poche verdure nei pasti e qualche volta consuma cibo al di fuori dei pasti principali."
   ]
  },
  {
   "cell_type": "code",
   "execution_count": 22,
   "id": "ebab29c5",
   "metadata": {
    "scrolled": true
   },
   "outputs": [
    {
     "data": {
      "text/plain": [
       "Gender                                             Male\n",
       "Age                                                  18\n",
       "Height                                             1.87\n",
       "Weight                                            173.0\n",
       "family_history_with_overweight                      yes\n",
       "FAVC                                                yes\n",
       "FCVC                                                  3\n",
       "NCP                                                   3\n",
       "CAEC                                         Frequently\n",
       "SMOKE                                                no\n",
       "CH2O                                                  2\n",
       "SCC                                                  no\n",
       "FAF                                                   2\n",
       "TUE                                                   1\n",
       "CALC                                          Sometimes\n",
       "MTRANS                            Public_Transportation\n",
       "NObeyesdad                             Obesity_Type_III\n",
       "Name: 344, dtype: object"
      ]
     },
     "execution_count": 22,
     "metadata": {},
     "output_type": "execute_result"
    }
   ],
   "source": [
    "# Persona con maggior peso\n",
    "dataset.loc[dataset[\"Weight\"].idxmax()]"
   ]
  },
  {
   "cell_type": "markdown",
   "id": "0229f610",
   "metadata": {},
   "source": [
    "La persona con il peso più alto all'interno del dataset è un maschio ed è classificata come obesa di livello 3, ossia al massimo livello di obesità possibile come ci si poteva aspettare. Ha 18 anni ed è piuttosto alto per la sua età: è alto 1.87 metri.\n",
    "Inoltre si notano sue abitudini sbagliate, come l'assunzione frequente di alimenti ad alto contenuto di grassi e zuccheri e il frequente consumo di cibo al di fuori dei pasti principali, oltre a dedicare un certo tempo alle attività sedentarie.  \n",
    "L'individuo assume comunque una grande quantità di verdure e sostiene di svolgere anche diversa attività fisica.  \n",
    "Possiede almeno un familiare in sovrappeso."
   ]
  },
  {
   "cell_type": "markdown",
   "id": "43de3171",
   "metadata": {},
   "source": [
    "Aumentiamo di generalità, cercando di capire come sono distribuiti i vari valori relativi al peso delle persone.    \n",
    "Si esplicitano quindi queste informazioni tramite grafici, che rendono più facilmente intuibile la distribuzione dei dati."
   ]
  },
  {
   "cell_type": "code",
   "execution_count": 23,
   "id": "0fa03860",
   "metadata": {
    "scrolled": true
   },
   "outputs": [
    {
     "data": {
      "image/png": "[encoded data removed]",
      "text/plain": [
       "<Figure size 1296x216 with 1 Axes>"
      ]
     },
     "metadata": {
      "needs_background": "light"
     },
     "output_type": "display_data"
    }
   ],
   "source": [
    "plt.figure(figsize=(18, 3));\n",
    "pd.cut(dataset[\"Weight\"], 13).value_counts().sort_index().plot.bar();\n",
    "plt.title(\"Weight\");"
   ]
  },
  {
   "cell_type": "markdown",
   "id": "1f3ab449",
   "metadata": {},
   "source": [
    "Il grafico a barre evidenzia come vi siano relativamente poche persone con un peso molto basso, così come allo stesso tempo vi siano poche persone con un peso molto alto. Si osserva comunque una certa variabilità come osservato anche dal valore ottenuto sulla deviazione standard."
   ]
  },
  {
   "cell_type": "markdown",
   "id": "f9e2a0f0",
   "metadata": {},
   "source": [
    "Le osservazioni ottenute dal metodo _describe_ sulle variabili numeriche sono riscontrabili anche mediante istogrammi."
   ]
  },
  {
   "cell_type": "code",
   "execution_count": 24,
   "id": "c00a1799",
   "metadata": {},
   "outputs": [
    {
     "data": {
      "image/png": "[encoded data removed]",
      "text/plain": [
       "<Figure size 1296x360 with 2 Axes>"
      ]
     },
     "metadata": {
      "needs_background": "light"
     },
     "output_type": "display_data"
    }
   ],
   "source": [
    "plt.figure(figsize=(18, 5))\n",
    "\n",
    "dataset[\"Age\"].plot.hist(bins=20, ax=plt.subplot(1, 2, 1))\n",
    "plt.title(\"Age\");\n",
    "\n",
    "dataset[\"Height\"].plot.hist(bins=20, ax=plt.subplot(1, 2, 2))\n",
    "plt.title(\"Height\");"
   ]
  },
  {
   "cell_type": "markdown",
   "id": "073c7207",
   "metadata": {},
   "source": [
    "Il grafico che esplicita meglio tutte le informazioni fornite dal metodo _describe_ è un box plot. Lo si vede in merito al peso `Weight`."
   ]
  },
  {
   "cell_type": "code",
   "execution_count": 25,
   "id": "6e066d88",
   "metadata": {
    "scrolled": true
   },
   "outputs": [
    {
     "data": {
      "image/png": "[encoded data removed]",
      "text/plain": [
       "<Figure size 576x360 with 1 Axes>"
      ]
     },
     "metadata": {
      "needs_background": "light"
     },
     "output_type": "display_data"
    }
   ],
   "source": [
    "plt.figure(figsize=(8, 5));\n",
    "dataset[\"Weight\"].plot.box(showmeans=True);"
   ]
  },
  {
   "cell_type": "markdown",
   "id": "2cdf9ce0",
   "metadata": {},
   "source": [
    "Si verifica inoltre se sussiste una correlazione tra altezza (`Height`) e peso (`Weight`)."
   ]
  },
  {
   "cell_type": "code",
   "execution_count": 26,
   "id": "d65b424b",
   "metadata": {
    "scrolled": true
   },
   "outputs": [
    {
     "data": {
      "image/png": "[encoded data removed]",
      "text/plain": [
       "<Figure size 432x288 with 1 Axes>"
      ]
     },
     "metadata": {
      "needs_background": "light"
     },
     "output_type": "display_data"
    }
   ],
   "source": [
    "dataset.plot.scatter(\"Height\", \"Weight\");\n",
    "plt.title(\"Height-weight correlation\");"
   ]
  },
  {
   "cell_type": "markdown",
   "id": "266bc5fe",
   "metadata": {},
   "source": [
    "Semplicemente dal solo grafico si può affermare come non vi sia una vera e propria correlazione tra altezza e peso. Infatti non è sempre vero che a persone più alte corrisponde anche un peso maggiore: si nota come ad una persona alta 1.90 metri corrisponda un peso di 60 kg.  \n",
    "Si ha infatti una distribuzione dei dati piuttosto equa e non emerge nessuna correlazione diretta."
   ]
  },
  {
   "cell_type": "markdown",
   "id": "83daa294",
   "metadata": {},
   "source": [
    "Si verifica se sussiste una correlazione tra età (`Age`) e peso (`Weight`)."
   ]
  },
  {
   "cell_type": "code",
   "execution_count": 27,
   "id": "455165d2",
   "metadata": {
    "scrolled": true
   },
   "outputs": [
    {
     "data": {
      "image/png": "[encoded data removed]",
      "text/plain": [
       "<Figure size 432x288 with 1 Axes>"
      ]
     },
     "metadata": {
      "needs_background": "light"
     },
     "output_type": "display_data"
    }
   ],
   "source": [
    "dataset.plot.scatter(\"Age\", \"Weight\");\n",
    "plt.title(\"Age-weight correlation\");"
   ]
  },
  {
   "cell_type": "markdown",
   "id": "b78fe37e",
   "metadata": {},
   "source": [
    "Non emerge nemmeno ora una correlazione diretta tra età e peso: questo è dovuto dal fatto che il 75% delle persone hanno un età inferiore a 26 anni. Si ha quindi una bassa distribuzione di valori di età elevati e di conseguenza non emerge il concetto che ad un età maggiore corrisponde un peso maggiore, bensì emerge come nella fascia tra i 20 e i 40 anni vi sia una grande variabilità di pesi possibili."
   ]
  },
  {
   "cell_type": "markdown",
   "id": "4c33a890",
   "metadata": {},
   "source": [
    "È possibile verificare empiricamente quanto detto attraverso il calcolo del coefficiente di correlazione di Pearson. Tale coefficiente valuta infatti il grado di correlazione tra due variabili."
   ]
  },
  {
   "cell_type": "code",
   "execution_count": 28,
   "id": "8399aef0",
   "metadata": {},
   "outputs": [],
   "source": [
    "age = dataset[\"Age\"].values\n",
    "height = dataset[\"Height\"].values\n",
    "weight = dataset[\"Weight\"].values"
   ]
  },
  {
   "cell_type": "code",
   "execution_count": 29,
   "id": "02b65f26",
   "metadata": {
    "scrolled": true
   },
   "outputs": [
    {
     "data": {
      "text/plain": [
       "0.203451260438734"
      ]
     },
     "execution_count": 29,
     "metadata": {},
     "output_type": "execute_result"
    }
   ],
   "source": [
    "# Coefficiente di correlazione di Pearson tra età e peso\n",
    "np.mean((age-age.mean()) * (weight-weight.mean())) / (age.std() * weight.std())"
   ]
  },
  {
   "cell_type": "markdown",
   "id": "8cc7a2ee",
   "metadata": {},
   "source": [
    "Si ottiene un valore abbastanza distante da 1. Ciò indica come effettivamente via sia una correlazione piuttosto debole tra età e peso.  \n",
    "Si può quindi affermare come non vi sia una significativa correlazione tra le due variabili come si era osservato dal solo grafico."
   ]
  },
  {
   "cell_type": "code",
   "execution_count": 30,
   "id": "32fd4255",
   "metadata": {},
   "outputs": [
    {
     "data": {
      "text/plain": [
       "0.46226361430075796"
      ]
     },
     "execution_count": 30,
     "metadata": {},
     "output_type": "execute_result"
    }
   ],
   "source": [
    "# Coefficiente di correlazione di Pearson tra altezza e peso\n",
    "np.mean((height-height.mean()) * (weight-weight.mean())) / (height.std() * weight.std())"
   ]
  },
  {
   "cell_type": "markdown",
   "id": "fd1f80b2",
   "metadata": {},
   "source": [
    "Tra altezza e peso si ottiene un valore più significativo, ma che pur sempre non evidenzia una diretta ed una forte correlazione nemmeno tra tali due variabili. É comunque un valore che suggerisce che quando l'altezza aumenta, il peso tende ad aumentare anche esso, ma non in modo perfettamente proporzionale e significativo.  \n",
    "La relazione tra le variabili può essere considerata moderata."
   ]
  },
  {
   "cell_type": "markdown",
   "id": "a6c3b2cc",
   "metadata": {},
   "source": [
    "Si procede ad analizzare le variabili categoriche, partendo dalla distribuzione di individui maschi e individui femmine nel dataset."
   ]
  },
  {
   "cell_type": "code",
   "execution_count": 31,
   "id": "37cca478",
   "metadata": {},
   "outputs": [
    {
     "data": {
      "text/plain": [
       "Male      0.505921\n",
       "Female    0.494079\n",
       "Name: Gender, dtype: float64"
      ]
     },
     "execution_count": 31,
     "metadata": {},
     "output_type": "execute_result"
    }
   ],
   "source": [
    "dataset[\"Gender\"].value_counts(normalize=True)"
   ]
  },
  {
   "cell_type": "markdown",
   "id": "4e2e51f1",
   "metadata": {},
   "source": [
    "Si osserva come i dati raccolti siano suddivisi a metà tra maschi e femmine.  \n",
    "Un grafico a torta rende visivamente meglio l'idea di tale suddivisione."
   ]
  },
  {
   "cell_type": "code",
   "execution_count": 32,
   "id": "70df54ee",
   "metadata": {},
   "outputs": [
    {
     "data": {
      "image/png": "[encoded data removed]",
      "text/plain": [
       "<Figure size 576x360 with 1 Axes>"
      ]
     },
     "metadata": {},
     "output_type": "display_data"
    }
   ],
   "source": [
    "plt.figure(figsize=(8, 5));\n",
    "dataset[\"Gender\"].value_counts(normalize=True).plot.pie(autopct=\"%.2f%%\", colors=[\"deepskyblue\", \"pink\"]);"
   ]
  },
  {
   "cell_type": "markdown",
   "id": "ec18b056",
   "metadata": {},
   "source": [
    "Si precisa di conseguenza che il dataset analizzato contiene dati riguardanti individui con equa distribuzione tra genere maschile e femminile e con un'età compresa tra i 14 e i 61 anni."
   ]
  },
  {
   "cell_type": "code",
   "execution_count": 33,
   "id": "e0819baa",
   "metadata": {
    "scrolled": true
   },
   "outputs": [
    {
     "data": {
      "image/png": "[encoded data removed]",
      "text/plain": [
       "<Figure size 576x360 with 1 Axes>"
      ]
     },
     "metadata": {},
     "output_type": "display_data"
    }
   ],
   "source": [
    "plt.figure(figsize=(8, 5));\n",
    "dataset[\"family_history_with_overweight\"].value_counts().plot.pie(colors=[\"lightcoral\", \"lightgreen\"]);"
   ]
  },
  {
   "cell_type": "markdown",
   "id": "1cd9243a",
   "metadata": {},
   "source": [
    "Una grande maggioranza degli individui ha familiari con problemi di sovrappeso."
   ]
  },
  {
   "cell_type": "code",
   "execution_count": 34,
   "id": "8a5af1d9",
   "metadata": {
    "scrolled": true
   },
   "outputs": [
    {
     "data": {
      "image/png": "[encoded data removed]",
      "text/plain": [
       "<Figure size 576x360 with 1 Axes>"
      ]
     },
     "metadata": {},
     "output_type": "display_data"
    }
   ],
   "source": [
    "plt.figure(figsize=(8, 5));\n",
    "dataset[\"FAVC\"].value_counts().plot.pie(colors=[\"lightcoral\", \"lightgreen\"]);\n",
    "plt.title(\"Junk food consumption\");"
   ]
  },
  {
   "cell_type": "markdown",
   "id": "f3de0df5",
   "metadata": {},
   "source": [
    "Vi è una grande assunzione di cibi ad alto contenuto calorico (\"cibo spazzatura\") da parte degli individui."
   ]
  },
  {
   "cell_type": "code",
   "execution_count": 35,
   "id": "a81bcd32",
   "metadata": {},
   "outputs": [
    {
     "data": {
      "image/png": "[encoded data removed]",
      "text/plain": [
       "<Figure size 576x360 with 1 Axes>"
      ]
     },
     "metadata": {
      "needs_background": "light"
     },
     "output_type": "display_data"
    }
   ],
   "source": [
    "plt.figure(figsize=(8, 5));\n",
    "dataset[\"CAEC\"].value_counts().sort_index().plot.bar();\n",
    "plt.title(\"Snacking between meals\");"
   ]
  },
  {
   "cell_type": "markdown",
   "id": "1bfb9bea",
   "metadata": {},
   "source": [
    "Non vi è la tendenza di assumere con elevata frequenza cibi al di fuori dei pasti principali: l'assunzione di cibi al di fuori dei pasti principali si presenta prevalentemente qualche volta."
   ]
  },
  {
   "cell_type": "code",
   "execution_count": 36,
   "id": "55da0da3",
   "metadata": {
    "scrolled": false
   },
   "outputs": [
    {
     "data": {
      "image/png": "[encoded data removed]",
      "text/plain": [
       "<Figure size 576x360 with 1 Axes>"
      ]
     },
     "metadata": {},
     "output_type": "display_data"
    }
   ],
   "source": [
    "plt.figure(figsize=(8, 5));\n",
    "dataset[\"SMOKE\"].value_counts().plot.pie();\n",
    "plt.title(\"Smokers\");"
   ]
  },
  {
   "cell_type": "markdown",
   "id": "67b101c1",
   "metadata": {},
   "source": [
    "Quasi tutti gli individui non fumano."
   ]
  },
  {
   "cell_type": "code",
   "execution_count": 37,
   "id": "0f34cf3b",
   "metadata": {},
   "outputs": [
    {
     "data": {
      "image/png": "[encoded data removed]",
      "text/plain": [
       "<Figure size 576x360 with 1 Axes>"
      ]
     },
     "metadata": {
      "needs_background": "light"
     },
     "output_type": "display_data"
    }
   ],
   "source": [
    "plt.figure(figsize=(8, 5));\n",
    "dataset[\"FAF\"].value_counts().sort_index().plot.bar();\n",
    "plt.title(\"Physical activity frequency\");"
   ]
  },
  {
   "cell_type": "markdown",
   "id": "518e0732",
   "metadata": {},
   "source": [
    "Si osserva come prevalgano individui che si possono definire poco sportivi: dominano frequenze basse (0 e 1) mentre gli individui che svolgono frequentemente attività fisica (2 e 3) sono in minoranza."
   ]
  },
  {
   "cell_type": "code",
   "execution_count": 38,
   "id": "f826fd9c",
   "metadata": {},
   "outputs": [
    {
     "data": {
      "image/png": "[encoded data removed]",
      "text/plain": [
       "<Figure size 576x360 with 1 Axes>"
      ]
     },
     "metadata": {
      "needs_background": "light"
     },
     "output_type": "display_data"
    }
   ],
   "source": [
    "plt.figure(figsize=(8, 5));\n",
    "dataset[\"TUE\"].value_counts().sort_index().plot.bar();\n",
    "plt.title(\"Sedentary activity times\");"
   ]
  },
  {
   "cell_type": "markdown",
   "id": "ba3e0a16",
   "metadata": {},
   "source": [
    "Non ci sono molti individui che svolgono una vita sedentaria."
   ]
  },
  {
   "cell_type": "markdown",
   "id": "150c8088",
   "metadata": {},
   "source": [
    "Si analizza di seguito la variabile `CALC`, che rappresenta l'assunzione di alcol da parte di una persona."
   ]
  },
  {
   "cell_type": "code",
   "execution_count": 39,
   "id": "23f68b66",
   "metadata": {},
   "outputs": [
    {
     "data": {
      "text/plain": [
       "Sometimes     1401\n",
       "no             639\n",
       "Frequently      70\n",
       "Always           1\n",
       "Name: CALC, dtype: int64"
      ]
     },
     "execution_count": 39,
     "metadata": {},
     "output_type": "execute_result"
    }
   ],
   "source": [
    "dataset[\"CALC\"].value_counts()"
   ]
  },
  {
   "cell_type": "markdown",
   "id": "7842304a",
   "metadata": {},
   "source": [
    "Si osserva come vi sia un unico valore \"Always\". Questo valore potrebbe portare ad errori nel momento della valutazione del modello, in quanto unico valore presente nel dataset.  \n",
    "\n",
    "\n",
    "Inoltre, il valore \"Always\" potrebbe non fornire molte informazioni utili essendo raro e rappresentando solo una minima parte dei casi. In tal senso, decido ugualmente di utilizzare tale valore all'interno del modello ma aggregandolo ai valori della categoria \"Frequently\" essendo essa più significativa.  \n",
    "\n",
    "\n",
    "Prima di procedere con la modifica, si può affermare come l'unico valore \"Always\" uguale ad 1 sia definibile come un _outlier_. Se lo si volesse verificare graficamente, lo si può vedere con un box plot; sarà necessario convertire i valori categorici in valori numerici."
   ]
  },
  {
   "cell_type": "code",
   "execution_count": 40,
   "id": "3c765c1f",
   "metadata": {
    "scrolled": true
   },
   "outputs": [
    {
     "data": {
      "text/plain": [
       "0            no\n",
       "1     Sometimes\n",
       "2    Frequently\n",
       "3    Frequently\n",
       "4     Sometimes\n",
       "5     Sometimes\n",
       "6     Sometimes\n",
       "Name: CALC, dtype: category\n",
       "Categories (4, object): ['Always', 'Frequently', 'Sometimes', 'no']"
      ]
     },
     "execution_count": 40,
     "metadata": {},
     "output_type": "execute_result"
    }
   ],
   "source": [
    "dataset[\"CALC\"].head(7)"
   ]
  },
  {
   "cell_type": "code",
   "execution_count": 41,
   "id": "aba05993",
   "metadata": {
    "scrolled": false
   },
   "outputs": [
    {
     "data": {
      "text/plain": [
       "0    0\n",
       "1    1\n",
       "2    2\n",
       "3    2\n",
       "4    1\n",
       "5    1\n",
       "6    1\n",
       "Name: CALC, dtype: int64"
      ]
     },
     "execution_count": 41,
     "metadata": {},
     "output_type": "execute_result"
    }
   ],
   "source": [
    "# Dizionario di mapping per conversione in valori numerici\n",
    "mapping = {\n",
    "    \"no\": 0, \n",
    "    \"Sometimes\": 1, \n",
    "    \"Frequently\": 2, \n",
    "    \"Always\": 3\n",
    "}\n",
    "\n",
    "# Variabile contenente i soli valori numerici mappati della colonna \"CALC\"\n",
    "CALC_values = dataset[\"CALC\"].map(mapping).astype(\"int64\")\n",
    "CALC_values.head(7)"
   ]
  },
  {
   "cell_type": "code",
   "execution_count": 42,
   "id": "45ab3da7",
   "metadata": {},
   "outputs": [
    {
     "data": {
      "text/plain": [
       "1    1401\n",
       "0     639\n",
       "2      70\n",
       "3       1\n",
       "Name: CALC, dtype: int64"
      ]
     },
     "execution_count": 42,
     "metadata": {},
     "output_type": "execute_result"
    }
   ],
   "source": [
    "CALC_values.value_counts()"
   ]
  },
  {
   "cell_type": "code",
   "execution_count": 43,
   "id": "eb85b9f0",
   "metadata": {},
   "outputs": [
    {
     "data": {
      "image/png": "[encoded data removed]",
      "text/plain": [
       "<Figure size 576x360 with 1 Axes>"
      ]
     },
     "metadata": {
      "needs_background": "light"
     },
     "output_type": "display_data"
    }
   ],
   "source": [
    "plt.figure(figsize=(8, 5));\n",
    "CALC_values.plot.box(showmeans=True);"
   ]
  },
  {
   "cell_type": "markdown",
   "id": "3404b72b",
   "metadata": {},
   "source": [
    "Si verifica tramite al box plot come vi sia un evidente outlier: è unico e corrisponde di fatti all'unico valore \"Always\" presente nel dataset."
   ]
  },
  {
   "cell_type": "markdown",
   "id": "057a57d2",
   "metadata": {},
   "source": [
    "Osservato ciò, decido di applicare la vera e propria modifica al dataset, in particolare nella colonna in questione."
   ]
  },
  {
   "cell_type": "code",
   "execution_count": 44,
   "id": "f466051b",
   "metadata": {},
   "outputs": [
    {
     "data": {
      "text/plain": [
       "Sometimes     1401\n",
       "no             639\n",
       "Frequently      71\n",
       "Always           0\n",
       "Name: CALC, dtype: int64"
      ]
     },
     "execution_count": 44,
     "metadata": {},
     "output_type": "execute_result"
    }
   ],
   "source": [
    "# Modifica sul dataset\n",
    "dataset.loc[dataset[\"CALC\"] == \"Always\", \"CALC\"] = \"Frequently\"\n",
    "dataset[\"CALC\"].value_counts()"
   ]
  },
  {
   "cell_type": "markdown",
   "id": "0245b3b0",
   "metadata": {},
   "source": [
    "Poichè a seguito della modifica si ottiene _\"Always\" = 0_, decido allora di eliminare tale categoria (avendo aggregato il valore \"Always\" a \"Frequently\")."
   ]
  },
  {
   "cell_type": "code",
   "execution_count": 45,
   "id": "1969e6a8",
   "metadata": {},
   "outputs": [
    {
     "data": {
      "text/plain": [
       "Sometimes     1401\n",
       "no             639\n",
       "Frequently      71\n",
       "Name: CALC, dtype: int64"
      ]
     },
     "execution_count": 45,
     "metadata": {},
     "output_type": "execute_result"
    }
   ],
   "source": [
    "# Ri-definizione variabile \"CALC\": variabile categorica con le 3 sole categorie rimanenti\n",
    "dataset[\"CALC\"] = pd.Categorical(dataset[\"CALC\"], categories=[\"Frequently\", \"Sometimes\", \"no\"])\n",
    "dataset[\"CALC\"].value_counts()"
   ]
  },
  {
   "cell_type": "code",
   "execution_count": 46,
   "id": "e266091c",
   "metadata": {},
   "outputs": [
    {
     "data": {
      "text/plain": [
       "CategoricalDtype(categories=['Frequently', 'Sometimes', 'no'], ordered=False)"
      ]
     },
     "execution_count": 46,
     "metadata": {},
     "output_type": "execute_result"
    }
   ],
   "source": [
    "dataset[\"CALC\"].dtype"
   ]
  },
  {
   "cell_type": "code",
   "execution_count": 47,
   "id": "ceeb315d",
   "metadata": {},
   "outputs": [
    {
     "data": {
      "image/png": "[encoded data removed]",
      "text/plain": [
       "<Figure size 576x360 with 1 Axes>"
      ]
     },
     "metadata": {
      "needs_background": "light"
     },
     "output_type": "display_data"
    }
   ],
   "source": [
    "plt.figure(figsize=(8, 5));\n",
    "dataset[\"CALC\"].value_counts().sort_index().plot.bar();\n",
    "plt.title(\"Alcohol consumption\");"
   ]
  },
  {
   "cell_type": "markdown",
   "id": "ddfb206a",
   "metadata": {},
   "source": [
    "Fatto ciò, si ridefinisce inoltre la variabile `CALC` nel seguente modo:  \n",
    "`CALC`: Rappresenta l'assunzione di alcol da parte dell'individuo, espresso nei possibili seguenti valori: \"Sometimes\", \"Frequently\" e \"no\"."
   ]
  },
  {
   "cell_type": "markdown",
   "id": "7f7c248b",
   "metadata": {},
   "source": [
    "Procedendo con l'analisi ... "
   ]
  },
  {
   "cell_type": "code",
   "execution_count": 48,
   "id": "18f694ff",
   "metadata": {},
   "outputs": [
    {
     "data": {
      "image/png": "[encoded data removed]",
      "text/plain": [
       "<Figure size 576x360 with 1 Axes>"
      ]
     },
     "metadata": {
      "needs_background": "light"
     },
     "output_type": "display_data"
    }
   ],
   "source": [
    "plt.figure(figsize=(8, 5));\n",
    "dataset[\"MTRANS\"].value_counts().plot.bar();\n",
    "plt.title(\"Transport types\");"
   ]
  },
  {
   "cell_type": "markdown",
   "id": "7c9026f3",
   "metadata": {},
   "source": [
    "Dal grafico si nota una netta preferenza per il trasporto pubblico e l'automobile."
   ]
  },
  {
   "cell_type": "markdown",
   "id": "ab1179c4",
   "metadata": {},
   "source": [
    "Si osservano infine i possibili livelli di obesità e la loro distribuzione."
   ]
  },
  {
   "cell_type": "code",
   "execution_count": 49,
   "id": "64ed4f11",
   "metadata": {},
   "outputs": [
    {
     "data": {
      "image/png": "[encoded data removed]",
      "text/plain": [
       "<Figure size 576x360 with 1 Axes>"
      ]
     },
     "metadata": {},
     "output_type": "display_data"
    }
   ],
   "source": [
    "plt.figure(figsize=(8, 5));\n",
    "dataset[\"NObeyesdad\"].value_counts().plot.pie(autopct=\"%.2f%%\");\n",
    "plt.title(\"Obesity levels\");\n",
    "plt.ylabel(\"\");"
   ]
  },
  {
   "cell_type": "markdown",
   "id": "18be4929",
   "metadata": {},
   "source": [
    "Vi è un'equa classificazione e distribuzione degli individui tra i vari livelli possibili di obesità (a causa del bilanciamento con filtro SMOTE)."
   ]
  },
  {
   "cell_type": "markdown",
   "id": "4dd700d8",
   "metadata": {},
   "source": [
    "**OSSERVAZIONE**  \n",
    "\n",
    "Prima di procedere con l'addestramento e la validazione del modello predittivo, è bene fare un'ulteriore precisazione.  \n",
    "Essendo lo scopo predire il peso di una persona, non è detto che si conosca a priori la classe di obesità a cui appartiene un individuo: la sua classe di obesità potrebbe essere nota a priori, o potrebbe essere definita come conseguenza del valore ottenuto sul peso; tuttavia questa seconda opzione è la più probabile: la classe di obesità, solitamente, è una conseguenza che emerge dal peso di una persona.  \n",
    "Diviene comunque lecito analizzare entrambi i casi: sia il caso in cui la classe di obesità sia una conseguenza del valore ottenuto sul peso (e che quindi essa non sia conosciuta a priori per la predizione del peso), sia il caso in cui la classe di obesità sia conosciuta a priori.  \n",
    "\n",
    "Si procede con la iniziale _non considereazione_ della classe di obesità di un individuo e la crezione del relativo modello di predizione."
   ]
  },
  {
   "cell_type": "markdown",
   "id": "61933047",
   "metadata": {},
   "source": [
    "## Modello predittivo _senza_ la conoscenza della classe di obesità dell'individuo."
   ]
  },
  {
   "cell_type": "markdown",
   "id": "971f995a",
   "metadata": {},
   "source": [
    "**Iniziale analisi esplorativa per realizzazione modello**\n",
    "\n",
    "Facendo una distinzione totale e completa delle variabili del dataset, si distinguono variabili: \n",
    "- numeriche\n",
    "- categoriche ordinali\n",
    "- categoriche nominali \n",
    "\n",
    "Tuttavia le variabili categoriche ordinali e categoriche nominali possono essere considerate assieme come generiche variabili categoriche.  \n",
    "Si può quindi dire che si distinguono:\n",
    "- variabili numeriche\n",
    "- variabili categoriche"
   ]
  },
  {
   "cell_type": "code",
   "execution_count": 50,
   "id": "100e2017",
   "metadata": {},
   "outputs": [],
   "source": [
    "numeric_vars = [\"Age\", \"Height\"]\n",
    "categorical_vars = [\"Gender\", \"family_history_with_overweight\", \"FAVC\", \"SMOKE\", \"SCC\",\n",
    "                    \"FCVC\", \"NCP\", \"CAEC\", \"CH2O\", \"FAF\", \"TUE\", \"CALC\", \"MTRANS\"]"
   ]
  },
  {
   "cell_type": "markdown",
   "id": "a83b3670",
   "metadata": {},
   "source": [
    "Si precisa che anche la variabile `Weight` è una variabile numerica. Tuttavia essa sarà quella che ci si prefigge di predire attraverso la creazione di un modello di regressione e quindi non sarà considerata: è la variabile target.  \n",
    "Allo stesso tempo si precisa che anche la variabile `NObeyesdad` è una variabile categorica. Tuttavia tale variabile sarà considerata solo in un secondo momento come spiegato e anticipato in precedenza."
   ]
  },
  {
   "cell_type": "code",
   "execution_count": 51,
   "id": "619b3455",
   "metadata": {},
   "outputs": [],
   "source": [
    "# Importazione librerie necessarie per addestramento e validazione del modello predittivo\n",
    "import sklearn\n",
    "from sklearn.model_selection import train_test_split\n",
    "from sklearn.linear_model import LinearRegression, Ridge, Lasso, ElasticNet\n",
    "from sklearn.preprocessing import PolynomialFeatures, StandardScaler, OneHotEncoder\n",
    "from sklearn.pipeline import Pipeline\n",
    "from sklearn.compose import ColumnTransformer\n",
    "from sklearn.metrics import r2_score, mean_squared_error "
   ]
  },
  {
   "cell_type": "markdown",
   "id": "c8dd4ead",
   "metadata": {},
   "source": [
    "Di seguito si suddivide il dataset in training set e validation set prima di procedere."
   ]
  },
  {
   "cell_type": "code",
   "execution_count": 52,
   "id": "2b447480",
   "metadata": {
    "scrolled": true
   },
   "outputs": [],
   "source": [
    "X = dataset.drop(columns=[\"Weight\", \"NObeyesdad\"])  # Features\n",
    "y = dataset[\"Weight\"]                               # Target\n",
    "\n",
    "# Training set (70%) e validation set (30%)\n",
    "X_train, X_val, y_train, y_val = train_test_split(X, y, test_size=0.3, random_state=42)"
   ]
  },
  {
   "cell_type": "markdown",
   "id": "5fffe74d",
   "metadata": {},
   "source": [
    "Si definisce inoltre una funzione che abbia lo scopo di calcolare le metriche di valutazione dei vari modelli di regressione."
   ]
  },
  {
   "cell_type": "code",
   "execution_count": 53,
   "id": "f115f4ce",
   "metadata": {},
   "outputs": [],
   "source": [
    "# Funzioni per valutazione modelli\n",
    "pd.options.display.float_format = \"{:.6f}\".format\n",
    "\n",
    "def relative_error(y_true, y_pred):\n",
    "    return np.mean(np.abs((y_true - y_pred) / y_true)) * 100\n",
    "\n",
    "def model_performance(X, y, model):\n",
    "    y_pred = model.predict(X)\n",
    "    r2 = r2_score(y, y_pred)\n",
    "    mse = mean_squared_error(y, y_pred)\n",
    "    re = relative_error(y, y_pred)\n",
    "    print(\"R²:\", r2)\n",
    "    print(\"MSE:\", mse)\n",
    "    print(f\"Relative error: {re:.3f}%\")"
   ]
  },
  {
   "cell_type": "markdown",
   "id": "2204fcbd",
   "metadata": {},
   "source": [
    "L'obiettivo è quindi prevedere il peso di un individuo senza conoscerne la classe di obesità."
   ]
  },
  {
   "cell_type": "code",
   "execution_count": 54,
   "id": "34169f39",
   "metadata": {
    "scrolled": false
   },
   "outputs": [
    {
     "data": {
      "text/html": [
       "<div>\n",
       "<style scoped>\n",
       "    .dataframe tbody tr th:only-of-type {\n",
       "        vertical-align: middle;\n",
       "    }\n",
       "\n",
       "    .dataframe tbody tr th {\n",
       "        vertical-align: top;\n",
       "    }\n",
       "\n",
       "    .dataframe thead th {\n",
       "        text-align: right;\n",
       "    }\n",
       "</style>\n",
       "<table border=\"1\" class=\"dataframe\">\n",
       "  <thead>\n",
       "    <tr style=\"text-align: right;\">\n",
       "      <th></th>\n",
       "      <th>Gender</th>\n",
       "      <th>Age</th>\n",
       "      <th>Height</th>\n",
       "      <th>family_history_with_overweight</th>\n",
       "      <th>FAVC</th>\n",
       "      <th>FCVC</th>\n",
       "      <th>NCP</th>\n",
       "      <th>CAEC</th>\n",
       "      <th>SMOKE</th>\n",
       "      <th>CH2O</th>\n",
       "      <th>SCC</th>\n",
       "      <th>FAF</th>\n",
       "      <th>TUE</th>\n",
       "      <th>CALC</th>\n",
       "      <th>MTRANS</th>\n",
       "    </tr>\n",
       "  </thead>\n",
       "  <tbody>\n",
       "    <tr>\n",
       "      <th>1930</th>\n",
       "      <td>Female</td>\n",
       "      <td>26</td>\n",
       "      <td>1.630000</td>\n",
       "      <td>yes</td>\n",
       "      <td>yes</td>\n",
       "      <td>3</td>\n",
       "      <td>3</td>\n",
       "      <td>Sometimes</td>\n",
       "      <td>no</td>\n",
       "      <td>1</td>\n",
       "      <td>no</td>\n",
       "      <td>0</td>\n",
       "      <td>1</td>\n",
       "      <td>Sometimes</td>\n",
       "      <td>Public_Transportation</td>\n",
       "    </tr>\n",
       "    <tr>\n",
       "      <th>1803</th>\n",
       "      <td>Female</td>\n",
       "      <td>26</td>\n",
       "      <td>1.660000</td>\n",
       "      <td>yes</td>\n",
       "      <td>yes</td>\n",
       "      <td>3</td>\n",
       "      <td>3</td>\n",
       "      <td>Sometimes</td>\n",
       "      <td>no</td>\n",
       "      <td>3</td>\n",
       "      <td>no</td>\n",
       "      <td>0</td>\n",
       "      <td>0</td>\n",
       "      <td>Sometimes</td>\n",
       "      <td>Public_Transportation</td>\n",
       "    </tr>\n",
       "    <tr>\n",
       "      <th>1198</th>\n",
       "      <td>Male</td>\n",
       "      <td>18</td>\n",
       "      <td>1.750000</td>\n",
       "      <td>yes</td>\n",
       "      <td>yes</td>\n",
       "      <td>3</td>\n",
       "      <td>3</td>\n",
       "      <td>Sometimes</td>\n",
       "      <td>no</td>\n",
       "      <td>3</td>\n",
       "      <td>no</td>\n",
       "      <td>1</td>\n",
       "      <td>0</td>\n",
       "      <td>Sometimes</td>\n",
       "      <td>Public_Transportation</td>\n",
       "    </tr>\n",
       "    <tr>\n",
       "      <th>15</th>\n",
       "      <td>Female</td>\n",
       "      <td>22</td>\n",
       "      <td>1.700000</td>\n",
       "      <td>yes</td>\n",
       "      <td>no</td>\n",
       "      <td>3</td>\n",
       "      <td>3</td>\n",
       "      <td>Always</td>\n",
       "      <td>no</td>\n",
       "      <td>2</td>\n",
       "      <td>yes</td>\n",
       "      <td>2</td>\n",
       "      <td>1</td>\n",
       "      <td>Sometimes</td>\n",
       "      <td>Public_Transportation</td>\n",
       "    </tr>\n",
       "    <tr>\n",
       "      <th>816</th>\n",
       "      <td>Male</td>\n",
       "      <td>23</td>\n",
       "      <td>1.670000</td>\n",
       "      <td>yes</td>\n",
       "      <td>yes</td>\n",
       "      <td>2</td>\n",
       "      <td>3</td>\n",
       "      <td>Sometimes</td>\n",
       "      <td>no</td>\n",
       "      <td>2</td>\n",
       "      <td>no</td>\n",
       "      <td>0</td>\n",
       "      <td>2</td>\n",
       "      <td>Sometimes</td>\n",
       "      <td>Public_Transportation</td>\n",
       "    </tr>\n",
       "  </tbody>\n",
       "</table>\n",
       "</div>"
      ],
      "text/plain": [
       "      Gender  Age   Height family_history_with_overweight FAVC FCVC NCP  \\\n",
       "1930  Female   26 1.630000                            yes  yes    3   3   \n",
       "1803  Female   26 1.660000                            yes  yes    3   3   \n",
       "1198    Male   18 1.750000                            yes  yes    3   3   \n",
       "15    Female   22 1.700000                            yes   no    3   3   \n",
       "816     Male   23 1.670000                            yes  yes    2   3   \n",
       "\n",
       "           CAEC SMOKE CH2O  SCC FAF TUE       CALC                 MTRANS  \n",
       "1930  Sometimes    no    1   no   0   1  Sometimes  Public_Transportation  \n",
       "1803  Sometimes    no    3   no   0   0  Sometimes  Public_Transportation  \n",
       "1198  Sometimes    no    3   no   1   0  Sometimes  Public_Transportation  \n",
       "15       Always    no    2  yes   2   1  Sometimes  Public_Transportation  \n",
       "816   Sometimes    no    2   no   0   2  Sometimes  Public_Transportation  "
      ]
     },
     "execution_count": 54,
     "metadata": {},
     "output_type": "execute_result"
    }
   ],
   "source": [
    "X_train.head()"
   ]
  },
  {
   "cell_type": "markdown",
   "id": "47701d36",
   "metadata": {},
   "source": [
    "Anzitutto, dall'analisi effettuata precedentemente, si è osservato come vi fosse una relazione non del tutto lineare tra altezza (`Height`) e peso (`Weight`). Tant'è che dal calcolo del coefficiente di correlazione di Pearson si evidenziava una moderata correlazione lineare tra le due variabili.  \n",
    "Dimostriamo quindi quanto osservato precedentemente: un modello lineare creato sulla sola conoscenza dell'altezza di un individuo non permetterà di ottenere un buon modello per predire il peso."
   ]
  },
  {
   "cell_type": "code",
   "execution_count": 55,
   "id": "529c7bb2",
   "metadata": {},
   "outputs": [],
   "source": [
    "X_train_trial = X_train[[\"Height\"]]\n",
    "X_val_trial = X_val[[\"Height\"]]"
   ]
  },
  {
   "cell_type": "code",
   "execution_count": 56,
   "id": "21a4d0b2",
   "metadata": {},
   "outputs": [
    {
     "data": {
      "text/plain": [
       "LinearRegression()"
      ]
     },
     "execution_count": 56,
     "metadata": {},
     "output_type": "execute_result"
    }
   ],
   "source": [
    "model = LinearRegression()\n",
    "model.fit(X_train_trial, y_train)"
   ]
  },
  {
   "cell_type": "code",
   "execution_count": 57,
   "id": "be36a12c",
   "metadata": {},
   "outputs": [
    {
     "name": "stdout",
     "output_type": "stream",
     "text": [
      "R²: 0.22004995377640613\n",
      "MSE: 557.8503496657396\n",
      "Relative error: 25.681%\n"
     ]
    }
   ],
   "source": [
    "model_performance(X_val_trial, y_val, model)"
   ]
  },
  {
   "cell_type": "markdown",
   "id": "18d77d59",
   "metadata": {},
   "source": [
    "Dal risultato ottenuto dalle metriche di performance si ha un'idea di quanto il modello sia in grado di adattarsi ai dati e di quanto sia preciso nelle sue previsioni: i risultati indicano che il modello non si adatta bene e ha una precisione relativamente bassa."
   ]
  },
  {
   "cell_type": "markdown",
   "id": "93659e13",
   "metadata": {},
   "source": [
    "Si procede quindi a creare un primo modello in cui si utilizzano le sole variabili numeriche.  \n",
    "Si utilizza un modello di regressione lineare Ridge essendo particolarmente utile quando si lavora con dataset che hanno diverse variabili, poichè applica una regolarizzazione (L2) che aiuta a controllare la complessità del modello e a mitigare l'effetto dell'overfitting."
   ]
  },
  {
   "cell_type": "code",
   "execution_count": 58,
   "id": "9a2d5888",
   "metadata": {},
   "outputs": [],
   "source": [
    "X_train_num = X_train[numeric_vars]\n",
    "X_val_num = X_val[numeric_vars]"
   ]
  },
  {
   "cell_type": "code",
   "execution_count": 59,
   "id": "34d604de",
   "metadata": {},
   "outputs": [
    {
     "data": {
      "text/html": [
       "<div>\n",
       "<style scoped>\n",
       "    .dataframe tbody tr th:only-of-type {\n",
       "        vertical-align: middle;\n",
       "    }\n",
       "\n",
       "    .dataframe tbody tr th {\n",
       "        vertical-align: top;\n",
       "    }\n",
       "\n",
       "    .dataframe thead th {\n",
       "        text-align: right;\n",
       "    }\n",
       "</style>\n",
       "<table border=\"1\" class=\"dataframe\">\n",
       "  <thead>\n",
       "    <tr style=\"text-align: right;\">\n",
       "      <th></th>\n",
       "      <th>Age</th>\n",
       "      <th>Height</th>\n",
       "    </tr>\n",
       "  </thead>\n",
       "  <tbody>\n",
       "    <tr>\n",
       "      <th>1930</th>\n",
       "      <td>26</td>\n",
       "      <td>1.630000</td>\n",
       "    </tr>\n",
       "    <tr>\n",
       "      <th>1803</th>\n",
       "      <td>26</td>\n",
       "      <td>1.660000</td>\n",
       "    </tr>\n",
       "    <tr>\n",
       "      <th>1198</th>\n",
       "      <td>18</td>\n",
       "      <td>1.750000</td>\n",
       "    </tr>\n",
       "    <tr>\n",
       "      <th>15</th>\n",
       "      <td>22</td>\n",
       "      <td>1.700000</td>\n",
       "    </tr>\n",
       "    <tr>\n",
       "      <th>816</th>\n",
       "      <td>23</td>\n",
       "      <td>1.670000</td>\n",
       "    </tr>\n",
       "  </tbody>\n",
       "</table>\n",
       "</div>"
      ],
      "text/plain": [
       "      Age   Height\n",
       "1930   26 1.630000\n",
       "1803   26 1.660000\n",
       "1198   18 1.750000\n",
       "15     22 1.700000\n",
       "816    23 1.670000"
      ]
     },
     "execution_count": 59,
     "metadata": {},
     "output_type": "execute_result"
    }
   ],
   "source": [
    "X_train_num.head()"
   ]
  },
  {
   "cell_type": "code",
   "execution_count": 60,
   "id": "c96ead1c",
   "metadata": {
    "scrolled": false
   },
   "outputs": [
    {
     "name": "stdout",
     "output_type": "stream",
     "text": [
      "R²: 0.26679132716228526\n",
      "MSE: 524.4191169689541\n",
      "Relative error: 24.137%\n"
     ]
    }
   ],
   "source": [
    "model = Ridge(alpha=1)\n",
    "model.fit(X_train_num, y_train)\n",
    "model_performance(X_val_num, y_val, model)"
   ]
  },
  {
   "cell_type": "markdown",
   "id": "b63169eb",
   "metadata": {},
   "source": [
    "Si applica di seguito anche la standardizzazione delle variabili."
   ]
  },
  {
   "cell_type": "code",
   "execution_count": 61,
   "id": "92292b44",
   "metadata": {},
   "outputs": [
    {
     "name": "stdout",
     "output_type": "stream",
     "text": [
      "R²: 0.26916343766902606\n",
      "MSE: 522.7224920606817\n",
      "Relative error: 24.011%\n"
     ]
    }
   ],
   "source": [
    "model = Pipeline([\n",
    "    (\"scaler\", StandardScaler()),\n",
    "    (\"regr\", Ridge(alpha=1))\n",
    "])\n",
    "model.fit(X_train_num, y_train)\n",
    "model_performance(X_val_num, y_val, model)"
   ]
  },
  {
   "cell_type": "markdown",
   "id": "39a5928c",
   "metadata": {},
   "source": [
    "Il modello di regressione lineare con regolarizzazione ha una capacità di spiegazione piuttosto limitata rispetto ai dati di validazione. Solo circa il 27% della variabilità della variabile target (`Weight`) può essere spiegata dalle features utilizzate nel modello e allo stesso tempo un valore così elevato per l'MSE indica come il modello, di fatti, produca previsioni lontane da quelli che sono i valori reali.\n",
    "Si nota inoltre che anche l'influenza dalla standardizzazione è minima per il modello."
   ]
  },
  {
   "cell_type": "markdown",
   "id": "16984165",
   "metadata": {},
   "source": [
    "A questo punto si possono fare le seguenti due osservazioni:\n",
    "1. Il modello di regressione lineare con regolarizzazione non è in grado di spiegare con effetto significativo la variabile target: potrebbero esserci relazioni non lineari tra le variabili numeriche.\n",
    "2. Il solo utilizzo delle features numeriche potrebbe essere limitante per la validazione di un valido modello.\n",
    "\n",
    "\n",
    "Si prosegue testando se un modello di regressione polinomiale permette di ottenere un modello migliore, essendo esso in grado di catturare le relazioni non lineari tra le features e la variabile target.  \n",
    "È bene ricordare infatti come tra le variabili numeriche non vi fosse una forte correlazione lineare come avevamo dimostrato precedentemente attraverso la realizzazione di scatter plot tra `Age` e `Weight` e tra `Height` e `Weight`, ma anche attraverso il calcolo del coefficiente di correlazione di Pearson. Questo ci fa portare all'esplorazione di modelli più avanzati, come la regressione polinomiale, per catturare eventuali relazioni più complesse e non lineari tra le variabili."
   ]
  },
  {
   "cell_type": "code",
   "execution_count": 62,
   "id": "3d8bb61c",
   "metadata": {
    "scrolled": true
   },
   "outputs": [
    {
     "name": "stdout",
     "output_type": "stream",
     "text": [
      "R²: 0.3291429587978777\n",
      "MSE: 479.8228256057337\n",
      "Relative error: 22.787%\n"
     ]
    }
   ],
   "source": [
    "model = Pipeline([\n",
    "    (\"poly\", PolynomialFeatures(degree=3, include_bias=False)),\n",
    "    (\"scaler\", StandardScaler()),\n",
    "    (\"regr\", Ridge(alpha=1))\n",
    "])\n",
    "model.fit(X_train_num, y_train)\n",
    "model_performance(X_val_num, y_val, model)"
   ]
  },
  {
   "cell_type": "markdown",
   "id": "204a9680",
   "metadata": {},
   "source": [
    "Si può notare che il modello di regressione polinomiale ha ottenuto un punteggio di accuratezza R² leggermente maggiore rispetto al modello di regressione lineare. Anche l'MSE e l'errore relativo dimostrano un piccolo miglioramento. Questo suggerisce che il modello di regressione polinomiale è in grado di spiegare una maggiore percentuale della variabilità presente nei dati rispetto al modello lineare, ossia che il modello è in grado di catturare meglio le relazioni non lineari tra le variabili numeriche rispetto al modello lineare (che aveva un punteggio R² inferiore).  \n",
    "Tuttavia, entrambi i valori di R² sono relativamente bassi. Questo potrebbe indicare che le sole variabili numeriche (`Age` e `Height`) non sono sufficienti per creare un modello di predizione accurato sul peso (`Weight`).  \n",
    "Si deduce, quindi, come i risultati ottenuti siano dovuti dalla non considerazione delle variabili categoriche nel modello, le quali potrebbero avere un impatto maggiore sulla variabile target.  \n",
    "Prima di includere tali ulteriori features (le variabili categoriche) assieme a quelle già esaminate (le variabili numeriche), si esamina l'importanza delle sole restanti variabili, ossia si analizza l'influenza delle variabili categoriche nel modello."
   ]
  },
  {
   "cell_type": "code",
   "execution_count": 63,
   "id": "ee356f16",
   "metadata": {},
   "outputs": [],
   "source": [
    "X_train_cat = X_train[categorical_vars]\n",
    "X_val_cat = X_val[categorical_vars]"
   ]
  },
  {
   "cell_type": "code",
   "execution_count": 64,
   "id": "f49690d9",
   "metadata": {
    "scrolled": true
   },
   "outputs": [
    {
     "data": {
      "text/html": [
       "<div>\n",
       "<style scoped>\n",
       "    .dataframe tbody tr th:only-of-type {\n",
       "        vertical-align: middle;\n",
       "    }\n",
       "\n",
       "    .dataframe tbody tr th {\n",
       "        vertical-align: top;\n",
       "    }\n",
       "\n",
       "    .dataframe thead th {\n",
       "        text-align: right;\n",
       "    }\n",
       "</style>\n",
       "<table border=\"1\" class=\"dataframe\">\n",
       "  <thead>\n",
       "    <tr style=\"text-align: right;\">\n",
       "      <th></th>\n",
       "      <th>Gender</th>\n",
       "      <th>family_history_with_overweight</th>\n",
       "      <th>FAVC</th>\n",
       "      <th>SMOKE</th>\n",
       "      <th>SCC</th>\n",
       "      <th>FCVC</th>\n",
       "      <th>NCP</th>\n",
       "      <th>CAEC</th>\n",
       "      <th>CH2O</th>\n",
       "      <th>FAF</th>\n",
       "      <th>TUE</th>\n",
       "      <th>CALC</th>\n",
       "      <th>MTRANS</th>\n",
       "    </tr>\n",
       "  </thead>\n",
       "  <tbody>\n",
       "    <tr>\n",
       "      <th>1930</th>\n",
       "      <td>Female</td>\n",
       "      <td>yes</td>\n",
       "      <td>yes</td>\n",
       "      <td>no</td>\n",
       "      <td>no</td>\n",
       "      <td>3</td>\n",
       "      <td>3</td>\n",
       "      <td>Sometimes</td>\n",
       "      <td>1</td>\n",
       "      <td>0</td>\n",
       "      <td>1</td>\n",
       "      <td>Sometimes</td>\n",
       "      <td>Public_Transportation</td>\n",
       "    </tr>\n",
       "    <tr>\n",
       "      <th>1803</th>\n",
       "      <td>Female</td>\n",
       "      <td>yes</td>\n",
       "      <td>yes</td>\n",
       "      <td>no</td>\n",
       "      <td>no</td>\n",
       "      <td>3</td>\n",
       "      <td>3</td>\n",
       "      <td>Sometimes</td>\n",
       "      <td>3</td>\n",
       "      <td>0</td>\n",
       "      <td>0</td>\n",
       "      <td>Sometimes</td>\n",
       "      <td>Public_Transportation</td>\n",
       "    </tr>\n",
       "    <tr>\n",
       "      <th>1198</th>\n",
       "      <td>Male</td>\n",
       "      <td>yes</td>\n",
       "      <td>yes</td>\n",
       "      <td>no</td>\n",
       "      <td>no</td>\n",
       "      <td>3</td>\n",
       "      <td>3</td>\n",
       "      <td>Sometimes</td>\n",
       "      <td>3</td>\n",
       "      <td>1</td>\n",
       "      <td>0</td>\n",
       "      <td>Sometimes</td>\n",
       "      <td>Public_Transportation</td>\n",
       "    </tr>\n",
       "    <tr>\n",
       "      <th>15</th>\n",
       "      <td>Female</td>\n",
       "      <td>yes</td>\n",
       "      <td>no</td>\n",
       "      <td>no</td>\n",
       "      <td>yes</td>\n",
       "      <td>3</td>\n",
       "      <td>3</td>\n",
       "      <td>Always</td>\n",
       "      <td>2</td>\n",
       "      <td>2</td>\n",
       "      <td>1</td>\n",
       "      <td>Sometimes</td>\n",
       "      <td>Public_Transportation</td>\n",
       "    </tr>\n",
       "    <tr>\n",
       "      <th>816</th>\n",
       "      <td>Male</td>\n",
       "      <td>yes</td>\n",
       "      <td>yes</td>\n",
       "      <td>no</td>\n",
       "      <td>no</td>\n",
       "      <td>2</td>\n",
       "      <td>3</td>\n",
       "      <td>Sometimes</td>\n",
       "      <td>2</td>\n",
       "      <td>0</td>\n",
       "      <td>2</td>\n",
       "      <td>Sometimes</td>\n",
       "      <td>Public_Transportation</td>\n",
       "    </tr>\n",
       "  </tbody>\n",
       "</table>\n",
       "</div>"
      ],
      "text/plain": [
       "      Gender family_history_with_overweight FAVC SMOKE  SCC FCVC NCP  \\\n",
       "1930  Female                            yes  yes    no   no    3   3   \n",
       "1803  Female                            yes  yes    no   no    3   3   \n",
       "1198    Male                            yes  yes    no   no    3   3   \n",
       "15    Female                            yes   no    no  yes    3   3   \n",
       "816     Male                            yes  yes    no   no    2   3   \n",
       "\n",
       "           CAEC CH2O FAF TUE       CALC                 MTRANS  \n",
       "1930  Sometimes    1   0   1  Sometimes  Public_Transportation  \n",
       "1803  Sometimes    3   0   0  Sometimes  Public_Transportation  \n",
       "1198  Sometimes    3   1   0  Sometimes  Public_Transportation  \n",
       "15       Always    2   2   1  Sometimes  Public_Transportation  \n",
       "816   Sometimes    2   0   2  Sometimes  Public_Transportation  "
      ]
     },
     "execution_count": 64,
     "metadata": {},
     "output_type": "execute_result"
    }
   ],
   "source": [
    "X_train_cat.head()"
   ]
  },
  {
   "cell_type": "code",
   "execution_count": 65,
   "id": "3fe2e96d",
   "metadata": {},
   "outputs": [
    {
     "name": "stdout",
     "output_type": "stream",
     "text": [
      "R²: 0.5126782853566113\n",
      "MSE: 348.5512825209683\n",
      "Relative error: 18.723%\n"
     ]
    }
   ],
   "source": [
    "model = Pipeline([\n",
    "    (\"encoder\", OneHotEncoder()),\n",
    "    (\"regr\", Ridge(alpha=1))\n",
    "])\n",
    "model.fit(X_train_cat, y_train)\n",
    "model_performance(X_val_cat, y_val, model)"
   ]
  },
  {
   "cell_type": "markdown",
   "id": "3fbecad2",
   "metadata": {},
   "source": [
    "- Si ottiene un valore di accuratezza R² superiore rispetto a quello derivante dall'uso esclusivo delle variabili numeriche. Questo risultato suggerisce chiaramente l'importanza di tali variabili nella predizione del peso.  \n",
    "- Si ottiene un valore più basso per l'MSE (nonostante sia comunque piuttosto elevato) rispetto a quello derivante dall'uso esclusivo delle variabili numeriche, il quale indica come il modello stia migliorando nelle sue previsioni, avvicinandosi ai valori reali.\n",
    "- L'errore relativo pari al 18.7% conferma il miglioramento osservato dai due precedenti risultati di R² e MSE.\n",
    "- All'interno del dataset, le variabili categoriche emergono come predominanti nel numero (sono 13 non considerando il livello di obesità), dimostrando un potenziale livello di significatività superiore rispetto alle variabili numeriche. Questo andrà comunque dimostrato e verificato in seguito.\n",
    "- Le variabili categoriche riescono a spiegare una parte moderata della variabilità presente nella variabile target."
   ]
  },
  {
   "cell_type": "markdown",
   "id": "35b76e9e",
   "metadata": {},
   "source": [
    "**Creazione del modello**  \n",
    "\n",
    "Si procede infine con l'inclusione di entrambe le tipologie di variabili nel modello (e quindi tutte le possibili variabili): sia le variabili numeriche, sia le variabili categoriche.    \n",
    "Notare inoltre che in questo primo momento non si applica la regressione polinomiale per le variabili numeriche nonostante si fosse osservato precedentemente come essa potesse portare alla realizzazione di un modello migliore, essendo in grado di catturare le relazioni non linari."
   ]
  },
  {
   "cell_type": "code",
   "execution_count": 66,
   "id": "3c25026b",
   "metadata": {},
   "outputs": [
    {
     "name": "stdout",
     "output_type": "stream",
     "text": [
      "R²: 0.6027744859759556\n",
      "MSE: 284.11100552834745\n",
      "Relative error: 17.354%\n"
     ]
    }
   ],
   "source": [
    "model_1 = Pipeline([\n",
    "    (\"preproc\", ColumnTransformer([\n",
    "        (\"numeric\", StandardScaler(), numeric_vars),\n",
    "        (\"categorical\", OneHotEncoder(), categorical_vars)\n",
    "    ])),\n",
    "    (\"regr\", Ridge(alpha=1))\n",
    "])\n",
    "model_1.fit(X_train, y_train)\n",
    "model_performance(X_val, y_val, model_1)"
   ]
  },
  {
   "cell_type": "markdown",
   "id": "7383c298",
   "metadata": {},
   "source": [
    "Dai valori ottenuti dalle metriche di valutazione del modello, si comprende come si sia ottenuto un modello migliore rispetto ai precedenti. Infatti, considerando sia le variabili numeriche e sia le variabili categoriche, si ha una migliore capacità predittiva del modello."
   ]
  },
  {
   "cell_type": "markdown",
   "id": "2d441d90",
   "metadata": {},
   "source": [
    "Visualizziamo i coefficienti del modello in un dataframe, dove in ogni riga abbiamo i possibili valori di ogni variabile con un relativo coefficiente."
   ]
  },
  {
   "cell_type": "code",
   "execution_count": 67,
   "id": "95eaca38",
   "metadata": {},
   "outputs": [],
   "source": [
    "all_feature_names = np.r_[\n",
    "    numeric_vars,\n",
    "    model_1.named_steps[\"preproc\"].named_transformers_[\"categorical\"].get_feature_names(categorical_vars),\n",
    "].tolist()"
   ]
  },
  {
   "cell_type": "code",
   "execution_count": 68,
   "id": "9bf576c5",
   "metadata": {
    "scrolled": false
   },
   "outputs": [
    {
     "data": {
      "text/html": [
       "<div>\n",
       "<style scoped>\n",
       "    .dataframe tbody tr th:only-of-type {\n",
       "        vertical-align: middle;\n",
       "    }\n",
       "\n",
       "    .dataframe tbody tr th {\n",
       "        vertical-align: top;\n",
       "    }\n",
       "\n",
       "    .dataframe thead th {\n",
       "        text-align: right;\n",
       "    }\n",
       "</style>\n",
       "<table border=\"1\" class=\"dataframe\">\n",
       "  <thead>\n",
       "    <tr style=\"text-align: right;\">\n",
       "      <th></th>\n",
       "      <th>scaled_and_ridge</th>\n",
       "    </tr>\n",
       "  </thead>\n",
       "  <tbody>\n",
       "    <tr>\n",
       "      <th>Height</th>\n",
       "      <td>11.031418</td>\n",
       "    </tr>\n",
       "    <tr>\n",
       "      <th>family_history_with_overweight_yes</th>\n",
       "      <td>9.074727</td>\n",
       "    </tr>\n",
       "    <tr>\n",
       "      <th>CAEC_no</th>\n",
       "      <td>7.568082</td>\n",
       "    </tr>\n",
       "    <tr>\n",
       "      <th>FCVC_3</th>\n",
       "      <td>6.119705</td>\n",
       "    </tr>\n",
       "    <tr>\n",
       "      <th>CAEC_Sometimes</th>\n",
       "      <td>5.956328</td>\n",
       "    </tr>\n",
       "    <tr>\n",
       "      <th>Age</th>\n",
       "      <td>5.889371</td>\n",
       "    </tr>\n",
       "    <tr>\n",
       "      <th>NCP_3</th>\n",
       "      <td>4.978639</td>\n",
       "    </tr>\n",
       "    <tr>\n",
       "      <th>CALC_Sometimes</th>\n",
       "      <td>4.843534</td>\n",
       "    </tr>\n",
       "    <tr>\n",
       "      <th>MTRANS_Public_Transportation</th>\n",
       "      <td>4.836442</td>\n",
       "    </tr>\n",
       "    <tr>\n",
       "      <th>MTRANS_Motorbike</th>\n",
       "      <td>3.598157</td>\n",
       "    </tr>\n",
       "    <tr>\n",
       "      <th>MTRANS_Bike</th>\n",
       "      <td>3.592425</td>\n",
       "    </tr>\n",
       "    <tr>\n",
       "      <th>FAF_0</th>\n",
       "      <td>2.970778</td>\n",
       "    </tr>\n",
       "    <tr>\n",
       "      <th>TUE_1</th>\n",
       "      <td>2.773338</td>\n",
       "    </tr>\n",
       "    <tr>\n",
       "      <th>SCC_no</th>\n",
       "      <td>2.403594</td>\n",
       "    </tr>\n",
       "    <tr>\n",
       "      <th>CH2O_3</th>\n",
       "      <td>2.085759</td>\n",
       "    </tr>\n",
       "    <tr>\n",
       "      <th>NCP_2</th>\n",
       "      <td>1.649499</td>\n",
       "    </tr>\n",
       "    <tr>\n",
       "      <th>FAVC_yes</th>\n",
       "      <td>1.540467</td>\n",
       "    </tr>\n",
       "    <tr>\n",
       "      <th>Gender_Female</th>\n",
       "      <td>1.528695</td>\n",
       "    </tr>\n",
       "    <tr>\n",
       "      <th>FAF_1</th>\n",
       "      <td>1.488723</td>\n",
       "    </tr>\n",
       "    <tr>\n",
       "      <th>NCP_1</th>\n",
       "      <td>1.086873</td>\n",
       "    </tr>\n",
       "    <tr>\n",
       "      <th>TUE_0</th>\n",
       "      <td>0.531754</td>\n",
       "    </tr>\n",
       "    <tr>\n",
       "      <th>SMOKE_no</th>\n",
       "      <td>0.389900</td>\n",
       "    </tr>\n",
       "    <tr>\n",
       "      <th>FAF_2</th>\n",
       "      <td>-0.186132</td>\n",
       "    </tr>\n",
       "    <tr>\n",
       "      <th>SMOKE_yes</th>\n",
       "      <td>-0.389900</td>\n",
       "    </tr>\n",
       "    <tr>\n",
       "      <th>CH2O_1</th>\n",
       "      <td>-0.711656</td>\n",
       "    </tr>\n",
       "    <tr>\n",
       "      <th>CH2O_2</th>\n",
       "      <td>-1.374103</td>\n",
       "    </tr>\n",
       "    <tr>\n",
       "      <th>CALC_no</th>\n",
       "      <td>-1.398896</td>\n",
       "    </tr>\n",
       "    <tr>\n",
       "      <th>Gender_Male</th>\n",
       "      <td>-1.528695</td>\n",
       "    </tr>\n",
       "    <tr>\n",
       "      <th>FAVC_no</th>\n",
       "      <td>-1.540467</td>\n",
       "    </tr>\n",
       "    <tr>\n",
       "      <th>SCC_yes</th>\n",
       "      <td>-2.403594</td>\n",
       "    </tr>\n",
       "    <tr>\n",
       "      <th>CAEC_Always</th>\n",
       "      <td>-2.533176</td>\n",
       "    </tr>\n",
       "    <tr>\n",
       "      <th>FCVC_2</th>\n",
       "      <td>-2.806793</td>\n",
       "    </tr>\n",
       "    <tr>\n",
       "      <th>TUE_2</th>\n",
       "      <td>-3.305092</td>\n",
       "    </tr>\n",
       "    <tr>\n",
       "      <th>FCVC_1</th>\n",
       "      <td>-3.312912</td>\n",
       "    </tr>\n",
       "    <tr>\n",
       "      <th>CALC_Frequently</th>\n",
       "      <td>-3.444638</td>\n",
       "    </tr>\n",
       "    <tr>\n",
       "      <th>FAF_3</th>\n",
       "      <td>-4.273369</td>\n",
       "    </tr>\n",
       "    <tr>\n",
       "      <th>MTRANS_Walking</th>\n",
       "      <td>-5.377030</td>\n",
       "    </tr>\n",
       "    <tr>\n",
       "      <th>MTRANS_Automobile</th>\n",
       "      <td>-6.649994</td>\n",
       "    </tr>\n",
       "    <tr>\n",
       "      <th>NCP_4</th>\n",
       "      <td>-7.715012</td>\n",
       "    </tr>\n",
       "    <tr>\n",
       "      <th>family_history_with_overweight_no</th>\n",
       "      <td>-9.074727</td>\n",
       "    </tr>\n",
       "    <tr>\n",
       "      <th>CAEC_Frequently</th>\n",
       "      <td>-10.991234</td>\n",
       "    </tr>\n",
       "  </tbody>\n",
       "</table>\n",
       "</div>"
      ],
      "text/plain": [
       "                                    scaled_and_ridge\n",
       "Height                                     11.031418\n",
       "family_history_with_overweight_yes          9.074727\n",
       "CAEC_no                                     7.568082\n",
       "FCVC_3                                      6.119705\n",
       "CAEC_Sometimes                              5.956328\n",
       "Age                                         5.889371\n",
       "NCP_3                                       4.978639\n",
       "CALC_Sometimes                              4.843534\n",
       "MTRANS_Public_Transportation                4.836442\n",
       "MTRANS_Motorbike                            3.598157\n",
       "MTRANS_Bike                                 3.592425\n",
       "FAF_0                                       2.970778\n",
       "TUE_1                                       2.773338\n",
       "SCC_no                                      2.403594\n",
       "CH2O_3                                      2.085759\n",
       "NCP_2                                       1.649499\n",
       "FAVC_yes                                    1.540467\n",
       "Gender_Female                               1.528695\n",
       "FAF_1                                       1.488723\n",
       "NCP_1                                       1.086873\n",
       "TUE_0                                       0.531754\n",
       "SMOKE_no                                    0.389900\n",
       "FAF_2                                      -0.186132\n",
       "SMOKE_yes                                  -0.389900\n",
       "CH2O_1                                     -0.711656\n",
       "CH2O_2                                     -1.374103\n",
       "CALC_no                                    -1.398896\n",
       "Gender_Male                                -1.528695\n",
       "FAVC_no                                    -1.540467\n",
       "SCC_yes                                    -2.403594\n",
       "CAEC_Always                                -2.533176\n",
       "FCVC_2                                     -2.806793\n",
       "TUE_2                                      -3.305092\n",
       "FCVC_1                                     -3.312912\n",
       "CALC_Frequently                            -3.444638\n",
       "FAF_3                                      -4.273369\n",
       "MTRANS_Walking                             -5.377030\n",
       "MTRANS_Automobile                          -6.649994\n",
       "NCP_4                                      -7.715012\n",
       "family_history_with_overweight_no          -9.074727\n",
       "CAEC_Frequently                           -10.991234"
      ]
     },
     "execution_count": 68,
     "metadata": {},
     "output_type": "execute_result"
    }
   ],
   "source": [
    "pd.DataFrame({\n",
    "    \"scaled_and_ridge\": model_1.named_steps[\"regr\"].coef_\n",
    "}, index=all_feature_names).sort_values(\"scaled_and_ridge\", ascending=False)"
   ]
  },
  {
   "cell_type": "code",
   "execution_count": 69,
   "id": "95562afc",
   "metadata": {},
   "outputs": [],
   "source": [
    "scaled_and_ridge = pd.Series(model_1.named_steps[\"regr\"].coef_, index=all_feature_names).sort_values(ascending=False)"
   ]
  },
  {
   "cell_type": "markdown",
   "id": "5a91efe9",
   "metadata": {},
   "source": [
    "Dai risultati ottenuti per ciascun possibile valore relativo a ciascuna possibile variabile, si osservano quali sono i valori che influiscono positivamente e negativamente nella predizione del peso.  \n",
    "In particolare, influiscono positivamente:\n",
    "- `Height`, l'altezza,\n",
    "- `family_history_with_overweight_yes`, la presenza di almeno un familiare in sovrappeso,\n",
    "- `CAEC_no`, il non consumo di cibo al di fuori dei pasti,\n",
    "- `FCVC_3`, l'assunzione di molte verdure nei pasti,\n",
    "- `CAEC_Sometimes`, l'assunzione occasionale di cibo al di fuori dei pasti, \n",
    "- `Age`, l'età.  \n",
    "\n",
    "dove i relativi coefficienti positivi indicano che a tali variabili predittive è associato un aumento nella variabile target (il peso dell'individuo). In particolare, l'altezza (`Height`) ha un coefficiente positivo elevato, indicando che le persone più alte tendono a pesare di più. Tale discorso è valido anche per l'età (`Age`) ma già in modo più moderato se comparato con l'altezza.\n",
    "\n",
    "Influiscono, invece, negativamente:\n",
    "- `CAEC_Frequently`, la frequente assunzione di cibo al di fuori dei pasti,\n",
    "- `family_history_with_overweight_no`, l'assenza di un familiare in sovrappeso,\n",
    "- `NCP_4`, l'assunzione di diversi pasti consumati giornalmente,\n",
    "- `MTRANS_Automobile`, la scelta dell'automobile come mezzo di trasporto principale,\n",
    "- `MTRANS_Walking`, l'andare a piedi come mezzo di trasporto principale,\n",
    "- `FAF_3`, la frequente attività fisica durante la settimana.  \n",
    "\n",
    "\n",
    "dove i relativi coefficienti negativi indicano che a tali variabili predittive è associato a una diminuzione nella variabile target (peso dell'individuo). Quindi a tali valori, corrispondono valori più bassi per il peso.\n",
    "\n",
    "Si individuano infine anche alcune variabili ininfluenti come:\n",
    "- `TUE_0`, l'assenza di tempo dedicato ad attività sedentarie,\n",
    "- `SMOKE_no`, l'essere non fumatore.  \n",
    "\n",
    "\n",
    "Questo suggerisce che queste ultime variabili potrebbero avere un impatto relativamente limitato sulla previsione del peso.  \n",
    "Si prosegue quindi applicando la regressione Lasso, che ignora i termini meno rilevanti per la predizione (comportando quindi anche una semplificazione del modello), con lo scopo di verificare se si hanno miglioramenti nella predizione."
   ]
  },
  {
   "cell_type": "code",
   "execution_count": 70,
   "id": "c2ab5176",
   "metadata": {
    "scrolled": true
   },
   "outputs": [
    {
     "name": "stdout",
     "output_type": "stream",
     "text": [
      "R²: 0.6038068644131307\n",
      "MSE: 283.37260865927357\n",
      "Relative error: 17.329%\n"
     ]
    }
   ],
   "source": [
    "model_2 = Pipeline([\n",
    "    (\"preproc\", ColumnTransformer([\n",
    "        (\"numeric\", StandardScaler(), numeric_vars),\n",
    "        (\"categorical\", OneHotEncoder(), categorical_vars)\n",
    "    ])),\n",
    "    (\"regr\", Lasso(alpha=0.1))\n",
    "])\n",
    "model_2.fit(X_train, y_train)\n",
    "model_performance(X_val, y_val, model_2)"
   ]
  },
  {
   "cell_type": "markdown",
   "id": "d9578fa0",
   "metadata": {},
   "source": [
    "Si ha un lieve miglioramento con un modello Lasso. Analizziamone quindi i coefficienti con tanto di rappresentazione grafica."
   ]
  },
  {
   "cell_type": "code",
   "execution_count": 71,
   "id": "a26cc5a5",
   "metadata": {},
   "outputs": [],
   "source": [
    "scaled_and_lasso = pd.Series(model_2.named_steps[\"regr\"].coef_, index=all_feature_names).sort_values(ascending=False)\n",
    "coefficients = scaled_and_lasso"
   ]
  },
  {
   "cell_type": "code",
   "execution_count": 72,
   "id": "bb1727f8",
   "metadata": {},
   "outputs": [
    {
     "data": {
      "image/png": "[encoded data removed]",
      "text/plain": [
       "<Figure size 720x576 with 1 Axes>"
      ]
     },
     "metadata": {
      "needs_background": "light"
     },
     "output_type": "display_data"
    }
   ],
   "source": [
    "# Soglia minima per considerare un coefficiente significativo\n",
    "threshold = 0.009\n",
    "significant_coefficients = coefficients[abs(coefficients) > threshold]\n",
    "significant_feature_names = significant_coefficients.index\n",
    "significant_importance_values = significant_coefficients.values\n",
    "\n",
    "plt.figure(figsize=(10, 8))\n",
    "plt.barh(significant_feature_names, significant_importance_values, \n",
    "         color=[\"springgreen\" if val > threshold else \"red\" \n",
    "                for val in significant_importance_values])\n",
    "plt.xlabel(\"Coefficient value\")\n",
    "plt.ylabel(\"Variables\")\n",
    "plt.title(\"Significant coefficients of Lasso regression model\")\n",
    "plt.grid(axis=\"x\", linestyle=\"--\")\n",
    "plt.gca().invert_yaxis()"
   ]
  },
  {
   "cell_type": "markdown",
   "id": "02389669",
   "metadata": {},
   "source": [
    "Prima di effettuare osservazioni, si effettua anche un confronto con i risultati ottenuti dal modello precedente."
   ]
  },
  {
   "cell_type": "code",
   "execution_count": 73,
   "id": "0b1370cb",
   "metadata": {},
   "outputs": [
    {
     "data": {
      "text/html": [
       "<div>\n",
       "<style scoped>\n",
       "    .dataframe tbody tr th:only-of-type {\n",
       "        vertical-align: middle;\n",
       "    }\n",
       "\n",
       "    .dataframe tbody tr th {\n",
       "        vertical-align: top;\n",
       "    }\n",
       "\n",
       "    .dataframe thead th {\n",
       "        text-align: right;\n",
       "    }\n",
       "</style>\n",
       "<table border=\"1\" class=\"dataframe\">\n",
       "  <thead>\n",
       "    <tr style=\"text-align: right;\">\n",
       "      <th></th>\n",
       "      <th>scaled_and_lasso</th>\n",
       "      <th>scaled_and_ridge</th>\n",
       "    </tr>\n",
       "  </thead>\n",
       "  <tbody>\n",
       "    <tr>\n",
       "      <th>Height</th>\n",
       "      <td>10.484009</td>\n",
       "      <td>11.031418</td>\n",
       "    </tr>\n",
       "    <tr>\n",
       "      <th>MTRANS_Public_Transportation</th>\n",
       "      <td>9.635602</td>\n",
       "      <td>4.836442</td>\n",
       "    </tr>\n",
       "    <tr>\n",
       "      <th>FCVC_3</th>\n",
       "      <td>8.619366</td>\n",
       "      <td>6.119705</td>\n",
       "    </tr>\n",
       "    <tr>\n",
       "      <th>CALC_Sometimes</th>\n",
       "      <td>6.630346</td>\n",
       "      <td>4.843534</td>\n",
       "    </tr>\n",
       "    <tr>\n",
       "      <th>Age</th>\n",
       "      <td>5.732824</td>\n",
       "      <td>5.889371</td>\n",
       "    </tr>\n",
       "    <tr>\n",
       "      <th>CAEC_Sometimes</th>\n",
       "      <td>3.852553</td>\n",
       "      <td>5.956328</td>\n",
       "    </tr>\n",
       "    <tr>\n",
       "      <th>NCP_3</th>\n",
       "      <td>3.535872</td>\n",
       "      <td>4.978639</td>\n",
       "    </tr>\n",
       "    <tr>\n",
       "      <th>SCC_no</th>\n",
       "      <td>2.866938</td>\n",
       "      <td>2.403594</td>\n",
       "    </tr>\n",
       "    <tr>\n",
       "      <th>CH2O_3</th>\n",
       "      <td>2.684021</td>\n",
       "      <td>2.085759</td>\n",
       "    </tr>\n",
       "    <tr>\n",
       "      <th>FAF_0</th>\n",
       "      <td>2.110585</td>\n",
       "      <td>2.970778</td>\n",
       "    </tr>\n",
       "    <tr>\n",
       "      <th>Gender_Female</th>\n",
       "      <td>2.017674</td>\n",
       "      <td>1.528695</td>\n",
       "    </tr>\n",
       "    <tr>\n",
       "      <th>TUE_1</th>\n",
       "      <td>1.933876</td>\n",
       "      <td>2.773338</td>\n",
       "    </tr>\n",
       "    <tr>\n",
       "      <th>FAF_1</th>\n",
       "      <td>0.893509</td>\n",
       "      <td>1.488723</td>\n",
       "    </tr>\n",
       "    <tr>\n",
       "      <th>CAEC_no</th>\n",
       "      <td>0.015519</td>\n",
       "      <td>7.568082</td>\n",
       "    </tr>\n",
       "    <tr>\n",
       "      <th>FAVC_yes</th>\n",
       "      <td>0.000000</td>\n",
       "      <td>1.540467</td>\n",
       "    </tr>\n",
       "    <tr>\n",
       "      <th>family_history_with_overweight_yes</th>\n",
       "      <td>0.000000</td>\n",
       "      <td>9.074727</td>\n",
       "    </tr>\n",
       "    <tr>\n",
       "      <th>MTRANS_Bike</th>\n",
       "      <td>0.000000</td>\n",
       "      <td>3.592425</td>\n",
       "    </tr>\n",
       "    <tr>\n",
       "      <th>CALC_no</th>\n",
       "      <td>-0.000000</td>\n",
       "      <td>-1.398896</td>\n",
       "    </tr>\n",
       "    <tr>\n",
       "      <th>TUE_0</th>\n",
       "      <td>0.000000</td>\n",
       "      <td>0.531754</td>\n",
       "    </tr>\n",
       "    <tr>\n",
       "      <th>MTRANS_Motorbike</th>\n",
       "      <td>0.000000</td>\n",
       "      <td>3.598157</td>\n",
       "    </tr>\n",
       "    <tr>\n",
       "      <th>CH2O_1</th>\n",
       "      <td>0.000000</td>\n",
       "      <td>-0.711656</td>\n",
       "    </tr>\n",
       "    <tr>\n",
       "      <th>CALC_Frequently</th>\n",
       "      <td>-0.000000</td>\n",
       "      <td>-3.444638</td>\n",
       "    </tr>\n",
       "    <tr>\n",
       "      <th>MTRANS_Walking</th>\n",
       "      <td>-0.000000</td>\n",
       "      <td>-5.377030</td>\n",
       "    </tr>\n",
       "    <tr>\n",
       "      <th>NCP_2</th>\n",
       "      <td>0.000000</td>\n",
       "      <td>1.649499</td>\n",
       "    </tr>\n",
       "    <tr>\n",
       "      <th>NCP_1</th>\n",
       "      <td>-0.000000</td>\n",
       "      <td>1.086873</td>\n",
       "    </tr>\n",
       "    <tr>\n",
       "      <th>FCVC_2</th>\n",
       "      <td>-0.000000</td>\n",
       "      <td>-2.806793</td>\n",
       "    </tr>\n",
       "    <tr>\n",
       "      <th>FCVC_1</th>\n",
       "      <td>-0.000000</td>\n",
       "      <td>-3.312912</td>\n",
       "    </tr>\n",
       "    <tr>\n",
       "      <th>SMOKE_yes</th>\n",
       "      <td>-0.000000</td>\n",
       "      <td>-0.389900</td>\n",
       "    </tr>\n",
       "    <tr>\n",
       "      <th>SMOKE_no</th>\n",
       "      <td>0.000000</td>\n",
       "      <td>0.389900</td>\n",
       "    </tr>\n",
       "    <tr>\n",
       "      <th>Gender_Male</th>\n",
       "      <td>-0.000000</td>\n",
       "      <td>-1.528695</td>\n",
       "    </tr>\n",
       "    <tr>\n",
       "      <th>SCC_yes</th>\n",
       "      <td>-0.000000</td>\n",
       "      <td>-2.403594</td>\n",
       "    </tr>\n",
       "    <tr>\n",
       "      <th>FAF_2</th>\n",
       "      <td>-0.255280</td>\n",
       "      <td>-0.186132</td>\n",
       "    </tr>\n",
       "    <tr>\n",
       "      <th>CH2O_2</th>\n",
       "      <td>-0.540235</td>\n",
       "      <td>-1.374103</td>\n",
       "    </tr>\n",
       "    <tr>\n",
       "      <th>CAEC_Always</th>\n",
       "      <td>-1.180443</td>\n",
       "      <td>-2.533176</td>\n",
       "    </tr>\n",
       "    <tr>\n",
       "      <th>MTRANS_Automobile</th>\n",
       "      <td>-1.373780</td>\n",
       "      <td>-6.649994</td>\n",
       "    </tr>\n",
       "    <tr>\n",
       "      <th>FAVC_no</th>\n",
       "      <td>-2.698717</td>\n",
       "      <td>-1.540467</td>\n",
       "    </tr>\n",
       "    <tr>\n",
       "      <th>FAF_3</th>\n",
       "      <td>-3.200479</td>\n",
       "      <td>-4.273369</td>\n",
       "    </tr>\n",
       "    <tr>\n",
       "      <th>TUE_2</th>\n",
       "      <td>-3.589847</td>\n",
       "      <td>-3.305092</td>\n",
       "    </tr>\n",
       "    <tr>\n",
       "      <th>NCP_4</th>\n",
       "      <td>-8.289864</td>\n",
       "      <td>-7.715012</td>\n",
       "    </tr>\n",
       "    <tr>\n",
       "      <th>CAEC_Frequently</th>\n",
       "      <td>-12.760101</td>\n",
       "      <td>-10.991234</td>\n",
       "    </tr>\n",
       "    <tr>\n",
       "      <th>family_history_with_overweight_no</th>\n",
       "      <td>-17.932092</td>\n",
       "      <td>-9.074727</td>\n",
       "    </tr>\n",
       "  </tbody>\n",
       "</table>\n",
       "</div>"
      ],
      "text/plain": [
       "                                    scaled_and_lasso  scaled_and_ridge\n",
       "Height                                     10.484009         11.031418\n",
       "MTRANS_Public_Transportation                9.635602          4.836442\n",
       "FCVC_3                                      8.619366          6.119705\n",
       "CALC_Sometimes                              6.630346          4.843534\n",
       "Age                                         5.732824          5.889371\n",
       "CAEC_Sometimes                              3.852553          5.956328\n",
       "NCP_3                                       3.535872          4.978639\n",
       "SCC_no                                      2.866938          2.403594\n",
       "CH2O_3                                      2.684021          2.085759\n",
       "FAF_0                                       2.110585          2.970778\n",
       "Gender_Female                               2.017674          1.528695\n",
       "TUE_1                                       1.933876          2.773338\n",
       "FAF_1                                       0.893509          1.488723\n",
       "CAEC_no                                     0.015519          7.568082\n",
       "FAVC_yes                                    0.000000          1.540467\n",
       "family_history_with_overweight_yes          0.000000          9.074727\n",
       "MTRANS_Bike                                 0.000000          3.592425\n",
       "CALC_no                                    -0.000000         -1.398896\n",
       "TUE_0                                       0.000000          0.531754\n",
       "MTRANS_Motorbike                            0.000000          3.598157\n",
       "CH2O_1                                      0.000000         -0.711656\n",
       "CALC_Frequently                            -0.000000         -3.444638\n",
       "MTRANS_Walking                             -0.000000         -5.377030\n",
       "NCP_2                                       0.000000          1.649499\n",
       "NCP_1                                      -0.000000          1.086873\n",
       "FCVC_2                                     -0.000000         -2.806793\n",
       "FCVC_1                                     -0.000000         -3.312912\n",
       "SMOKE_yes                                  -0.000000         -0.389900\n",
       "SMOKE_no                                    0.000000          0.389900\n",
       "Gender_Male                                -0.000000         -1.528695\n",
       "SCC_yes                                    -0.000000         -2.403594\n",
       "FAF_2                                      -0.255280         -0.186132\n",
       "CH2O_2                                     -0.540235         -1.374103\n",
       "CAEC_Always                                -1.180443         -2.533176\n",
       "MTRANS_Automobile                          -1.373780         -6.649994\n",
       "FAVC_no                                    -2.698717         -1.540467\n",
       "FAF_3                                      -3.200479         -4.273369\n",
       "TUE_2                                      -3.589847         -3.305092\n",
       "NCP_4                                      -8.289864         -7.715012\n",
       "CAEC_Frequently                           -12.760101        -10.991234\n",
       "family_history_with_overweight_no         -17.932092         -9.074727"
      ]
     },
     "execution_count": 73,
     "metadata": {},
     "output_type": "execute_result"
    }
   ],
   "source": [
    "pd.DataFrame({\n",
    "    \"scaled_and_lasso\": model_2.named_steps[\"regr\"].coef_,\n",
    "    \"scaled_and_ridge\": model_1.named_steps[\"regr\"].coef_,\n",
    "}, index=all_feature_names).sort_values(\"scaled_and_lasso\", ascending=False)"
   ]
  },
  {
   "cell_type": "markdown",
   "id": "b9499201",
   "metadata": {},
   "source": [
    "Come si può osservare, la regressione Lasso ha la capacità di selezionare automaticamente un sottoinsieme di variabili più significative ed influenti per la predizione, escludendo quelle che hanno un impatto minore o addirittura nullo e la dimostrazione ne è la seguente."
   ]
  },
  {
   "cell_type": "code",
   "execution_count": 74,
   "id": "732ab211",
   "metadata": {},
   "outputs": [
    {
     "name": "stdout",
     "output_type": "stream",
     "text": [
      "Numero variabili: 41\n",
      "Numero variabili ininfluenti: 17\n",
      "Numero variabili significative: 24\n"
     ]
    }
   ],
   "source": [
    "print(\"Numero variabili:\", len(all_feature_names))\n",
    "print(\"Numero variabili ininfluenti:\", (len(all_feature_names) - len(significant_feature_names)))\n",
    "print(\"Numero variabili significative:\", len(significant_feature_names))"
   ]
  },
  {
   "cell_type": "markdown",
   "id": "9f7782a8",
   "metadata": {},
   "source": [
    "Il modello (basato sulla regressione Lasso) tiene conto delle sole variabili che hanno maggior impatto nella predizione, grazie al suo meccanismo di penalizzazione e selezione automatica delle variabili.\n",
    "Tant'è che molte più variabili sono ininfluenti nel modello: oltre a `TUE_0` (l'assenza di tempo dedicato ad attività sedentarie) e `SMOKE_no` (l'essere non fumatore), che si era notato esserlo già, ora il modello ne aggiunge delle ulteriori come per esempio:\n",
    "- `MTRANS_Walking`, l'andare a piedi come mezzo di trasporto principale, \n",
    "- `FCVC_1`, il basso numero di pasti in cui si assumono verdure,\n",
    "- `CH2O_1`, la poca assunzione di acqua,\n",
    "- `MTRANS_Bike`, la bicicletta come mezzo di trasporto principale,  \n",
    "\n",
    "e addirittura anche la presenza di un familiare in sovrappeso (`family_history_with_overweight_yes`) diviene un'informazione ininfluente per tale modello, mentre in precedenza veniva definita come una variabile che incideva positivamente sulla predizione di un alto peso.  \n",
    "Il medesimo discorso vale anche per l'andare a piedi come mezzo di trasporto principale (`MTRANS_Walking`), che nel modello precedente era definito come una variabile che incideva negativamente nella predizione del peso, ossia tendeva a predire un peso più basso.  \n",
    "\n",
    "\n",
    "Inoltre si osserva anche una ridistribuzione dei pesi delle variabili. Possiamo di fatti affermare che, per esempio, oltre l'altezza (`Height`), l'età (`Age`) e l'assunzione di molte verdure nei pasti (`FCVC_3`), anche:\n",
    "- `MTRANS_Public_Transportation`, il trasporto pubblico come mezzo di trasporto principale,\n",
    "- `CALC_Sometimes`, l'assunzione occasionale di alcol,   \n",
    "\n",
    "incidono positivamente nella predizione del peso: predirrano pesi più elevati.  "
   ]
  },
  {
   "cell_type": "markdown",
   "id": "5de00fc8",
   "metadata": {},
   "source": [
    "### Test di diversi modelli di regressione: grid search per miglior modello e miglior iperparametri"
   ]
  },
  {
   "cell_type": "markdown",
   "id": "3f11d15f",
   "metadata": {},
   "source": [
    "Come successivo step ci si pone l'obiettivo di ricercare e individuare il modello predittivo migliore: si vogliono identificare quali iperparametri e quali aspetti sono determinanti per creare un buon modello.  \n",
    "Si verifica con una grid search quali sono le migliori scelte e le migliori considerazioni da attuare per ottenere il miglior modello possibile tra i seguenti possibili: Ridge, Lasso, Elastic Net.   \n",
    "Inoltre, si analizzano i seguenti aspetti:\n",
    "- utilizzo della standardizzazione o meno per le variabili numeriche.\n",
    "- generazione di features polinomiali o meno per le variabili numeriche, con lo scopo di catturare le relazioni non lineari. Si considerano i seguenti gradi delle features polinomiali: \n",
    "     - grado 1 (nessuna feature polinomiale), \n",
    "     - grado 2 (features polinomiali di secondo grado), \n",
    "     - grado 3 (features polinomiali di terzo grado).  \n",
    "- Eliminazione o meno di una delle colonne generate dal one-hot encoding per evitare il problema della multi-collinearità.\n",
    "- Possibili scelte di valori per gli iperparametri relativi all'intensità di regolarizzazione al dipendere del modello."
   ]
  },
  {
   "cell_type": "code",
   "execution_count": 75,
   "id": "aa1d5086",
   "metadata": {
    "scrolled": true
   },
   "outputs": [
    {
     "name": "stdout",
     "output_type": "stream",
     "text": [
      "Migliori parametri: {'preproc__categorical__drop': 'first', 'preproc__numeric__poly__degree': 3, 'preproc__numeric__scaler': StandardScaler(), 'regr': Lasso(alpha=0.1), 'regr__alpha': 0.1}\n"
     ]
    }
   ],
   "source": [
    "from sklearn.model_selection import GridSearchCV, KFold\n",
    "import warnings\n",
    "\n",
    "# Ignoro i warning relativi alla mancata convergenza di un minimo della funzione obiettivo entro un certo numero di iterazioni.\n",
    "warnings.filterwarnings(\"ignore\", category=Warning)\n",
    "\n",
    "model = Pipeline([\n",
    "    (\"preproc\", ColumnTransformer([\n",
    "        (\"numeric\",  Pipeline([\n",
    "            (\"scaler\", None),\n",
    "            (\"poly\", PolynomialFeatures(include_bias=False))\n",
    "        ]), numeric_vars),\n",
    "        (\"categorical\", OneHotEncoder(), categorical_vars)\n",
    "    ])),\n",
    "    (\"regr\", None)\n",
    "])\n",
    "\n",
    "# Grid search su scelte preprocessing e scelta modello\n",
    "grid = [\n",
    "    { # scelte preprocessing + Ridge\n",
    "        \"preproc__numeric__scaler\": [\"passthrough\", StandardScaler()],\n",
    "        \"preproc__numeric__poly__degree\": [1, 2, 3],\n",
    "        \"preproc__categorical__drop\": [None, \"first\"],\n",
    "        \"regr\": [Ridge()],\n",
    "        \"regr__alpha\": [0.1, 1.0, 10.0] \n",
    "    },\n",
    "    { # scelte preprocessing + Lasso\n",
    "        \"preproc__numeric__scaler\": [\"passthrough\", StandardScaler()],\n",
    "        \"preproc__numeric__poly__degree\": [1, 2, 3],\n",
    "        \"preproc__categorical__drop\": [None, \"first\"],\n",
    "        \"regr\": [Lasso()],\n",
    "        \"regr__alpha\": [0.1, 1.0, 10.0] \n",
    "    },\n",
    "    { # scelte preprocessing + Elastic Net\n",
    "        \"preproc__numeric__scaler\": [\"passthrough\", StandardScaler()],\n",
    "        \"preproc__numeric__poly__degree\": [1, 2, 3],\n",
    "        \"preproc__categorical__drop\": [None, \"first\"],\n",
    "        \"regr\": [ElasticNet()],\n",
    "        \"regr__alpha\": [0.1, 1.0],\n",
    "        \"regr__l1_ratio\": [0.1, 0.2, 0.5, 0.7, 0.9, 1]\n",
    "    }\n",
    "]\n",
    "\n",
    "kf = KFold(3, shuffle=True, random_state=42)\n",
    "gs = GridSearchCV(model, grid, cv=kf, scoring=\"r2\")\n",
    "gs.fit(X_train, y_train)\n",
    "print(\"Migliori parametri:\", gs.best_params_)"
   ]
  },
  {
   "cell_type": "code",
   "execution_count": 76,
   "id": "03915f6e",
   "metadata": {
    "scrolled": true
   },
   "outputs": [
    {
     "name": "stdout",
     "output_type": "stream",
     "text": [
      "R²: 0.6168017266093406\n",
      "MSE: 274.07818210578677\n",
      "Relative error: 16.726%\n"
     ]
    }
   ],
   "source": [
    "model_performance(X_val, y_val, gs)"
   ]
  },
  {
   "cell_type": "code",
   "execution_count": 77,
   "id": "fcbae572",
   "metadata": {
    "scrolled": true
   },
   "outputs": [
    {
     "data": {
      "text/html": [
       "<div>\n",
       "<style scoped>\n",
       "    .dataframe tbody tr th:only-of-type {\n",
       "        vertical-align: middle;\n",
       "    }\n",
       "\n",
       "    .dataframe tbody tr th {\n",
       "        vertical-align: top;\n",
       "    }\n",
       "\n",
       "    .dataframe thead th {\n",
       "        text-align: right;\n",
       "    }\n",
       "</style>\n",
       "<table border=\"1\" class=\"dataframe\">\n",
       "  <thead>\n",
       "    <tr style=\"text-align: right;\">\n",
       "      <th></th>\n",
       "      <th>mean_fit_time</th>\n",
       "      <th>std_fit_time</th>\n",
       "      <th>mean_score_time</th>\n",
       "      <th>std_score_time</th>\n",
       "      <th>param_preproc__categorical__drop</th>\n",
       "      <th>param_preproc__numeric__poly__degree</th>\n",
       "      <th>param_preproc__numeric__scaler</th>\n",
       "      <th>param_regr</th>\n",
       "      <th>param_regr__alpha</th>\n",
       "      <th>param_regr__l1_ratio</th>\n",
       "      <th>params</th>\n",
       "      <th>split0_test_score</th>\n",
       "      <th>split1_test_score</th>\n",
       "      <th>split2_test_score</th>\n",
       "      <th>mean_test_score</th>\n",
       "      <th>std_test_score</th>\n",
       "      <th>rank_test_score</th>\n",
       "    </tr>\n",
       "  </thead>\n",
       "  <tbody>\n",
       "    <tr>\n",
       "      <th>69</th>\n",
       "      <td>0.027027</td>\n",
       "      <td>0.003943</td>\n",
       "      <td>0.011022</td>\n",
       "      <td>0.004272</td>\n",
       "      <td>first</td>\n",
       "      <td>3</td>\n",
       "      <td>StandardScaler()</td>\n",
       "      <td>Lasso(alpha=0.1)</td>\n",
       "      <td>0.100000</td>\n",
       "      <td>NaN</td>\n",
       "      <td>{'preproc__categorical__drop': 'first', 'prepr...</td>\n",
       "      <td>0.598818</td>\n",
       "      <td>0.569153</td>\n",
       "      <td>0.630082</td>\n",
       "      <td>0.599351</td>\n",
       "      <td>0.024877</td>\n",
       "      <td>1</td>\n",
       "    </tr>\n",
       "    <tr>\n",
       "      <th>209</th>\n",
       "      <td>0.021818</td>\n",
       "      <td>0.002045</td>\n",
       "      <td>0.008791</td>\n",
       "      <td>0.001004</td>\n",
       "      <td>first</td>\n",
       "      <td>3</td>\n",
       "      <td>StandardScaler()</td>\n",
       "      <td>ElasticNet()</td>\n",
       "      <td>0.100000</td>\n",
       "      <td>1</td>\n",
       "      <td>{'preproc__categorical__drop': 'first', 'prepr...</td>\n",
       "      <td>0.598818</td>\n",
       "      <td>0.569153</td>\n",
       "      <td>0.630082</td>\n",
       "      <td>0.599351</td>\n",
       "      <td>0.024877</td>\n",
       "      <td>1</td>\n",
       "    </tr>\n",
       "    <tr>\n",
       "      <th>208</th>\n",
       "      <td>0.023645</td>\n",
       "      <td>0.001551</td>\n",
       "      <td>0.010365</td>\n",
       "      <td>0.000892</td>\n",
       "      <td>first</td>\n",
       "      <td>3</td>\n",
       "      <td>StandardScaler()</td>\n",
       "      <td>ElasticNet()</td>\n",
       "      <td>0.100000</td>\n",
       "      <td>0.900000</td>\n",
       "      <td>{'preproc__categorical__drop': 'first', 'prepr...</td>\n",
       "      <td>0.600808</td>\n",
       "      <td>0.569099</td>\n",
       "      <td>0.627831</td>\n",
       "      <td>0.599246</td>\n",
       "      <td>0.024003</td>\n",
       "      <td>3</td>\n",
       "    </tr>\n",
       "    <tr>\n",
       "      <th>32</th>\n",
       "      <td>0.021238</td>\n",
       "      <td>0.002988</td>\n",
       "      <td>0.008446</td>\n",
       "      <td>0.000472</td>\n",
       "      <td>first</td>\n",
       "      <td>3</td>\n",
       "      <td>passthrough</td>\n",
       "      <td>Ridge()</td>\n",
       "      <td>10.000000</td>\n",
       "      <td>NaN</td>\n",
       "      <td>{'preproc__categorical__drop': 'first', 'prepr...</td>\n",
       "      <td>0.592822</td>\n",
       "      <td>0.573506</td>\n",
       "      <td>0.631224</td>\n",
       "      <td>0.599184</td>\n",
       "      <td>0.023989</td>\n",
       "      <td>4</td>\n",
       "    </tr>\n",
       "    <tr>\n",
       "      <th>196</th>\n",
       "      <td>0.035123</td>\n",
       "      <td>0.001291</td>\n",
       "      <td>0.009271</td>\n",
       "      <td>0.000896</td>\n",
       "      <td>first</td>\n",
       "      <td>3</td>\n",
       "      <td>passthrough</td>\n",
       "      <td>ElasticNet()</td>\n",
       "      <td>0.100000</td>\n",
       "      <td>0.900000</td>\n",
       "      <td>{'preproc__categorical__drop': 'first', 'prepr...</td>\n",
       "      <td>0.596342</td>\n",
       "      <td>0.572015</td>\n",
       "      <td>0.628579</td>\n",
       "      <td>0.598979</td>\n",
       "      <td>0.023168</td>\n",
       "      <td>5</td>\n",
       "    </tr>\n",
       "  </tbody>\n",
       "</table>\n",
       "</div>"
      ],
      "text/plain": [
       "     mean_fit_time  std_fit_time  mean_score_time  std_score_time  \\\n",
       "69        0.027027      0.003943         0.011022        0.004272   \n",
       "209       0.021818      0.002045         0.008791        0.001004   \n",
       "208       0.023645      0.001551         0.010365        0.000892   \n",
       "32        0.021238      0.002988         0.008446        0.000472   \n",
       "196       0.035123      0.001291         0.009271        0.000896   \n",
       "\n",
       "    param_preproc__categorical__drop param_preproc__numeric__poly__degree  \\\n",
       "69                             first                                    3   \n",
       "209                            first                                    3   \n",
       "208                            first                                    3   \n",
       "32                             first                                    3   \n",
       "196                            first                                    3   \n",
       "\n",
       "    param_preproc__numeric__scaler        param_regr param_regr__alpha  \\\n",
       "69                StandardScaler()  Lasso(alpha=0.1)          0.100000   \n",
       "209               StandardScaler()      ElasticNet()          0.100000   \n",
       "208               StandardScaler()      ElasticNet()          0.100000   \n",
       "32                     passthrough           Ridge()         10.000000   \n",
       "196                    passthrough      ElasticNet()          0.100000   \n",
       "\n",
       "    param_regr__l1_ratio                                             params  \\\n",
       "69                   NaN  {'preproc__categorical__drop': 'first', 'prepr...   \n",
       "209                    1  {'preproc__categorical__drop': 'first', 'prepr...   \n",
       "208             0.900000  {'preproc__categorical__drop': 'first', 'prepr...   \n",
       "32                   NaN  {'preproc__categorical__drop': 'first', 'prepr...   \n",
       "196             0.900000  {'preproc__categorical__drop': 'first', 'prepr...   \n",
       "\n",
       "     split0_test_score  split1_test_score  split2_test_score  mean_test_score  \\\n",
       "69            0.598818           0.569153           0.630082         0.599351   \n",
       "209           0.598818           0.569153           0.630082         0.599351   \n",
       "208           0.600808           0.569099           0.627831         0.599246   \n",
       "32            0.592822           0.573506           0.631224         0.599184   \n",
       "196           0.596342           0.572015           0.628579         0.598979   \n",
       "\n",
       "     std_test_score  rank_test_score  \n",
       "69         0.024877                1  \n",
       "209        0.024877                1  \n",
       "208        0.024003                3  \n",
       "32         0.023989                4  \n",
       "196        0.023168                5  "
      ]
     },
     "execution_count": 77,
     "metadata": {},
     "output_type": "execute_result"
    }
   ],
   "source": [
    "pd.DataFrame(gs.cv_results_).sort_values(\"mean_test_score\", ascending=False).head()"
   ]
  },
  {
   "cell_type": "markdown",
   "id": "feb5e289",
   "metadata": {},
   "source": [
    "Si nota quindi come un modello di regressione Lasso, che ignora le variabili meno rilevanti, sia il modello migliore per la predizione del peso: le variabili che hanno poca importanza nella predizione del peso non vengono selezionate e per capire quali siano queste variabili è sufficiente consultarne i coefficienti del modello.  \n",
    "Tuttavia si può comunque affermare che la differenza sulla scelta del modello è veramente minima e sottile: i risultati relativi alla valutazione dei modelli si discostano di poco."
   ]
  },
  {
   "cell_type": "code",
   "execution_count": 78,
   "id": "a53b776a",
   "metadata": {
    "scrolled": true
   },
   "outputs": [
    {
     "data": {
      "text/plain": [
       "Pipeline(steps=[('preproc',\n",
       "                 ColumnTransformer(transformers=[('numeric',\n",
       "                                                  Pipeline(steps=[('scaler',\n",
       "                                                                   StandardScaler()),\n",
       "                                                                  ('poly',\n",
       "                                                                   PolynomialFeatures(degree=3,\n",
       "                                                                                      include_bias=False))]),\n",
       "                                                  ['Age', 'Height']),\n",
       "                                                 ('categorical',\n",
       "                                                  OneHotEncoder(drop='first'),\n",
       "                                                  ['Gender',\n",
       "                                                   'family_history_with_overweight',\n",
       "                                                   'FAVC', 'SMOKE', 'SCC',\n",
       "                                                   'FCVC', 'NCP', 'CAEC',\n",
       "                                                   'CH2O', 'FAF', 'TUE', 'CALC',\n",
       "                                                   'MTRANS'])])),\n",
       "                ('regr', Lasso(alpha=0.1))])"
      ]
     },
     "execution_count": 78,
     "metadata": {},
     "output_type": "execute_result"
    }
   ],
   "source": [
    "# Scrittura esplicita del migliore modello individuato\n",
    "model = Pipeline([\n",
    "    (\"preproc\", ColumnTransformer([\n",
    "        (\"numeric\",  Pipeline([\n",
    "            (\"scaler\", StandardScaler()),\n",
    "            (\"poly\", PolynomialFeatures(include_bias=False, degree=3))\n",
    "        ]), numeric_vars),\n",
    "        (\"categorical\", OneHotEncoder(drop=\"first\"), categorical_vars)\n",
    "    ])),\n",
    "    (\"regr\", Lasso(alpha=0.1))\n",
    "])\n",
    "model.fit(X_train, y_train)"
   ]
  },
  {
   "cell_type": "code",
   "execution_count": 79,
   "id": "e7e2bd4f",
   "metadata": {},
   "outputs": [],
   "source": [
    "feature_names_gs = np.r_[\n",
    "    model.named_steps[\"preproc\"].named_transformers_[\"numeric\"].named_steps[\"poly\"].get_feature_names(numeric_vars),\n",
    "    model.named_steps[\"preproc\"].named_transformers_[\"categorical\"].get_feature_names(categorical_vars),\n",
    "].tolist()"
   ]
  },
  {
   "cell_type": "code",
   "execution_count": 80,
   "id": "c4cebe25",
   "metadata": {},
   "outputs": [
    {
     "data": {
      "text/html": [
       "<div>\n",
       "<style scoped>\n",
       "    .dataframe tbody tr th:only-of-type {\n",
       "        vertical-align: middle;\n",
       "    }\n",
       "\n",
       "    .dataframe tbody tr th {\n",
       "        vertical-align: top;\n",
       "    }\n",
       "\n",
       "    .dataframe thead th {\n",
       "        text-align: right;\n",
       "    }\n",
       "</style>\n",
       "<table border=\"1\" class=\"dataframe\">\n",
       "  <thead>\n",
       "    <tr style=\"text-align: right;\">\n",
       "      <th></th>\n",
       "      <th>Coefficient</th>\n",
       "    </tr>\n",
       "  </thead>\n",
       "  <tbody>\n",
       "    <tr>\n",
       "      <th>family_history_with_overweight_yes</th>\n",
       "      <td>16.313991</td>\n",
       "    </tr>\n",
       "    <tr>\n",
       "      <th>Height</th>\n",
       "      <td>12.062721</td>\n",
       "    </tr>\n",
       "    <tr>\n",
       "      <th>MTRANS_Public_Transportation</th>\n",
       "      <td>9.291347</td>\n",
       "    </tr>\n",
       "    <tr>\n",
       "      <th>Age</th>\n",
       "      <td>9.115045</td>\n",
       "    </tr>\n",
       "    <tr>\n",
       "      <th>FCVC_3</th>\n",
       "      <td>7.629025</td>\n",
       "    </tr>\n",
       "    <tr>\n",
       "      <th>CALC_Sometimes</th>\n",
       "      <td>5.261465</td>\n",
       "    </tr>\n",
       "    <tr>\n",
       "      <th>CAEC_Sometimes</th>\n",
       "      <td>4.461987</td>\n",
       "    </tr>\n",
       "    <tr>\n",
       "      <th>NCP_3</th>\n",
       "      <td>3.455543</td>\n",
       "    </tr>\n",
       "    <tr>\n",
       "      <th>FAVC_yes</th>\n",
       "      <td>2.625990</td>\n",
       "    </tr>\n",
       "    <tr>\n",
       "      <th>CH2O_3</th>\n",
       "      <td>2.374238</td>\n",
       "    </tr>\n",
       "    <tr>\n",
       "      <th>TUE_1</th>\n",
       "      <td>1.946875</td>\n",
       "    </tr>\n",
       "    <tr>\n",
       "      <th>Age Height</th>\n",
       "      <td>1.258933</td>\n",
       "    </tr>\n",
       "    <tr>\n",
       "      <th>Age^3</th>\n",
       "      <td>0.515591</td>\n",
       "    </tr>\n",
       "    <tr>\n",
       "      <th>Age Height^2</th>\n",
       "      <td>0.021421</td>\n",
       "    </tr>\n",
       "    <tr>\n",
       "      <th>CAEC_no</th>\n",
       "      <td>0.000000</td>\n",
       "    </tr>\n",
       "    <tr>\n",
       "      <th>MTRANS_Motorbike</th>\n",
       "      <td>0.000000</td>\n",
       "    </tr>\n",
       "    <tr>\n",
       "      <th>MTRANS_Bike</th>\n",
       "      <td>0.000000</td>\n",
       "    </tr>\n",
       "    <tr>\n",
       "      <th>CALC_no</th>\n",
       "      <td>-0.000000</td>\n",
       "    </tr>\n",
       "    <tr>\n",
       "      <th>FAF_1</th>\n",
       "      <td>0.000000</td>\n",
       "    </tr>\n",
       "    <tr>\n",
       "      <th>MTRANS_Walking</th>\n",
       "      <td>0.000000</td>\n",
       "    </tr>\n",
       "    <tr>\n",
       "      <th>NCP_2</th>\n",
       "      <td>-0.000000</td>\n",
       "    </tr>\n",
       "    <tr>\n",
       "      <th>FCVC_2</th>\n",
       "      <td>-0.000000</td>\n",
       "    </tr>\n",
       "    <tr>\n",
       "      <th>SMOKE_yes</th>\n",
       "      <td>-0.000000</td>\n",
       "    </tr>\n",
       "    <tr>\n",
       "      <th>Age^2 Height</th>\n",
       "      <td>-0.081664</td>\n",
       "    </tr>\n",
       "    <tr>\n",
       "      <th>Height^3</th>\n",
       "      <td>-0.492673</td>\n",
       "    </tr>\n",
       "    <tr>\n",
       "      <th>Height^2</th>\n",
       "      <td>-0.589420</td>\n",
       "    </tr>\n",
       "    <tr>\n",
       "      <th>CH2O_2</th>\n",
       "      <td>-0.673548</td>\n",
       "    </tr>\n",
       "    <tr>\n",
       "      <th>FAF_2</th>\n",
       "      <td>-1.244467</td>\n",
       "    </tr>\n",
       "    <tr>\n",
       "      <th>SCC_yes</th>\n",
       "      <td>-1.571247</td>\n",
       "    </tr>\n",
       "    <tr>\n",
       "      <th>TUE_2</th>\n",
       "      <td>-3.535195</td>\n",
       "    </tr>\n",
       "    <tr>\n",
       "      <th>FAF_3</th>\n",
       "      <td>-3.751717</td>\n",
       "    </tr>\n",
       "    <tr>\n",
       "      <th>Gender_Male</th>\n",
       "      <td>-4.009708</td>\n",
       "    </tr>\n",
       "    <tr>\n",
       "      <th>Age^2</th>\n",
       "      <td>-4.158919</td>\n",
       "    </tr>\n",
       "    <tr>\n",
       "      <th>NCP_4</th>\n",
       "      <td>-6.968810</td>\n",
       "    </tr>\n",
       "    <tr>\n",
       "      <th>CAEC_Frequently</th>\n",
       "      <td>-12.787165</td>\n",
       "    </tr>\n",
       "  </tbody>\n",
       "</table>\n",
       "</div>"
      ],
      "text/plain": [
       "                                    Coefficient\n",
       "family_history_with_overweight_yes    16.313991\n",
       "Height                                12.062721\n",
       "MTRANS_Public_Transportation           9.291347\n",
       "Age                                    9.115045\n",
       "FCVC_3                                 7.629025\n",
       "CALC_Sometimes                         5.261465\n",
       "CAEC_Sometimes                         4.461987\n",
       "NCP_3                                  3.455543\n",
       "FAVC_yes                               2.625990\n",
       "CH2O_3                                 2.374238\n",
       "TUE_1                                  1.946875\n",
       "Age Height                             1.258933\n",
       "Age^3                                  0.515591\n",
       "Age Height^2                           0.021421\n",
       "CAEC_no                                0.000000\n",
       "MTRANS_Motorbike                       0.000000\n",
       "MTRANS_Bike                            0.000000\n",
       "CALC_no                               -0.000000\n",
       "FAF_1                                  0.000000\n",
       "MTRANS_Walking                         0.000000\n",
       "NCP_2                                 -0.000000\n",
       "FCVC_2                                -0.000000\n",
       "SMOKE_yes                             -0.000000\n",
       "Age^2 Height                          -0.081664\n",
       "Height^3                              -0.492673\n",
       "Height^2                              -0.589420\n",
       "CH2O_2                                -0.673548\n",
       "FAF_2                                 -1.244467\n",
       "SCC_yes                               -1.571247\n",
       "TUE_2                                 -3.535195\n",
       "FAF_3                                 -3.751717\n",
       "Gender_Male                           -4.009708\n",
       "Age^2                                 -4.158919\n",
       "NCP_4                                 -6.968810\n",
       "CAEC_Frequently                      -12.787165"
      ]
     },
     "execution_count": 80,
     "metadata": {},
     "output_type": "execute_result"
    }
   ],
   "source": [
    "pd.DataFrame({\n",
    "    \"Coefficient\": model.named_steps[\"regr\"].coef_}, \n",
    "index=feature_names_gs).sort_values(\"Coefficient\", ascending=False)"
   ]
  },
  {
   "cell_type": "markdown",
   "id": "5c8b7635",
   "metadata": {},
   "source": [
    "Tuttavia quello che si osserva è che sono assenti alcune variabili. Infatti, il numero inferiore di variabili è causato dall'iperparametro `drop=\"first\"` che rimuove una categoria delle variabili categoriche.  \n",
    "Lo si può vedere dai successivi risultati."
   ]
  },
  {
   "cell_type": "code",
   "execution_count": 81,
   "id": "58e2b2f1",
   "metadata": {
    "scrolled": false
   },
   "outputs": [
    {
     "name": "stdout",
     "output_type": "stream",
     "text": [
      "Numero variabili nel miglior modello: 35\n",
      "Nomi variabili: ['Age', 'Height', 'Age^2', 'Age Height', 'Height^2', 'Age^3', 'Age^2 Height', 'Age Height^2', 'Height^3', 'Gender_Male', 'family_history_with_overweight_yes', 'FAVC_yes', 'SMOKE_yes', 'SCC_yes', 'FCVC_2', 'FCVC_3', 'NCP_2', 'NCP_3', 'NCP_4', 'CAEC_Frequently', 'CAEC_Sometimes', 'CAEC_no', 'CH2O_2', 'CH2O_3', 'FAF_1', 'FAF_2', 'FAF_3', 'TUE_1', 'TUE_2', 'CALC_Sometimes', 'CALC_no', 'MTRANS_Bike', 'MTRANS_Motorbike', 'MTRANS_Public_Transportation', 'MTRANS_Walking']\n"
     ]
    }
   ],
   "source": [
    "print(\"Numero variabili nel miglior modello:\", len(feature_names_gs))\n",
    "print(\"Nomi variabili:\", feature_names_gs)"
   ]
  },
  {
   "cell_type": "markdown",
   "id": "6885f8d2",
   "metadata": {},
   "source": [
    "Nel momento dell'analisi dei coefficienti, però, è bene analizzare anche tali variabili che sono state eliminate a causa dell'iperparametro `drop=\"first\"` del one-hot encoder. Infatti, anche se queste non sono esplicitamente incluse nel modello a causa del valore dell'iperparametro che ha lo scopo di evitarne la multicollinearità, il loro impatto può essere compreso attraverso l'analisi dei coefficienti del modello.  \n",
    "Si riscrive di seguito il modello nel quale non si ha alcuna eliminazione delle variabili, considerando quindi l'impatto di tutte le variabili per avere una visione completa dell'effetto complessivo di esse sul target del modello di regressione."
   ]
  },
  {
   "cell_type": "code",
   "execution_count": 82,
   "id": "379e4862",
   "metadata": {},
   "outputs": [
    {
     "data": {
      "text/html": [
       "<div>\n",
       "<style scoped>\n",
       "    .dataframe tbody tr th:only-of-type {\n",
       "        vertical-align: middle;\n",
       "    }\n",
       "\n",
       "    .dataframe tbody tr th {\n",
       "        vertical-align: top;\n",
       "    }\n",
       "\n",
       "    .dataframe thead th {\n",
       "        text-align: right;\n",
       "    }\n",
       "</style>\n",
       "<table border=\"1\" class=\"dataframe\">\n",
       "  <thead>\n",
       "    <tr style=\"text-align: right;\">\n",
       "      <th></th>\n",
       "      <th>Coefficient_best_model</th>\n",
       "    </tr>\n",
       "  </thead>\n",
       "  <tbody>\n",
       "    <tr>\n",
       "      <th>Height</th>\n",
       "      <td>12.140715</td>\n",
       "    </tr>\n",
       "    <tr>\n",
       "      <th>Age</th>\n",
       "      <td>9.292919</td>\n",
       "    </tr>\n",
       "    <tr>\n",
       "      <th>MTRANS_Public_Transportation</th>\n",
       "      <td>7.684829</td>\n",
       "    </tr>\n",
       "    <tr>\n",
       "      <th>FCVC_3</th>\n",
       "      <td>7.572034</td>\n",
       "    </tr>\n",
       "    <tr>\n",
       "      <th>CALC_Sometimes</th>\n",
       "      <td>5.215925</td>\n",
       "    </tr>\n",
       "    <tr>\n",
       "      <th>CAEC_Sometimes</th>\n",
       "      <td>4.454206</td>\n",
       "    </tr>\n",
       "    <tr>\n",
       "      <th>Gender_Female</th>\n",
       "      <td>4.010886</td>\n",
       "    </tr>\n",
       "    <tr>\n",
       "      <th>NCP_3</th>\n",
       "      <td>3.465446</td>\n",
       "    </tr>\n",
       "    <tr>\n",
       "      <th>CH2O_3</th>\n",
       "      <td>2.389787</td>\n",
       "    </tr>\n",
       "    <tr>\n",
       "      <th>TUE_1</th>\n",
       "      <td>1.977080</td>\n",
       "    </tr>\n",
       "    <tr>\n",
       "      <th>SCC_no</th>\n",
       "      <td>1.537714</td>\n",
       "    </tr>\n",
       "    <tr>\n",
       "      <th>Age Height</th>\n",
       "      <td>1.280263</td>\n",
       "    </tr>\n",
       "    <tr>\n",
       "      <th>FAF_0</th>\n",
       "      <td>1.195850</td>\n",
       "    </tr>\n",
       "    <tr>\n",
       "      <th>FAF_1</th>\n",
       "      <td>0.822119</td>\n",
       "    </tr>\n",
       "    <tr>\n",
       "      <th>Age^3</th>\n",
       "      <td>0.494800</td>\n",
       "    </tr>\n",
       "    <tr>\n",
       "      <th>Age Height^2</th>\n",
       "      <td>0.002618</td>\n",
       "    </tr>\n",
       "    <tr>\n",
       "      <th>family_history_with_overweight_yes</th>\n",
       "      <td>0.000000</td>\n",
       "    </tr>\n",
       "    <tr>\n",
       "      <th>FAVC_yes</th>\n",
       "      <td>0.000000</td>\n",
       "    </tr>\n",
       "    <tr>\n",
       "      <th>CALC_Frequently</th>\n",
       "      <td>-0.000000</td>\n",
       "    </tr>\n",
       "    <tr>\n",
       "      <th>CH2O_1</th>\n",
       "      <td>0.000000</td>\n",
       "    </tr>\n",
       "    <tr>\n",
       "      <th>CAEC_no</th>\n",
       "      <td>0.000000</td>\n",
       "    </tr>\n",
       "    <tr>\n",
       "      <th>CAEC_Always</th>\n",
       "      <td>-0.000000</td>\n",
       "    </tr>\n",
       "    <tr>\n",
       "      <th>CALC_no</th>\n",
       "      <td>-0.000000</td>\n",
       "    </tr>\n",
       "    <tr>\n",
       "      <th>MTRANS_Walking</th>\n",
       "      <td>-0.000000</td>\n",
       "    </tr>\n",
       "    <tr>\n",
       "      <th>NCP_2</th>\n",
       "      <td>-0.000000</td>\n",
       "    </tr>\n",
       "    <tr>\n",
       "      <th>TUE_0</th>\n",
       "      <td>-0.000000</td>\n",
       "    </tr>\n",
       "    <tr>\n",
       "      <th>FCVC_2</th>\n",
       "      <td>-0.000000</td>\n",
       "    </tr>\n",
       "    <tr>\n",
       "      <th>FCVC_1</th>\n",
       "      <td>-0.000000</td>\n",
       "    </tr>\n",
       "    <tr>\n",
       "      <th>SCC_yes</th>\n",
       "      <td>-0.000000</td>\n",
       "    </tr>\n",
       "    <tr>\n",
       "      <th>SMOKE_yes</th>\n",
       "      <td>-0.000000</td>\n",
       "    </tr>\n",
       "    <tr>\n",
       "      <th>SMOKE_no</th>\n",
       "      <td>0.000000</td>\n",
       "    </tr>\n",
       "    <tr>\n",
       "      <th>MTRANS_Bike</th>\n",
       "      <td>0.000000</td>\n",
       "    </tr>\n",
       "    <tr>\n",
       "      <th>MTRANS_Motorbike</th>\n",
       "      <td>0.000000</td>\n",
       "    </tr>\n",
       "    <tr>\n",
       "      <th>NCP_1</th>\n",
       "      <td>0.000000</td>\n",
       "    </tr>\n",
       "    <tr>\n",
       "      <th>Gender_Male</th>\n",
       "      <td>-0.000000</td>\n",
       "    </tr>\n",
       "    <tr>\n",
       "      <th>Age^2 Height</th>\n",
       "      <td>-0.093459</td>\n",
       "    </tr>\n",
       "    <tr>\n",
       "      <th>FAF_2</th>\n",
       "      <td>-0.225576</td>\n",
       "    </tr>\n",
       "    <tr>\n",
       "      <th>Height^3</th>\n",
       "      <td>-0.503636</td>\n",
       "    </tr>\n",
       "    <tr>\n",
       "      <th>Height^2</th>\n",
       "      <td>-0.594571</td>\n",
       "    </tr>\n",
       "    <tr>\n",
       "      <th>CH2O_2</th>\n",
       "      <td>-0.624633</td>\n",
       "    </tr>\n",
       "    <tr>\n",
       "      <th>MTRANS_Automobile</th>\n",
       "      <td>-2.165640</td>\n",
       "    </tr>\n",
       "    <tr>\n",
       "      <th>FAVC_no</th>\n",
       "      <td>-2.832130</td>\n",
       "    </tr>\n",
       "    <tr>\n",
       "      <th>FAF_3</th>\n",
       "      <td>-3.021330</td>\n",
       "    </tr>\n",
       "    <tr>\n",
       "      <th>TUE_2</th>\n",
       "      <td>-3.610213</td>\n",
       "    </tr>\n",
       "    <tr>\n",
       "      <th>Age^2</th>\n",
       "      <td>-4.087669</td>\n",
       "    </tr>\n",
       "    <tr>\n",
       "      <th>NCP_4</th>\n",
       "      <td>-6.866053</td>\n",
       "    </tr>\n",
       "    <tr>\n",
       "      <th>CAEC_Frequently</th>\n",
       "      <td>-12.813517</td>\n",
       "    </tr>\n",
       "    <tr>\n",
       "      <th>family_history_with_overweight_no</th>\n",
       "      <td>-16.294392</td>\n",
       "    </tr>\n",
       "  </tbody>\n",
       "</table>\n",
       "</div>"
      ],
      "text/plain": [
       "                                    Coefficient_best_model\n",
       "Height                                           12.140715\n",
       "Age                                               9.292919\n",
       "MTRANS_Public_Transportation                      7.684829\n",
       "FCVC_3                                            7.572034\n",
       "CALC_Sometimes                                    5.215925\n",
       "CAEC_Sometimes                                    4.454206\n",
       "Gender_Female                                     4.010886\n",
       "NCP_3                                             3.465446\n",
       "CH2O_3                                            2.389787\n",
       "TUE_1                                             1.977080\n",
       "SCC_no                                            1.537714\n",
       "Age Height                                        1.280263\n",
       "FAF_0                                             1.195850\n",
       "FAF_1                                             0.822119\n",
       "Age^3                                             0.494800\n",
       "Age Height^2                                      0.002618\n",
       "family_history_with_overweight_yes                0.000000\n",
       "FAVC_yes                                          0.000000\n",
       "CALC_Frequently                                  -0.000000\n",
       "CH2O_1                                            0.000000\n",
       "CAEC_no                                           0.000000\n",
       "CAEC_Always                                      -0.000000\n",
       "CALC_no                                          -0.000000\n",
       "MTRANS_Walking                                   -0.000000\n",
       "NCP_2                                            -0.000000\n",
       "TUE_0                                            -0.000000\n",
       "FCVC_2                                           -0.000000\n",
       "FCVC_1                                           -0.000000\n",
       "SCC_yes                                          -0.000000\n",
       "SMOKE_yes                                        -0.000000\n",
       "SMOKE_no                                          0.000000\n",
       "MTRANS_Bike                                       0.000000\n",
       "MTRANS_Motorbike                                  0.000000\n",
       "NCP_1                                             0.000000\n",
       "Gender_Male                                      -0.000000\n",
       "Age^2 Height                                     -0.093459\n",
       "FAF_2                                            -0.225576\n",
       "Height^3                                         -0.503636\n",
       "Height^2                                         -0.594571\n",
       "CH2O_2                                           -0.624633\n",
       "MTRANS_Automobile                                -2.165640\n",
       "FAVC_no                                          -2.832130\n",
       "FAF_3                                            -3.021330\n",
       "TUE_2                                            -3.610213\n",
       "Age^2                                            -4.087669\n",
       "NCP_4                                            -6.866053\n",
       "CAEC_Frequently                                 -12.813517\n",
       "family_history_with_overweight_no               -16.294392"
      ]
     },
     "execution_count": 82,
     "metadata": {},
     "output_type": "execute_result"
    }
   ],
   "source": [
    "model = Pipeline([\n",
    "    (\"preproc\", ColumnTransformer([\n",
    "        (\"numeric\",  Pipeline([\n",
    "            (\"scaler\", StandardScaler()),\n",
    "            (\"poly\", PolynomialFeatures(include_bias=False, degree=3))\n",
    "        ]), numeric_vars),\n",
    "        (\"categorical\", OneHotEncoder(drop=None), categorical_vars)\n",
    "    ])),\n",
    "    (\"regr\", Lasso(alpha=0.1))\n",
    "])\n",
    "model.fit(X_train, y_train)\n",
    "\n",
    "all_feature_names_total = np.r_[\n",
    "    model.named_steps[\"preproc\"].named_transformers_[\"numeric\"].named_steps[\"poly\"].get_feature_names(numeric_vars),\n",
    "    model.named_steps[\"preproc\"].named_transformers_[\"categorical\"].get_feature_names(categorical_vars),\n",
    "].tolist()\n",
    "\n",
    "pd.DataFrame({\n",
    "    \"Coefficient_best_model\": model.named_steps[\"regr\"].coef_}, \n",
    "index=all_feature_names_total).sort_values(\"Coefficient_best_model\", ascending=False)"
   ]
  },
  {
   "cell_type": "code",
   "execution_count": 83,
   "id": "81b36992",
   "metadata": {
    "scrolled": true
   },
   "outputs": [
    {
     "name": "stdout",
     "output_type": "stream",
     "text": [
      "Numero totale delle variabili: 48\n"
     ]
    }
   ],
   "source": [
    "print(\"Numero totale delle variabili:\", len(all_feature_names_total))"
   ]
  },
  {
   "cell_type": "code",
   "execution_count": 84,
   "id": "964c3b77",
   "metadata": {},
   "outputs": [],
   "source": [
    "coefficients_best_model = pd.Series(model.named_steps[\"regr\"].coef_, index=all_feature_names_total).sort_values(ascending=False)\n",
    "best_coefficients = coefficients_best_model"
   ]
  },
  {
   "cell_type": "code",
   "execution_count": 85,
   "id": "7b22be27",
   "metadata": {},
   "outputs": [
    {
     "data": {
      "image/png": "[encoded data removed]",
      "text/plain": [
       "<Figure size 720x576 with 1 Axes>"
      ]
     },
     "metadata": {
      "needs_background": "light"
     },
     "output_type": "display_data"
    }
   ],
   "source": [
    "# Soglia minima per considerare un coefficiente significativo\n",
    "threshold = 0.009\n",
    "significant_best_coefficients = best_coefficients[abs(best_coefficients) > threshold]\n",
    "significant_best_feature_names = significant_best_coefficients.index\n",
    "significant_best_importance_values = significant_best_coefficients.values\n",
    "\n",
    "plt.figure(figsize=(10, 8))\n",
    "plt.barh(significant_best_feature_names, significant_best_importance_values, \n",
    "         color=[\"springgreen\" if val > threshold else \"red\" \n",
    "                for val in significant_best_importance_values])\n",
    "plt.xlabel(\"Coefficient value\")\n",
    "plt.ylabel(\"Variables\")\n",
    "plt.title(\"Significant coefficients of best regression model\")\n",
    "plt.grid(axis=\"x\", linestyle=\"--\")\n",
    "plt.gca().invert_yaxis()"
   ]
  },
  {
   "cell_type": "markdown",
   "id": "a77ec7bc",
   "metadata": {},
   "source": [
    "A seguito della realizzazione del modello, dimostrato essere il modello migliore (tramite grid search) per la predizione del peso, si può concludere con le seguenti osservazioni.  \n",
    "Vi sono diverse variabili che non vengono considerate nella predizione poichè considerate irrilevanti. Alcune di esse sono:\n",
    "- `MTRANS_Walking`, l'andare a piedi come mezzo di trasporto principale,\n",
    "- `MTRANS_Bike`, l'utilizzo dellla bici come mezzo di trasporto principale,\n",
    "- `family_history_with_overweight_yes`, la presenza di almeno un familiare in sovrappeso,\n",
    "- `SMOKE_yes`, l'essere un fumatore,\n",
    "- `SMOKE_no`, l'essere un non-fumatore,\n",
    "- `FAVC_yes`, l'assunzione di cibi ad alto contenuto energetico.   "
   ]
  },
  {
   "cell_type": "markdown",
   "id": "d12cc22f",
   "metadata": {},
   "source": [
    "Le variabili che vengono considerate positivamente per la predizione del peso sono:"
   ]
  },
  {
   "cell_type": "code",
   "execution_count": 86,
   "id": "2ef379c2",
   "metadata": {},
   "outputs": [
    {
     "data": {
      "text/plain": [
       "['Height',\n",
       " 'Age',\n",
       " 'MTRANS_Public_Transportation',\n",
       " 'FCVC_3',\n",
       " 'CALC_Sometimes',\n",
       " 'CAEC_Sometimes']"
      ]
     },
     "execution_count": 86,
     "metadata": {},
     "output_type": "execute_result"
    }
   ],
   "source": [
    "best_coefficients.index[:6].tolist()"
   ]
  },
  {
   "cell_type": "markdown",
   "id": "01d79984",
   "metadata": {},
   "source": [
    "Ossia: \n",
    "- `Height`, l'altezza,\n",
    "- `Age`, l'età,\n",
    "- `MTRANS_Public_Transportation`, il trasporto pubblico come mezzo di trasporto principale.\n",
    "- `FCVC_3`, l'assunzione di molte verdure nei pasti,\n",
    "- `CALC_Sometimes`, l'assunzione non frequente di alcol,\n",
    "- `CAEC_Sometimes`, il non-frequente consumo di cibi al di fuori dei pasti principali.  \n",
    "\n",
    "Dove, in particolare, ad un maggior valore di altezza ed età corrisponderanno valori di peso maggiore."
   ]
  },
  {
   "cell_type": "markdown",
   "id": "98dd39ce",
   "metadata": {},
   "source": [
    "Al contrario, le variabili che vengono considerate negativamente per la predizione del peso sono:"
   ]
  },
  {
   "cell_type": "code",
   "execution_count": 87,
   "id": "44ac51d9",
   "metadata": {
    "scrolled": true
   },
   "outputs": [
    {
     "data": {
      "text/plain": [
       "['FAF_3',\n",
       " 'TUE_2',\n",
       " 'Age^2',\n",
       " 'NCP_4',\n",
       " 'CAEC_Frequently',\n",
       " 'family_history_with_overweight_no']"
      ]
     },
     "execution_count": 87,
     "metadata": {},
     "output_type": "execute_result"
    }
   ],
   "source": [
    "best_coefficients.index[-6:].tolist()"
   ]
  },
  {
   "cell_type": "markdown",
   "id": "9f134de5",
   "metadata": {},
   "source": [
    "Ossia: \n",
    "- `FAF_3`, la frequente attività fisica durante la settimana,\n",
    "- `TUE_2`, il diverso tempo dedicato ad attività sedentarie,\n",
    "- `Age^2`, l'elevamento a seconda dell'età,\n",
    "- `NCP_4`, l'assunzione di diversi pasti all'interno della giornata,\n",
    "- `CAEC_Frequently`, l'assunzione frequente di cibo al di fuori dei pasti principali,\n",
    "- `family_history_with_overweight_no`, l'assenza di un familiare in sovrappeso."
   ]
  },
  {
   "cell_type": "markdown",
   "id": "5dee9540",
   "metadata": {},
   "source": [
    "Possiamo quindi fare le seguenti considerazioni finali sul modello:  \n",
    "\n",
    "1. **Migliori parametri:** I migliori parametri identificati dalla grid search per il modello sono:\n",
    "   - Per le variabili numeriche: standardizzazione e generazione di features polinomiali di grado 3.\n",
    "   - Per le variabili categoriche: drop della prima colonna dopo one-hot encoding.\n",
    "   - Per la scelta del modello: modello Lasso con alpha pari a 0.1, quindi applicazione di una regolarizzazione relativamente bassa.  \n",
    "   \n",
    "   \n",
    "2. **Moderata capacità predittiva:** Il modello ottenuto ha una capacità predittiva ragionevole. Il valore di R² vicino a 0.62 indica come il modello abbia una certa utilità nella predizione della variabile target (`Weight`), suggerendo però allo stesso tempo come non sia in grado di effettuare previsioni molto precise sul peso basandosi sulle sole features fornite.  \n",
    "\n",
    "\n",
    "3. **Scelte di preprocessing:** La scelta di standardizzare le variabili numeriche e la generazione di features polinomiali con grado 3 sembra essere la scelta migliore per il modello, in quanto ha portato a prestazioni migliori. Inoltre, la decisione di eliminare la prima colonna dopo il one-hot encoding per le variabili categoriche sembra essere utile, probabilmente per evitare il problema della multi-collinearità tra le variabili."
   ]
  },
  {
   "cell_type": "markdown",
   "id": "016f6394",
   "metadata": {},
   "source": [
    "Avendo comunque ottenuto modelli simili in termini di performance, ne si analizza l'intersezione dei fattori più rilevanti (sia in positivo che in negativo) comuni in ciascun modello creato, con lo scopo di individuare se in tali modelli vi sono variabili che si possono definire fondamentali e comuni per la predizione del peso."
   ]
  },
  {
   "cell_type": "code",
   "execution_count": 88,
   "id": "2b3a0491",
   "metadata": {},
   "outputs": [
    {
     "data": {
      "text/plain": [
       "{'Age',\n",
       " 'CAEC_Frequently',\n",
       " 'CAEC_Sometimes',\n",
       " 'FAF_3',\n",
       " 'FCVC_3',\n",
       " 'Height',\n",
       " 'NCP_4',\n",
       " 'family_history_with_overweight_no'}"
      ]
     },
     "execution_count": 88,
     "metadata": {},
     "output_type": "execute_result"
    }
   ],
   "source": [
    "serie1 = pd.concat([scaled_and_ridge.head(6), scaled_and_ridge.tail(6)])\n",
    "serie2 = pd.concat([scaled_and_lasso.head(6), scaled_and_lasso.tail(6)])\n",
    "serie3 = pd.concat([coefficients_best_model.head(6), coefficients_best_model.tail(6)])\n",
    "\n",
    "serie1_names = set(serie1.index)\n",
    "serie2_names = set(serie2.index)\n",
    "serie3_names = set(serie3.index)\n",
    "\n",
    "intersection_names = serie1_names & serie2_names & serie3_names\n",
    "intersection_names"
   ]
  },
  {
   "cell_type": "markdown",
   "id": "eed0b541",
   "metadata": {},
   "source": [
    "Si conclude osservando come l'età (`Age`) e l'altezza (`Height`), ossia le uniche due variabili numeriche riguardanti le caratteristiche fisiche di un individuo all'interno del dataset, siano fattori definiti come rilevanti in ciascuno dei modelli osservati.  \n",
    "Inoltre sono rilevanti anche delle abitudini alimentari dell'individuo: l'assunzione di molte verdure nei pasti (`FCVC_3`) e l'assunzione frequente e non frequente di alcol (rispettivamente `CALC_Frequently` e `CALC_Sometimes`).  \n",
    "Infine, per quanto riguarda lo stile di vita, emerge come sia importante l'elevata frequenza di attività fisica (`FAF_3`).  \n",
    "È importante considerare anche se l'utente non possiede/possedeva familiari in sovrappeso (`family_history_with_overweight_no`)."
   ]
  },
  {
   "cell_type": "markdown",
   "id": "bb750d91",
   "metadata": {},
   "source": [
    "### Modello con alberi decisionali\n",
    "**Premesse e precisazioni**  \n",
    "\n",
    "Si prosegue analizzando un altro modello di regressione basato sugli alberi decisionali: si parlerà quindi di alberi di regressione.  \n",
    "Una caratteristica intrinseca di questi modelli è la loro capacità di catturare relazioni non lineari tra le features e la variabile target. Quindi, la ragione per cui si analizza tale modello applicato a tale contesto è dovuta dal fatto che esso permetterà di modellare dati complessi e allo stesso tempo permetterà di modellare relazioni non lineari tra le variabili.      \n",
    "Lo scopo rimane sempre quello di prevedere e stimare il valore del peso di un individuo senza che vi sia una conoscenza a priori della classe di obesità, come visto fino ad ora.  \n",
    "\n",
    "\n",
    "Con questo modello si avrà la possibilità di osservare le vere e proprie scelte decisionali: si avrà di fatti una suddivisione dello spazio delle features in parti più piccole e gestibili, dove ogni partizione rappresenterà una suddivisione dello spazio e dove in ognuna si stimerà il peso per i punti (ossia gli individui) contenuti in quella regione.  \n",
    "L'importanza delle variabili non verrà espressa attraverso coefficienti con segni positivi o negativi come nei modelli di regressione lineare, ma piuttosto tramite un valore che misurerà quanto una variabile influisce sulla suddivisione dei dati nell'albero. Si analizzerà quindi l'importanza delle variabili in modo da fornire una stima dell'influenza di ciascuna sull'output del modello, senza distinguere se ha un'influenza positiva o negativa. Ci si muove quindi verso una generalizzazione relativa all'importanza delle variabili.  \n",
    "\n",
    "Sarà proprio da tale modello che si comprenderanno le variabili determinanti nella predizione del peso di un individuo."
   ]
  },
  {
   "cell_type": "markdown",
   "id": "83b46278",
   "metadata": {},
   "source": [
    "Ci si muove inizialmente con la stessa logica utilizzata fino ad ora: si analizza il modello sulle sole variabili numeriche ed inoltre, ora, si impone anche una profondità massima dell'albero.\n",
    "\n",
    "- Modello predittivo creato sulle sole variabili numeriche"
   ]
  },
  {
   "cell_type": "code",
   "execution_count": 89,
   "id": "fadd9c44",
   "metadata": {},
   "outputs": [],
   "source": [
    "# Importazioni necessarie per crezione modello basato su alberi decisionali\n",
    "from sklearn.tree import DecisionTreeRegressor, export_text, plot_tree"
   ]
  },
  {
   "cell_type": "code",
   "execution_count": 90,
   "id": "e5b5adaf",
   "metadata": {},
   "outputs": [
    {
     "name": "stdout",
     "output_type": "stream",
     "text": [
      "R²: 0.32109759552055683\n",
      "MSE: 485.5771796687562\n",
      "Relative error: 23.642%\n"
     ]
    }
   ],
   "source": [
    "model = DecisionTreeRegressor(max_depth=2, random_state=42)\n",
    "model.fit(X_train_num, y_train)\n",
    "model_performance(X_val_num, y_val, model)"
   ]
  },
  {
   "cell_type": "markdown",
   "id": "a468c698",
   "metadata": {},
   "source": [
    "Si ottengono, come si poteva immaginare, risultati poco soddisfacenti. Tale risultato potrebbe essere dato dal basso valore di `max_depth` impostato e quindi si prova ad aumentare la profondità dell'albero cercando il valore migliore attraverso una grid search, con lo scopo di non impostare una profondità che possa essere limitante per il modello."
   ]
  },
  {
   "cell_type": "code",
   "execution_count": 91,
   "id": "75eb5f81",
   "metadata": {},
   "outputs": [
    {
     "name": "stdout",
     "output_type": "stream",
     "text": [
      "Miglior valore di max_depth:  {'max_depth': 7}\n"
     ]
    }
   ],
   "source": [
    "grid = {\n",
    "    \"max_depth\": [3, 4, 5, 6, 7, 8, 9, 10]\n",
    "}\n",
    "\n",
    "kf = KFold(3, shuffle=True, random_state=42)\n",
    "model = DecisionTreeRegressor(random_state=42)\n",
    "gs = GridSearchCV(model, grid, cv=kf)\n",
    "gs.fit(X_train_num, y_train)\n",
    "\n",
    "print(\"Miglior valore di max_depth: \", gs.best_params_)"
   ]
  },
  {
   "cell_type": "code",
   "execution_count": 92,
   "id": "300ef079",
   "metadata": {},
   "outputs": [
    {
     "name": "stdout",
     "output_type": "stream",
     "text": [
      "R²: 0.40981278886016304\n",
      "MSE: 422.1246523373129\n",
      "Relative error: 19.045%\n"
     ]
    }
   ],
   "source": [
    "model = DecisionTreeRegressor(max_depth=7, random_state=42)\n",
    "model.fit(X_train_num, y_train)\n",
    "model_performance(X_val_num, y_val, model)"
   ]
  },
  {
   "cell_type": "markdown",
   "id": "2801fe74",
   "metadata": {},
   "source": [
    "Nonostante sia stata effettuata la ricerca del miglior valore per l'iperparametro `max_depth` tramite grid search, si ottiene un modello non eccessivamente buono; si nota comunque un miglioramento generale delle metriche di valutazione delle performance.  \n",
    "Ciò fa intendere come, ovviamente, non sia sufficiente includere le sole variabili numeriche (come osservato anche precedentemente)."
   ]
  },
  {
   "cell_type": "markdown",
   "id": "8b338c75",
   "metadata": {},
   "source": [
    "- Modello predittivo creato sulle variabili numeriche e categoriche  \n",
    "\n",
    "Decido di non imporre la standardizzazione delle variabili numeriche per avere una maggiore interpretabilità del risultato e quindi dell'albero decisionale.  \n",
    "Si utilizza una grid search con lo scopo di individuare il miglior valore da assegnare alla massima profondità dell'albero, in modo tale che essa non possa essere un limite per il modello."
   ]
  },
  {
   "cell_type": "code",
   "execution_count": 93,
   "id": "fa65ddf4",
   "metadata": {},
   "outputs": [
    {
     "name": "stdout",
     "output_type": "stream",
     "text": [
      "Miglior valore di max_depth:  {'max_depth': 11}\n"
     ]
    }
   ],
   "source": [
    "preprocessor = ColumnTransformer([\n",
    "    (\"numeric\", \"passthrough\", numeric_vars),\n",
    "    (\"categorical\", OneHotEncoder(), categorical_vars)\n",
    "])\n",
    "\n",
    "X_train_encoded = preprocessor.fit_transform(X_train)\n",
    "X_val_encoded = preprocessor.transform(X_val)\n",
    "\n",
    "grid = {\n",
    "    \"max_depth\": range(1,21)\n",
    "}\n",
    "\n",
    "kf = KFold(3, shuffle=True, random_state=42)\n",
    "model = DecisionTreeRegressor(random_state=42)\n",
    "gs = GridSearchCV(model, grid, cv=kf)\n",
    "gs.fit(X_train_encoded, y_train)\n",
    "\n",
    "print(\"Miglior valore di max_depth: \", gs.best_params_)"
   ]
  },
  {
   "cell_type": "code",
   "execution_count": 94,
   "id": "868a51be",
   "metadata": {},
   "outputs": [
    {
     "name": "stdout",
     "output_type": "stream",
     "text": [
      "R²: 0.7349194702760318\n",
      "MSE: 189.59581695274707\n",
      "Relative error: 10.075%\n"
     ]
    }
   ],
   "source": [
    "model = DecisionTreeRegressor(max_depth=11, random_state=42)\n",
    "model.fit(X_train_encoded, y_train)\n",
    "model_performance(X_val_encoded, y_val, model)"
   ]
  },
  {
   "cell_type": "code",
   "execution_count": 95,
   "id": "83417b4f",
   "metadata": {},
   "outputs": [
    {
     "name": "stdout",
     "output_type": "stream",
     "text": [
      "|--- family_history_with_overweight_yes <= 0.50\n",
      "|   |--- Gender_Female <= 0.50\n",
      "|   |   |--- Age <= 23.50\n",
      "|   |   |   |--- SCC_yes <= 0.50\n",
      "|   |   |   |   |--- CALC_Frequently <= 0.50\n",
      "|   |   |   |   |   |--- NCP_1 <= 0.50\n",
      "|   |   |   |   |   |   |--- TUE_0 <= 0.50\n",
      "|   |   |   |   |   |   |   |--- CAEC_Sometimes <= 0.50\n",
      "|   |   |   |   |   |   |   |   |--- FCVC_1 <= 0.50\n",
      "|   |   |   |   |   |   |   |   |   |--- Age <= 17.50\n",
      "|   |   |   |   |   |   |   |   |   |   |--- FCVC_3 <= 0.50\n",
      "|   |   |   |   |   |   |   |   |   |   |   |--- value: [60.00]\n",
      "|   |   |   |   |   |   |   |   |   |   |--- FCVC_3 >  0.50\n",
      "|   |   |   |   |   |   |   |   |   |   |   |--- value: [55.00]\n",
      "|   |   |   |   |   |   |   |   |   |--- Age >  17.50\n",
      "|   |   |   |   |   |   |   |   |   |   |--- Age <= 22.00\n",
      "|   |   |   |   |   |   |   |   |   |   |   |--- value: [69.93]\n",
      "|   |   |   |   |   |   |   |   |   |   |--- Age >  22.00\n",
      "|   |   |   |   |   |   |   |   |   |   |   |--- value: [61.00]\n",
      "|   |   |   |   |   |   |   |   |--- FCVC_1 >  0.50\n",
      "|   |   |   |   |   |   |   |   |   |--- value: [50.00]\n",
      "|   |   |   |   |   |   |   |--- CAEC_Sometimes >  0.50\n",
      "|   |   |   |   |   |   |   |   |--- CALC_no <= 0.50\n",
      "|   |   |   |   |   |   |   |   |   |--- Height <= 1.60\n",
      "|   |   |   |   |   |   |   |   |   |   |--- value: [45.00]\n",
      "|   |   |   |   |   |   |   |   |   |--- Height >  1.60\n",
      "|   |   |   |   |   |   |   |   |   |   |--- Height <= 1.75\n",
      "|   |   |   |   |   |   |   |   |   |   |   |--- value: [58.84]\n",
      "|   |   |   |   |   |   |   |   |   |   |--- Height >  1.75\n",
      "|   |   |   |   |   |   |   |   |   |   |   |--- value: [51.48]\n",
      "|   |   |   |   |   |   |   |   |--- CALC_no >  0.50\n",
      "|   |   |   |   |   |   |   |   |   |--- Age <= 20.50\n",
      "|   |   |   |   |   |   |   |   |   |   |--- NCP_4 <= 0.50\n",
      "|   |   |   |   |   |   |   |   |   |   |   |--- value: [62.75]\n",
      "|   |   |   |   |   |   |   |   |   |   |--- NCP_4 >  0.50\n",
      "|   |   |   |   |   |   |   |   |   |   |   |--- value: [70.00]\n",
      "|   |   |   |   |   |   |   |   |   |--- Age >  20.50\n",
      "|   |   |   |   |   |   |   |   |   |   |--- value: [72.00]\n",
      "|   |   |   |   |   |   |--- TUE_0 >  0.50\n",
      "|   |   |   |   |   |   |   |--- Age <= 18.50\n",
      "|   |   |   |   |   |   |   |   |--- CH2O_3 <= 0.50\n",
      "|   |   |   |   |   |   |   |   |   |--- FAF_2 <= 0.50\n",
      "|   |   |   |   |   |   |   |   |   |   |--- FCVC_3 <= 0.50\n",
      "|   |   |   |   |   |   |   |   |   |   |   |--- value: [85.00]\n",
      "|   |   |   |   |   |   |   |   |   |   |--- FCVC_3 >  0.50\n",
      "|   |   |   |   |   |   |   |   |   |   |   |--- value: [86.00]\n",
      "|   |   |   |   |   |   |   |   |   |--- FAF_2 >  0.50\n",
      "|   |   |   |   |   |   |   |   |   |   |--- value: [90.00]\n",
      "|   |   |   |   |   |   |   |   |--- CH2O_3 >  0.50\n",
      "|   |   |   |   |   |   |   |   |   |--- value: [50.00]\n",
      "|   |   |   |   |   |   |   |--- Age >  18.50\n",
      "|   |   |   |   |   |   |   |   |--- FAVC_no <= 0.50\n",
      "|   |   |   |   |   |   |   |   |   |--- CAEC_Always <= 0.50\n",
      "|   |   |   |   |   |   |   |   |   |   |--- Age <= 20.50\n",
      "|   |   |   |   |   |   |   |   |   |   |   |--- value: [62.60]\n",
      "|   |   |   |   |   |   |   |   |   |   |--- Age >  20.50\n",
      "|   |   |   |   |   |   |   |   |   |   |   |--- value: [67.28]\n",
      "|   |   |   |   |   |   |   |   |   |--- CAEC_Always >  0.50\n",
      "|   |   |   |   |   |   |   |   |   |   |--- value: [75.00]\n",
      "|   |   |   |   |   |   |   |   |--- FAVC_no >  0.50\n",
      "|   |   |   |   |   |   |   |   |   |--- Age <= 22.50\n",
      "|   |   |   |   |   |   |   |   |   |   |--- FAF_2 <= 0.50\n",
      "|   |   |   |   |   |   |   |   |   |   |   |--- value: [51.50]\n",
      "|   |   |   |   |   |   |   |   |   |   |--- FAF_2 >  0.50\n",
      "|   |   |   |   |   |   |   |   |   |   |   |--- value: [56.00]\n",
      "|   |   |   |   |   |   |   |   |   |--- Age >  22.50\n",
      "|   |   |   |   |   |   |   |   |   |   |--- FAF_1 <= 0.50\n",
      "|   |   |   |   |   |   |   |   |   |   |   |--- value: [61.00]\n",
      "|   |   |   |   |   |   |   |   |   |   |--- FAF_1 >  0.50\n",
      "|   |   |   |   |   |   |   |   |   |   |   |--- value: [58.00]\n",
      "|   |   |   |   |   |--- NCP_1 >  0.50\n",
      "|   |   |   |   |   |   |--- Height <= 1.74\n",
      "|   |   |   |   |   |   |   |--- CALC_Sometimes <= 0.50\n",
      "|   |   |   |   |   |   |   |   |--- value: [80.00]\n",
      "|   |   |   |   |   |   |   |--- CALC_Sometimes >  0.50\n",
      "|   |   |   |   |   |   |   |   |--- Height <= 1.64\n",
      "|   |   |   |   |   |   |   |   |   |--- TUE_1 <= 0.50\n",
      "|   |   |   |   |   |   |   |   |   |   |--- value: [70.00]\n",
      "|   |   |   |   |   |   |   |   |   |--- TUE_1 >  0.50\n",
      "|   |   |   |   |   |   |   |   |   |   |--- CAEC_no <= 0.50\n",
      "|   |   |   |   |   |   |   |   |   |   |   |--- value: [69.53]\n",
      "|   |   |   |   |   |   |   |   |   |   |--- CAEC_no >  0.50\n",
      "|   |   |   |   |   |   |   |   |   |   |   |--- value: [69.58]\n",
      "|   |   |   |   |   |   |   |   |--- Height >  1.64\n",
      "|   |   |   |   |   |   |   |   |   |--- Height <= 1.69\n",
      "|   |   |   |   |   |   |   |   |   |   |--- FCVC_2 <= 0.50\n",
      "|   |   |   |   |   |   |   |   |   |   |   |--- value: [60.00]\n",
      "|   |   |   |   |   |   |   |   |   |   |--- FCVC_2 >  0.50\n",
      "|   |   |   |   |   |   |   |   |   |   |   |--- value: [62.00]\n",
      "|   |   |   |   |   |   |   |   |   |--- Height >  1.69\n",
      "|   |   |   |   |   |   |   |   |   |   |--- value: [69.00]\n",
      "|   |   |   |   |   |   |--- Height >  1.74\n",
      "|   |   |   |   |   |   |   |--- Height <= 1.79\n",
      "|   |   |   |   |   |   |   |   |--- value: [89.80]\n",
      "|   |   |   |   |   |   |   |--- Height >  1.79\n",
      "|   |   |   |   |   |   |   |   |--- value: [80.00]\n",
      "|   |   |   |   |--- CALC_Frequently >  0.50\n",
      "|   |   |   |   |   |--- NCP_3 <= 0.50\n",
      "|   |   |   |   |   |   |--- value: [87.00]\n",
      "|   |   |   |   |   |--- NCP_3 >  0.50\n"
     ]
    }
   ],
   "source": [
    "tree_text = export_text(model, feature_names=all_feature_names)\n",
    "\n",
    "# Divido l'output per righe: mostro solo le prime 100\n",
    "tree_rows = tree_text.split(\"\\n\")\n",
    "for row in tree_rows[:100]:\n",
    "    print(row)"
   ]
  },
  {
   "cell_type": "markdown",
   "id": "052fac59",
   "metadata": {},
   "source": [
    "Il modello \"ragiona\" nel seguente modo:  \n",
    "\n",
    "\n",
    "Se `family_history_with_overweight_yes` è 0 (cioè non c'è familiarità in termini di sovrappeso):\n",
    "\n",
    "- Se `Gender_Female` è 0 (cioè non è di genere femminile e quindi è un maschio):\n",
    "  - Se l'età (`Age`) è minore o uguale a 23.50:\n",
    "    - Se `SCC_yes` è 0 (cioè non monitora le calorie che assume):\n",
    "      - Se `CALC_Frequently` è 0 (cioè il consumo di calorie provenienti da alcol non è frequente):\n",
    "        - Se `NCP_1` è 0 (cioè non consuma pochi pasti al giorno):\n",
    "          - Se `TUE_0` è 0 (cioè il tempo dedicato alle attività sedentarie non è basso):\n",
    "            - Se `CAEC_Sometimes` è 0 (cioè il consumo di cibo al di fuori dei pasti principali non avviene solo qualche volta):\n",
    "              - Se `FCVC_1` è 0 (cioè non assume poche verdure nei pasti):\n",
    "                - Se l'età (`Age`) è minore o uguale a 17.50:\n",
    "                  - Se `FCVC_3` è 0 (cioè non assume molte verdure nei pasti):\n",
    "                    - Allora il peso stimato è di 60.00 kg.\n",
    "                  - Se `FCVC_3` è 1 (cioè assume molte verdure nei pasti):\n",
    "                    - Allora il peso stimato è di 55.00 kg.\n",
    "                - Se l'età (`Age`) è maggiore di 17.50:\n",
    "                    - si prosegue con questa logica ..."
   ]
  },
  {
   "cell_type": "code",
   "execution_count": 96,
   "id": "3cb6fb49",
   "metadata": {
    "scrolled": true
   },
   "outputs": [
    {
     "data": {
      "image/png": "[encoded data removed]",
      "text/plain": [
       "<Figure size 1728x576 with 1 Axes>"
      ]
     },
     "metadata": {
      "needs_background": "light"
     },
     "output_type": "display_data"
    }
   ],
   "source": [
    "plt.figure(figsize=(24, 8))\n",
    "plot_tree(model, feature_names=all_feature_names, max_depth=3, fontsize=8);"
   ]
  },
  {
   "cell_type": "markdown",
   "id": "8aaf9450",
   "metadata": {},
   "source": [
    "Visualizziamone dunque l'importanza delle diverse features: ciò consentirà di capire e comprendere quali sono i fattori predominanti per la stima del peso di un individuo."
   ]
  },
  {
   "cell_type": "code",
   "execution_count": 97,
   "id": "4fef22fd",
   "metadata": {
    "scrolled": false
   },
   "outputs": [
    {
     "data": {
      "text/html": [
       "<div>\n",
       "<style scoped>\n",
       "    .dataframe tbody tr th:only-of-type {\n",
       "        vertical-align: middle;\n",
       "    }\n",
       "\n",
       "    .dataframe tbody tr th {\n",
       "        vertical-align: top;\n",
       "    }\n",
       "\n",
       "    .dataframe thead th {\n",
       "        text-align: right;\n",
       "    }\n",
       "</style>\n",
       "<table border=\"1\" class=\"dataframe\">\n",
       "  <thead>\n",
       "    <tr style=\"text-align: right;\">\n",
       "      <th></th>\n",
       "      <th>Features importances</th>\n",
       "    </tr>\n",
       "  </thead>\n",
       "  <tbody>\n",
       "    <tr>\n",
       "      <th>family_history_with_overweight_yes</th>\n",
       "      <td>0.253812</td>\n",
       "    </tr>\n",
       "    <tr>\n",
       "      <th>Height</th>\n",
       "      <td>0.150580</td>\n",
       "    </tr>\n",
       "    <tr>\n",
       "      <th>CALC_Sometimes</th>\n",
       "      <td>0.113021</td>\n",
       "    </tr>\n",
       "    <tr>\n",
       "      <th>FCVC_3</th>\n",
       "      <td>0.078923</td>\n",
       "    </tr>\n",
       "    <tr>\n",
       "      <th>Age</th>\n",
       "      <td>0.076160</td>\n",
       "    </tr>\n",
       "    <tr>\n",
       "      <th>Gender_Male</th>\n",
       "      <td>0.071300</td>\n",
       "    </tr>\n",
       "    <tr>\n",
       "      <th>CAEC_Sometimes</th>\n",
       "      <td>0.035445</td>\n",
       "    </tr>\n",
       "    <tr>\n",
       "      <th>MTRANS_Public_Transportation</th>\n",
       "      <td>0.032440</td>\n",
       "    </tr>\n",
       "    <tr>\n",
       "      <th>TUE_1</th>\n",
       "      <td>0.030556</td>\n",
       "    </tr>\n",
       "    <tr>\n",
       "      <th>Gender_Female</th>\n",
       "      <td>0.027857</td>\n",
       "    </tr>\n",
       "    <tr>\n",
       "      <th>NCP_3</th>\n",
       "      <td>0.022446</td>\n",
       "    </tr>\n",
       "    <tr>\n",
       "      <th>NCP_4</th>\n",
       "      <td>0.018577</td>\n",
       "    </tr>\n",
       "    <tr>\n",
       "      <th>FAVC_yes</th>\n",
       "      <td>0.014272</td>\n",
       "    </tr>\n",
       "    <tr>\n",
       "      <th>FCVC_2</th>\n",
       "      <td>0.007381</td>\n",
       "    </tr>\n",
       "    <tr>\n",
       "      <th>MTRANS_Automobile</th>\n",
       "      <td>0.006958</td>\n",
       "    </tr>\n",
       "    <tr>\n",
       "      <th>CH2O_2</th>\n",
       "      <td>0.006414</td>\n",
       "    </tr>\n",
       "    <tr>\n",
       "      <th>FAVC_no</th>\n",
       "      <td>0.006313</td>\n",
       "    </tr>\n",
       "    <tr>\n",
       "      <th>NCP_2</th>\n",
       "      <td>0.006124</td>\n",
       "    </tr>\n",
       "    <tr>\n",
       "      <th>FAF_1</th>\n",
       "      <td>0.005520</td>\n",
       "    </tr>\n",
       "    <tr>\n",
       "      <th>FAF_0</th>\n",
       "      <td>0.004772</td>\n",
       "    </tr>\n",
       "    <tr>\n",
       "      <th>TUE_2</th>\n",
       "      <td>0.004306</td>\n",
       "    </tr>\n",
       "    <tr>\n",
       "      <th>CH2O_3</th>\n",
       "      <td>0.003940</td>\n",
       "    </tr>\n",
       "    <tr>\n",
       "      <th>FCVC_1</th>\n",
       "      <td>0.003287</td>\n",
       "    </tr>\n",
       "    <tr>\n",
       "      <th>TUE_0</th>\n",
       "      <td>0.003191</td>\n",
       "    </tr>\n",
       "    <tr>\n",
       "      <th>SCC_yes</th>\n",
       "      <td>0.002919</td>\n",
       "    </tr>\n",
       "    <tr>\n",
       "      <th>CAEC_Frequently</th>\n",
       "      <td>0.002510</td>\n",
       "    </tr>\n",
       "    <tr>\n",
       "      <th>FAF_2</th>\n",
       "      <td>0.001621</td>\n",
       "    </tr>\n",
       "    <tr>\n",
       "      <th>NCP_1</th>\n",
       "      <td>0.001492</td>\n",
       "    </tr>\n",
       "    <tr>\n",
       "      <th>CALC_Frequently</th>\n",
       "      <td>0.001446</td>\n",
       "    </tr>\n",
       "    <tr>\n",
       "      <th>CAEC_Always</th>\n",
       "      <td>0.001271</td>\n",
       "    </tr>\n",
       "    <tr>\n",
       "      <th>MTRANS_Walking</th>\n",
       "      <td>0.001243</td>\n",
       "    </tr>\n",
       "    <tr>\n",
       "      <th>SCC_no</th>\n",
       "      <td>0.001157</td>\n",
       "    </tr>\n",
       "    <tr>\n",
       "      <th>CALC_no</th>\n",
       "      <td>0.001010</td>\n",
       "    </tr>\n",
       "    <tr>\n",
       "      <th>FAF_3</th>\n",
       "      <td>0.000759</td>\n",
       "    </tr>\n",
       "    <tr>\n",
       "      <th>CH2O_1</th>\n",
       "      <td>0.000619</td>\n",
       "    </tr>\n",
       "    <tr>\n",
       "      <th>SMOKE_yes</th>\n",
       "      <td>0.000360</td>\n",
       "    </tr>\n",
       "    <tr>\n",
       "      <th>CAEC_no</th>\n",
       "      <td>0.000000</td>\n",
       "    </tr>\n",
       "    <tr>\n",
       "      <th>SMOKE_no</th>\n",
       "      <td>0.000000</td>\n",
       "    </tr>\n",
       "    <tr>\n",
       "      <th>MTRANS_Bike</th>\n",
       "      <td>0.000000</td>\n",
       "    </tr>\n",
       "    <tr>\n",
       "      <th>MTRANS_Motorbike</th>\n",
       "      <td>0.000000</td>\n",
       "    </tr>\n",
       "    <tr>\n",
       "      <th>family_history_with_overweight_no</th>\n",
       "      <td>0.000000</td>\n",
       "    </tr>\n",
       "  </tbody>\n",
       "</table>\n",
       "</div>"
      ],
      "text/plain": [
       "                                    Features importances\n",
       "family_history_with_overweight_yes              0.253812\n",
       "Height                                          0.150580\n",
       "CALC_Sometimes                                  0.113021\n",
       "FCVC_3                                          0.078923\n",
       "Age                                             0.076160\n",
       "Gender_Male                                     0.071300\n",
       "CAEC_Sometimes                                  0.035445\n",
       "MTRANS_Public_Transportation                    0.032440\n",
       "TUE_1                                           0.030556\n",
       "Gender_Female                                   0.027857\n",
       "NCP_3                                           0.022446\n",
       "NCP_4                                           0.018577\n",
       "FAVC_yes                                        0.014272\n",
       "FCVC_2                                          0.007381\n",
       "MTRANS_Automobile                               0.006958\n",
       "CH2O_2                                          0.006414\n",
       "FAVC_no                                         0.006313\n",
       "NCP_2                                           0.006124\n",
       "FAF_1                                           0.005520\n",
       "FAF_0                                           0.004772\n",
       "TUE_2                                           0.004306\n",
       "CH2O_3                                          0.003940\n",
       "FCVC_1                                          0.003287\n",
       "TUE_0                                           0.003191\n",
       "SCC_yes                                         0.002919\n",
       "CAEC_Frequently                                 0.002510\n",
       "FAF_2                                           0.001621\n",
       "NCP_1                                           0.001492\n",
       "CALC_Frequently                                 0.001446\n",
       "CAEC_Always                                     0.001271\n",
       "MTRANS_Walking                                  0.001243\n",
       "SCC_no                                          0.001157\n",
       "CALC_no                                         0.001010\n",
       "FAF_3                                           0.000759\n",
       "CH2O_1                                          0.000619\n",
       "SMOKE_yes                                       0.000360\n",
       "CAEC_no                                         0.000000\n",
       "SMOKE_no                                        0.000000\n",
       "MTRANS_Bike                                     0.000000\n",
       "MTRANS_Motorbike                                0.000000\n",
       "family_history_with_overweight_no               0.000000"
      ]
     },
     "execution_count": 97,
     "metadata": {},
     "output_type": "execute_result"
    }
   ],
   "source": [
    "pd.DataFrame({\n",
    "    \"Features importances\": model.feature_importances_}, \n",
    "index=all_feature_names).sort_values(\"Features importances\", ascending=False)"
   ]
  },
  {
   "cell_type": "markdown",
   "id": "33ec7f1b",
   "metadata": {},
   "source": [
    "Il risultato associato a ciascuna variabile indica quanto ciascuna variabile contribuisce alla capacità predittiva del modello.  \n",
    "Si possono quindi trarre le seguenti conclusioni. I fattori più importanti sono:\n",
    "- la presenza di familiari in sovrappeso (`family_history_with_overweight_yes`),\n",
    "- l'altezza (`Height`),\n",
    "- l'assunzione non frequente di alcol da parte dell'individuo (`CALC_Sometimes`),\n",
    "- l'età (`Age`),\n",
    "- una frequente assunzione di verdure nei pasti (`FCVC_3`).  \n",
    "\n",
    "Da questi primi fattori, che sono i fattori più rilevanti, si può osservare come le caratteristiche fisiche dell'individuo siano importanti: altezza ed età influenzano significativamente il peso come ci si poteva aspettare.    \n",
    "Si aggiunge inoltre che per la predizione sono altresì importanti anche le abitudini alimentari dell'individuo.  \n",
    "\n",
    "\n",
    "\n",
    "Allo stesso tempo, però, il modello evidenzia, per esempio, come la bici usata come mezzo di trasporto principale (`MTRANS_Bike`), l'essere un fumatore (`SMOKE_yes`) e l'assenza di un familiare in sovrappeso (`family_history_with_overweight_no`) siano fattori irrilevanti nella predizione del peso secondo il modello creato.  \n",
    "Infine le variabili relative al genere (`Gender_Female` e `Gender_Male`) hanno un'importanza abbastanza significativa, suggerendo che il genere potrebbe influenzare il peso, anche se l'importanza delle variabili di genere sembra essere minore rispetto ad altre variabili."
   ]
  },
  {
   "cell_type": "markdown",
   "id": "7c2e5aa5",
   "metadata": {},
   "source": [
    "Quello che si nota, se confrontato a quanto fatto precedentemente, è che si ottiene l'importanza delle variabili nella predizione senza che vi sia una distinzione sull'influenza positiva o negativa. Ci si muove quindi verso una generalizzazione relativa all'importanza delle variabili.  \n",
    "Muovendoci in tale direzione di generalizzazione, si vuole inoltre che non vi sia una distinzione di tutti i possibili valori che una variabile può assumere, giungendo alla generica conclusione di quanto una variabile sia importante o meno per il modello.  \n",
    "\n",
    "Di seguito si definisce una funzione che ha proprio lo scopo di raggruppare tutte le features con lo stesso nome (che rappresentano quindi la stessa generica variabile) sommandone l'importanza di ciascuna di esse. Questo porterà ad ottenere l'importanza della singola variabile per la predizione, senza distinzione nelle sue possibili categorie e quindi senza distinzione nei suoi possibili valori."
   ]
  },
  {
   "cell_type": "code",
   "execution_count": 98,
   "id": "aa1c5641",
   "metadata": {},
   "outputs": [],
   "source": [
    "feature_importance_series = pd.Series(model.feature_importances_, index=all_feature_names).sort_values(ascending=False)"
   ]
  },
  {
   "cell_type": "code",
   "execution_count": 99,
   "id": "66f07c04",
   "metadata": {},
   "outputs": [],
   "source": [
    "def group_feature_importance(feature_importance_series):\n",
    "    grouped_feature_importance = {}\n",
    "\n",
    "    for feature_name, importance_score in feature_importance_series.iteritems():\n",
    "        clean_feature_name = feature_name.split(\"_\")[0]\n",
    "    \n",
    "        if clean_feature_name in grouped_feature_importance:\n",
    "            grouped_feature_importance[clean_feature_name] += importance_score\n",
    "        else:\n",
    "            grouped_feature_importance[clean_feature_name] = importance_score\n",
    "\n",
    "    grouped_feature_importance_series = pd.Series(grouped_feature_importance)\n",
    "    grouped_feature_importance_series = grouped_feature_importance_series.sort_values(ascending=False)\n",
    "\n",
    "    return grouped_feature_importance_series"
   ]
  },
  {
   "cell_type": "code",
   "execution_count": 100,
   "id": "c3b1338f",
   "metadata": {},
   "outputs": [
    {
     "data": {
      "text/plain": [
       "family   0.253812\n",
       "Height   0.150580\n",
       "CALC     0.115477\n",
       "Gender   0.099157\n",
       "FCVC     0.089590\n",
       "Age      0.076160\n",
       "NCP      0.048639\n",
       "MTRANS   0.040640\n",
       "CAEC     0.039226\n",
       "TUE      0.038052\n",
       "FAVC     0.020585\n",
       "FAF      0.012671\n",
       "CH2O     0.010973\n",
       "SCC      0.004076\n",
       "SMOKE    0.000360\n",
       "dtype: float64"
      ]
     },
     "execution_count": 100,
     "metadata": {},
     "output_type": "execute_result"
    }
   ],
   "source": [
    "tree_result = group_feature_importance(feature_importance_series)\n",
    "tree_result"
   ]
  },
  {
   "cell_type": "markdown",
   "id": "04a8f5bf",
   "metadata": {},
   "source": [
    "Si ottiene un'idea più chiara delle variabili rilevanti per il modello. Infatti, si comprende più facilmente se una variabile è rilevante o meno per il modello, senza dipendere dai possibili valori che essa può assumere.  \n",
    "Si può quindi affermare che in tale modo si evidenzia l'importanza delle variabili.  "
   ]
  },
  {
   "cell_type": "code",
   "execution_count": 101,
   "id": "8c2e84a9",
   "metadata": {},
   "outputs": [
    {
     "data": {
      "image/png": "[encoded data removed]",
      "text/plain": [
       "<Figure size 1080x504 with 1 Axes>"
      ]
     },
     "metadata": {
      "needs_background": "light"
     },
     "output_type": "display_data"
    }
   ],
   "source": [
    "feature_names = tree_result.index\n",
    "importance_values = tree_result.values\n",
    "\n",
    "plt.figure(figsize=(15, 7))\n",
    "plt.barh(feature_names, importance_values, color=\"deepskyblue\")\n",
    "plt.xlabel(\"Importance score\")\n",
    "plt.ylabel(\"Variables\")\n",
    "plt.title(\"Variables importances\")\n",
    "plt.gca().invert_yaxis()"
   ]
  },
  {
   "cell_type": "markdown",
   "id": "89604894",
   "metadata": {},
   "source": [
    "**OSSERVAZIONI**  \n",
    "\n",
    "Dal modello analizzato, si può affermare come i fattori predominanti disposti in ordine di importanza per predire il peso di un individuo siano:\n",
    "- la presenza o meno di almeno un familiare in sovrappeso (`family_history_with_overweight`)\n",
    "- l'altezza (`Height`)\n",
    "- l'assunzione di alcol (`CALC`)\n",
    "- il genere (`Gender`)\n",
    "- l'assunzione di verdure all'interno dei pasti (`FCVC`)\n",
    "- l'età (`Age`)\n",
    "\n",
    "È comunque bene notare che un'alta importanza per una variabile non implica necessariamente una relazione causa-effetto con il peso: ne evidenzia in primis una correlazione rilevata dal modello per la predizione.  \n",
    "\n",
    "\n",
    "Vi sono poi ulteriori fattori di importanza inferiore, disposti con il seguente ordine:\n",
    "- la conoscenza del numero di pasti consumati giornalmente (`NCP`)\n",
    "- la conoscenza del mezzo di trasporto principale che l'individuo sceglie per muoversi (`MTRANS`)\n",
    "- la frequenza di consumo di cibi al di fuori dei pasti principali (`CAEC`)\n",
    "- lo svolgimento di una vita sedentaria o meno (`TUE`)\n",
    "- il consumo di cibi ad alto contenuto di zuccheri e grassi (`FAVC`)\n",
    "- l'attività fisica svolta dall'individuo (`FAF`)\n",
    "\n",
    "\n",
    "Infine, vi sono fattori che possiamo definire di rilevanza minima o quasi nulla come:\n",
    "- il consumo di acqua (`CH2O`)\n",
    "- monitorare o meno le calorie assunte (`SCC`)\n",
    "- l'essere fumatore o meno (`SMOKE`)"
   ]
  },
  {
   "cell_type": "markdown",
   "id": "0139906f",
   "metadata": {},
   "source": [
    "### Foreste di alberi decisionali"
   ]
  },
  {
   "cell_type": "markdown",
   "id": "911fd65f",
   "metadata": {},
   "source": [
    "Segue una creazione di una foresta di alberi di regressione: creando numerosi alberi decisionali si otterrà un'efficacia migliore di qualsiasi singolo albero della foresta, poichè ogni previsione di Random Forest è data dalla media delle previsioni di tutti gli alberi decisionali. Tale approccio fornirà risultati più robusti."
   ]
  },
  {
   "cell_type": "code",
   "execution_count": 102,
   "id": "1506a471",
   "metadata": {},
   "outputs": [],
   "source": [
    "# Importazioni necessarie per crezione modello basato su foreste di alberi decisionali\n",
    "from sklearn.ensemble import RandomForestRegressor"
   ]
  },
  {
   "cell_type": "code",
   "execution_count": 103,
   "id": "898e5156",
   "metadata": {},
   "outputs": [
    {
     "data": {
      "text/plain": [
       "RandomForestRegressor(max_features='sqrt', max_samples=0.3, n_estimators=300,\n",
       "                      n_jobs=-1)"
      ]
     },
     "execution_count": 103,
     "metadata": {},
     "output_type": "execute_result"
    }
   ],
   "source": [
    "rfm = RandomForestRegressor(max_samples=0.3, max_features=\"sqrt\", n_estimators=300, max_depth=None, n_jobs=-1)\n",
    "rfm.fit(X_train_encoded, y_train)"
   ]
  },
  {
   "cell_type": "code",
   "execution_count": 104,
   "id": "8336194d",
   "metadata": {},
   "outputs": [
    {
     "name": "stdout",
     "output_type": "stream",
     "text": [
      "R²: 0.851702459687819\n",
      "MSE: 106.06811951390424\n",
      "Relative error: 9.460%\n"
     ]
    }
   ],
   "source": [
    "model_performance(X_val_encoded, y_val, rfm)"
   ]
  },
  {
   "cell_type": "code",
   "execution_count": 105,
   "id": "b30980f9",
   "metadata": {},
   "outputs": [
    {
     "data": {
      "text/html": [
       "<div>\n",
       "<style scoped>\n",
       "    .dataframe tbody tr th:only-of-type {\n",
       "        vertical-align: middle;\n",
       "    }\n",
       "\n",
       "    .dataframe tbody tr th {\n",
       "        vertical-align: top;\n",
       "    }\n",
       "\n",
       "    .dataframe thead th {\n",
       "        text-align: right;\n",
       "    }\n",
       "</style>\n",
       "<table border=\"1\" class=\"dataframe\">\n",
       "  <thead>\n",
       "    <tr style=\"text-align: right;\">\n",
       "      <th></th>\n",
       "      <th>Features importances in random forest</th>\n",
       "    </tr>\n",
       "  </thead>\n",
       "  <tbody>\n",
       "    <tr>\n",
       "      <th>Height</th>\n",
       "      <td>0.163843</td>\n",
       "    </tr>\n",
       "    <tr>\n",
       "      <th>Age</th>\n",
       "      <td>0.100885</td>\n",
       "    </tr>\n",
       "    <tr>\n",
       "      <th>family_history_with_overweight_no</th>\n",
       "      <td>0.093643</td>\n",
       "    </tr>\n",
       "    <tr>\n",
       "      <th>family_history_with_overweight_yes</th>\n",
       "      <td>0.076499</td>\n",
       "    </tr>\n",
       "    <tr>\n",
       "      <th>CAEC_Sometimes</th>\n",
       "      <td>0.055934</td>\n",
       "    </tr>\n",
       "    <tr>\n",
       "      <th>CALC_Sometimes</th>\n",
       "      <td>0.037321</td>\n",
       "    </tr>\n",
       "    <tr>\n",
       "      <th>Gender_Male</th>\n",
       "      <td>0.036571</td>\n",
       "    </tr>\n",
       "    <tr>\n",
       "      <th>Gender_Female</th>\n",
       "      <td>0.036433</td>\n",
       "    </tr>\n",
       "    <tr>\n",
       "      <th>FCVC_3</th>\n",
       "      <td>0.036171</td>\n",
       "    </tr>\n",
       "    <tr>\n",
       "      <th>NCP_3</th>\n",
       "      <td>0.032438</td>\n",
       "    </tr>\n",
       "    <tr>\n",
       "      <th>CAEC_Frequently</th>\n",
       "      <td>0.031698</td>\n",
       "    </tr>\n",
       "    <tr>\n",
       "      <th>CALC_no</th>\n",
       "      <td>0.029374</td>\n",
       "    </tr>\n",
       "    <tr>\n",
       "      <th>FCVC_2</th>\n",
       "      <td>0.023951</td>\n",
       "    </tr>\n",
       "    <tr>\n",
       "      <th>MTRANS_Public_Transportation</th>\n",
       "      <td>0.019393</td>\n",
       "    </tr>\n",
       "    <tr>\n",
       "      <th>FAVC_yes</th>\n",
       "      <td>0.017530</td>\n",
       "    </tr>\n",
       "    <tr>\n",
       "      <th>MTRANS_Automobile</th>\n",
       "      <td>0.015494</td>\n",
       "    </tr>\n",
       "    <tr>\n",
       "      <th>TUE_1</th>\n",
       "      <td>0.015049</td>\n",
       "    </tr>\n",
       "    <tr>\n",
       "      <th>FAF_0</th>\n",
       "      <td>0.014069</td>\n",
       "    </tr>\n",
       "    <tr>\n",
       "      <th>FAVC_no</th>\n",
       "      <td>0.013530</td>\n",
       "    </tr>\n",
       "    <tr>\n",
       "      <th>FAF_2</th>\n",
       "      <td>0.013505</td>\n",
       "    </tr>\n",
       "    <tr>\n",
       "      <th>NCP_4</th>\n",
       "      <td>0.013300</td>\n",
       "    </tr>\n",
       "    <tr>\n",
       "      <th>FAF_1</th>\n",
       "      <td>0.013120</td>\n",
       "    </tr>\n",
       "    <tr>\n",
       "      <th>NCP_1</th>\n",
       "      <td>0.011884</td>\n",
       "    </tr>\n",
       "    <tr>\n",
       "      <th>TUE_0</th>\n",
       "      <td>0.011205</td>\n",
       "    </tr>\n",
       "    <tr>\n",
       "      <th>CH2O_3</th>\n",
       "      <td>0.010599</td>\n",
       "    </tr>\n",
       "    <tr>\n",
       "      <th>CH2O_2</th>\n",
       "      <td>0.010197</td>\n",
       "    </tr>\n",
       "    <tr>\n",
       "      <th>TUE_2</th>\n",
       "      <td>0.010152</td>\n",
       "    </tr>\n",
       "    <tr>\n",
       "      <th>CH2O_1</th>\n",
       "      <td>0.009150</td>\n",
       "    </tr>\n",
       "    <tr>\n",
       "      <th>FAF_3</th>\n",
       "      <td>0.006970</td>\n",
       "    </tr>\n",
       "    <tr>\n",
       "      <th>NCP_2</th>\n",
       "      <td>0.006838</td>\n",
       "    </tr>\n",
       "    <tr>\n",
       "      <th>SCC_yes</th>\n",
       "      <td>0.006211</td>\n",
       "    </tr>\n",
       "    <tr>\n",
       "      <th>SCC_no</th>\n",
       "      <td>0.005402</td>\n",
       "    </tr>\n",
       "    <tr>\n",
       "      <th>FCVC_1</th>\n",
       "      <td>0.004416</td>\n",
       "    </tr>\n",
       "    <tr>\n",
       "      <th>CALC_Frequently</th>\n",
       "      <td>0.004410</td>\n",
       "    </tr>\n",
       "    <tr>\n",
       "      <th>MTRANS_Walking</th>\n",
       "      <td>0.004061</td>\n",
       "    </tr>\n",
       "    <tr>\n",
       "      <th>CAEC_Always</th>\n",
       "      <td>0.002284</td>\n",
       "    </tr>\n",
       "    <tr>\n",
       "      <th>SMOKE_no</th>\n",
       "      <td>0.002213</td>\n",
       "    </tr>\n",
       "    <tr>\n",
       "      <th>SMOKE_yes</th>\n",
       "      <td>0.002154</td>\n",
       "    </tr>\n",
       "    <tr>\n",
       "      <th>CAEC_no</th>\n",
       "      <td>0.001227</td>\n",
       "    </tr>\n",
       "    <tr>\n",
       "      <th>MTRANS_Motorbike</th>\n",
       "      <td>0.000735</td>\n",
       "    </tr>\n",
       "    <tr>\n",
       "      <th>MTRANS_Bike</th>\n",
       "      <td>0.000142</td>\n",
       "    </tr>\n",
       "  </tbody>\n",
       "</table>\n",
       "</div>"
      ],
      "text/plain": [
       "                                    Features importances in random forest\n",
       "Height                                                           0.163843\n",
       "Age                                                              0.100885\n",
       "family_history_with_overweight_no                                0.093643\n",
       "family_history_with_overweight_yes                               0.076499\n",
       "CAEC_Sometimes                                                   0.055934\n",
       "CALC_Sometimes                                                   0.037321\n",
       "Gender_Male                                                      0.036571\n",
       "Gender_Female                                                    0.036433\n",
       "FCVC_3                                                           0.036171\n",
       "NCP_3                                                            0.032438\n",
       "CAEC_Frequently                                                  0.031698\n",
       "CALC_no                                                          0.029374\n",
       "FCVC_2                                                           0.023951\n",
       "MTRANS_Public_Transportation                                     0.019393\n",
       "FAVC_yes                                                         0.017530\n",
       "MTRANS_Automobile                                                0.015494\n",
       "TUE_1                                                            0.015049\n",
       "FAF_0                                                            0.014069\n",
       "FAVC_no                                                          0.013530\n",
       "FAF_2                                                            0.013505\n",
       "NCP_4                                                            0.013300\n",
       "FAF_1                                                            0.013120\n",
       "NCP_1                                                            0.011884\n",
       "TUE_0                                                            0.011205\n",
       "CH2O_3                                                           0.010599\n",
       "CH2O_2                                                           0.010197\n",
       "TUE_2                                                            0.010152\n",
       "CH2O_1                                                           0.009150\n",
       "FAF_3                                                            0.006970\n",
       "NCP_2                                                            0.006838\n",
       "SCC_yes                                                          0.006211\n",
       "SCC_no                                                           0.005402\n",
       "FCVC_1                                                           0.004416\n",
       "CALC_Frequently                                                  0.004410\n",
       "MTRANS_Walking                                                   0.004061\n",
       "CAEC_Always                                                      0.002284\n",
       "SMOKE_no                                                         0.002213\n",
       "SMOKE_yes                                                        0.002154\n",
       "CAEC_no                                                          0.001227\n",
       "MTRANS_Motorbike                                                 0.000735\n",
       "MTRANS_Bike                                                      0.000142"
      ]
     },
     "execution_count": 105,
     "metadata": {},
     "output_type": "execute_result"
    }
   ],
   "source": [
    "pd.DataFrame({\n",
    "    \"Features importances in random forest\": rfm.feature_importances_}, \n",
    "index=all_feature_names).sort_values(\"Features importances in random forest\", ascending=False)"
   ]
  },
  {
   "cell_type": "code",
   "execution_count": 106,
   "id": "d50347bf",
   "metadata": {
    "scrolled": true
   },
   "outputs": [
    {
     "data": {
      "text/plain": [
       "family   0.170142\n",
       "Height   0.163843\n",
       "Age      0.100885\n",
       "CAEC     0.091142\n",
       "Gender   0.073004\n",
       "CALC     0.071105\n",
       "FCVC     0.064538\n",
       "NCP      0.064460\n",
       "FAF      0.047663\n",
       "MTRANS   0.039826\n",
       "TUE      0.036405\n",
       "FAVC     0.031061\n",
       "CH2O     0.029945\n",
       "SCC      0.011613\n",
       "SMOKE    0.004367\n",
       "dtype: float64"
      ]
     },
     "execution_count": 106,
     "metadata": {},
     "output_type": "execute_result"
    }
   ],
   "source": [
    "forest_feature_importance_series = pd.Series(rfm.feature_importances_, index=all_feature_names).sort_values(ascending=False)\n",
    "forest_result = group_feature_importance(forest_feature_importance_series)\n",
    "forest_result"
   ]
  },
  {
   "cell_type": "markdown",
   "id": "2c692296",
   "metadata": {},
   "source": [
    "L'analisi dell'importanza delle variabili è utile sia per i modelli basati su singoli alberi (_DecisionTreeRegressor_), sia per modelli basati su foreste di alberi (_Random Forest_). Tuttavia, l'importanza delle variabili assume significati leggermente diversi a seconda del tipo di modello esaminato.\n",
    "\n",
    "1. **Decision Tree Regressor**: In un singolo albero decisionale, l'importanza delle variabili è misurata dal contributo delle variabili alle divisioni decisionali all'interno dell'albero. Le variabili che vengono scelte per le prime divisioni e che portano a significativi cambiamenti nelle previsioni hanno un'importanza maggiore. Si ottiene quindi una valutazione dell'importanza e dell'influenza delle variabili nel processo di suddivisione e predizione del singolo albero.\n",
    "\n",
    "2. **Random Forest**: In una foresta di alberi, l'importanza delle variabili è calcolata considerando la media delle importanze su tutti gli alberi decisionali nell'ensemble. Questo fornisce una misura più robusta dell'importanza delle variabili. Le variabili che sono spesso scelte per le divisioni in molti alberi e che portano a miglioramenti significativi nelle previsioni hanno un'importanza maggiore. Si ottiene quindi una visione aggregata delle variabili che sono importanti per l'intero ensemble."
   ]
  },
  {
   "cell_type": "code",
   "execution_count": 107,
   "id": "090c5d33",
   "metadata": {},
   "outputs": [
    {
     "data": {
      "image/png": "[encoded data removed]",
      "text/plain": [
       "<Figure size 1224x432 with 2 Axes>"
      ]
     },
     "metadata": {
      "needs_background": "light"
     },
     "output_type": "display_data"
    }
   ],
   "source": [
    "feature_names_1 = tree_result.index\n",
    "importance_values_1 = tree_result.values\n",
    "\n",
    "feature_names_2 = forest_result.index\n",
    "importance_values_2 = forest_result.values\n",
    "\n",
    "plt.figure(figsize=(17, 6))\n",
    "\n",
    "# Primo grafico: albero decisionale\n",
    "plt.subplot(1, 2, 1).barh(feature_names_1[:6], importance_values_1[:6], color=\"deepskyblue\")\n",
    "plt.xlabel(\"Importance score\")\n",
    "plt.ylabel(\"Variables\")\n",
    "plt.title(\"Decision tree: variables importances\")\n",
    "plt.gca().invert_yaxis()\n",
    "plt.xlim(0, 0.35);\n",
    "\n",
    "# Secondo grafico: foresta di alberi decisionali\n",
    "plt.subplot(1, 2, 2).barh(feature_names_2[:6], importance_values_2[:6], color=\"deepskyblue\")\n",
    "plt.xlabel(\"Importance score\")\n",
    "plt.ylabel(\"Variables\")\n",
    "plt.title(\"Random forest: variables importances\")\n",
    "plt.gca().invert_yaxis()\n",
    "plt.xlim(0, 0.35);"
   ]
  },
  {
   "cell_type": "code",
   "execution_count": 108,
   "id": "eba2fda8",
   "metadata": {},
   "outputs": [
    {
     "data": {
      "text/plain": [
       "{'Age', 'CALC', 'Gender', 'Height', 'family'}"
      ]
     },
     "execution_count": 108,
     "metadata": {},
     "output_type": "execute_result"
    }
   ],
   "source": [
    "serie1_tree = tree_result.head(6)\n",
    "serie2_forest = forest_result.head(6)\n",
    "\n",
    "serie1_tree_names = set(serie1_tree.index)\n",
    "serie2_forest_names = set(serie2_forest.index)\n",
    "\n",
    "intersection_names_2 = serie1_tree_names & serie2_forest_names\n",
    "intersection_names_2"
   ]
  },
  {
   "cell_type": "markdown",
   "id": "129b099a",
   "metadata": {},
   "source": [
    "Si può osservare graficamente (e si dimostra empiricamente) che entrambi i modelli di predizione sono giunti alla stessa conclusione: \n",
    "- l'altezza (`Height`), \n",
    "- la familiarità o meno di sovrappeso (`family_history_with_overweight`), \n",
    "- l'assunzione di alcol (`CALC`), \n",
    "- il genere (`Gender`), \n",
    "- l'età (`Age`) \n",
    "\n",
    "sono i fattori che compaiono in entrambi i modelli e che possono essere definti come i valori più influenti nella predizione del peso di un individuo."
   ]
  },
  {
   "cell_type": "markdown",
   "id": "118528ce",
   "metadata": {},
   "source": [
    "Infine, di seguito, si individuano le variabili comuni ai modelli di regressione lineare e ai modelli basati sugli alberi decisionali, con lo scopo di ottenere le variabili più rilevanti per ciascun modello."
   ]
  },
  {
   "cell_type": "code",
   "execution_count": 109,
   "id": "ae322783",
   "metadata": {},
   "outputs": [
    {
     "data": {
      "text/plain": [
       "{'Age', 'Height'}"
      ]
     },
     "execution_count": 109,
     "metadata": {},
     "output_type": "execute_result"
    }
   ],
   "source": [
    "models_intersection_names = intersection_names & intersection_names_2\n",
    "models_intersection_names"
   ]
  },
  {
   "cell_type": "markdown",
   "id": "ad1eafbf",
   "metadata": {},
   "source": [
    "**OSSERVAZIONI**\n",
    "\n",
    "Si osserva come l'età e l'altezza siano definibili come variabili rilevanti in _tutti_ i modelli analizzati. É bene notare che esse sono le uniche due variabili numeriche che vengono utilizzate nella predizione, tenendo conto che tutte le restanti variabili sono definite come categoriche. Nonostante ciò, il loro impatto e la loro rilevanza è comune in tutti i modelli predittivi analizzati.  \n",
    "\n",
    "\n",
    "\n",
    "I dati riguardanti le caratteristiche fisiche di un individuo sono fondamentali per predire il peso; è inoltre importante conoscere anche il genere.  \n",
    "Tra le abitudini alimentari dell'individuo si conferma nuovamente come sia importante conoscere la sua assunzione di alcol: in generale, l'assunzione di alcol può contribuire ad un aumento di calorie consumate, influenza l'appetito e le scelte alimentari, e può anche avere effetti sulla regolarità dell'attività fisica e sul metabolismo.  \n",
    "Inoltre, conoscere se un individuo ha o meno familiari in sovrappeso è utile per predire il peso perché l'ereditarietà potrebbe giocare un ruolo significativo nella predisposizione al sovrappeso e all'obesità. Se ci sono familiari in sovrappeso, è più probabile che l'individuo abbia una predisposizione genetica a un metabolismo più lento o a una maggiore tendenza ad accumulare grasso. Questo fattore genetico può interagire con il proprio stile di vita.   \n",
    "Quindi, avere familiari in sovrappeso può aumentare il rischio individuale di sviluppare problemi di peso e obesità, anche a causa delle cattive abitudini che i familiari possono trasmettere all'individuo, come per esempio l'assunzione di cibi calorici e la bassa frequenza di attività fisica."
   ]
  },
  {
   "cell_type": "markdown",
   "id": "7c7478f9",
   "metadata": {},
   "source": [
    "## Modello predittivo _con_ conoscenza a priori della classe di obesità dell'individuo."
   ]
  },
  {
   "cell_type": "markdown",
   "id": "4717c595",
   "metadata": {},
   "source": [
    "Come anticipato precedentemente, di seguito si analizza il modello nel quale si considera la classe di obesità dell'individuo, supponendo che essa sia nota a priori.  \n",
    "Possedendo la classe di obesità come variabile aggiuntiva, si forniscono al modello ulteriori informazioni sulla distribuzione del peso nelle diverse categorie di obesità. Questa informazione può aiutare il modello a catturare meglio le differenze nella distribuzione del peso tra le diverse classi di obesità e di conseguenza a realizzarne un modello più preciso."
   ]
  },
  {
   "cell_type": "code",
   "execution_count": 110,
   "id": "4a3261fa",
   "metadata": {},
   "outputs": [],
   "source": [
    "X_new = dataset.drop(columns=[\"Weight\"])  # Features: inclusione delle classi di obesità \n",
    "y_new = dataset[\"Weight\"]                 # Target\n",
    "\n",
    "# Training set (70%) e validation set (30%)\n",
    "X_train_new, X_val_new, y_train_new, y_val_new = train_test_split(X_new, y_new, test_size=0.3, random_state=42)"
   ]
  },
  {
   "cell_type": "code",
   "execution_count": 111,
   "id": "882acfda",
   "metadata": {},
   "outputs": [
    {
     "data": {
      "text/html": [
       "<div>\n",
       "<style scoped>\n",
       "    .dataframe tbody tr th:only-of-type {\n",
       "        vertical-align: middle;\n",
       "    }\n",
       "\n",
       "    .dataframe tbody tr th {\n",
       "        vertical-align: top;\n",
       "    }\n",
       "\n",
       "    .dataframe thead th {\n",
       "        text-align: right;\n",
       "    }\n",
       "</style>\n",
       "<table border=\"1\" class=\"dataframe\">\n",
       "  <thead>\n",
       "    <tr style=\"text-align: right;\">\n",
       "      <th></th>\n",
       "      <th>Gender</th>\n",
       "      <th>Age</th>\n",
       "      <th>Height</th>\n",
       "      <th>family_history_with_overweight</th>\n",
       "      <th>FAVC</th>\n",
       "      <th>FCVC</th>\n",
       "      <th>NCP</th>\n",
       "      <th>CAEC</th>\n",
       "      <th>SMOKE</th>\n",
       "      <th>CH2O</th>\n",
       "      <th>SCC</th>\n",
       "      <th>FAF</th>\n",
       "      <th>TUE</th>\n",
       "      <th>CALC</th>\n",
       "      <th>MTRANS</th>\n",
       "      <th>NObeyesdad</th>\n",
       "    </tr>\n",
       "  </thead>\n",
       "  <tbody>\n",
       "    <tr>\n",
       "      <th>1930</th>\n",
       "      <td>Female</td>\n",
       "      <td>26</td>\n",
       "      <td>1.630000</td>\n",
       "      <td>yes</td>\n",
       "      <td>yes</td>\n",
       "      <td>3</td>\n",
       "      <td>3</td>\n",
       "      <td>Sometimes</td>\n",
       "      <td>no</td>\n",
       "      <td>1</td>\n",
       "      <td>no</td>\n",
       "      <td>0</td>\n",
       "      <td>1</td>\n",
       "      <td>Sometimes</td>\n",
       "      <td>Public_Transportation</td>\n",
       "      <td>Obesity_Type_III</td>\n",
       "    </tr>\n",
       "    <tr>\n",
       "      <th>1803</th>\n",
       "      <td>Female</td>\n",
       "      <td>26</td>\n",
       "      <td>1.660000</td>\n",
       "      <td>yes</td>\n",
       "      <td>yes</td>\n",
       "      <td>3</td>\n",
       "      <td>3</td>\n",
       "      <td>Sometimes</td>\n",
       "      <td>no</td>\n",
       "      <td>3</td>\n",
       "      <td>no</td>\n",
       "      <td>0</td>\n",
       "      <td>0</td>\n",
       "      <td>Sometimes</td>\n",
       "      <td>Public_Transportation</td>\n",
       "      <td>Obesity_Type_III</td>\n",
       "    </tr>\n",
       "    <tr>\n",
       "      <th>1198</th>\n",
       "      <td>Male</td>\n",
       "      <td>18</td>\n",
       "      <td>1.750000</td>\n",
       "      <td>yes</td>\n",
       "      <td>yes</td>\n",
       "      <td>3</td>\n",
       "      <td>3</td>\n",
       "      <td>Sometimes</td>\n",
       "      <td>no</td>\n",
       "      <td>3</td>\n",
       "      <td>no</td>\n",
       "      <td>1</td>\n",
       "      <td>0</td>\n",
       "      <td>Sometimes</td>\n",
       "      <td>Public_Transportation</td>\n",
       "      <td>Overweight_Level_II</td>\n",
       "    </tr>\n",
       "    <tr>\n",
       "      <th>15</th>\n",
       "      <td>Female</td>\n",
       "      <td>22</td>\n",
       "      <td>1.700000</td>\n",
       "      <td>yes</td>\n",
       "      <td>no</td>\n",
       "      <td>3</td>\n",
       "      <td>3</td>\n",
       "      <td>Always</td>\n",
       "      <td>no</td>\n",
       "      <td>2</td>\n",
       "      <td>yes</td>\n",
       "      <td>2</td>\n",
       "      <td>1</td>\n",
       "      <td>Sometimes</td>\n",
       "      <td>Public_Transportation</td>\n",
       "      <td>Normal_Weight</td>\n",
       "    </tr>\n",
       "    <tr>\n",
       "      <th>816</th>\n",
       "      <td>Male</td>\n",
       "      <td>23</td>\n",
       "      <td>1.670000</td>\n",
       "      <td>yes</td>\n",
       "      <td>yes</td>\n",
       "      <td>2</td>\n",
       "      <td>3</td>\n",
       "      <td>Sometimes</td>\n",
       "      <td>no</td>\n",
       "      <td>2</td>\n",
       "      <td>no</td>\n",
       "      <td>0</td>\n",
       "      <td>2</td>\n",
       "      <td>Sometimes</td>\n",
       "      <td>Public_Transportation</td>\n",
       "      <td>Overweight_Level_I</td>\n",
       "    </tr>\n",
       "  </tbody>\n",
       "</table>\n",
       "</div>"
      ],
      "text/plain": [
       "      Gender  Age   Height family_history_with_overweight FAVC FCVC NCP  \\\n",
       "1930  Female   26 1.630000                            yes  yes    3   3   \n",
       "1803  Female   26 1.660000                            yes  yes    3   3   \n",
       "1198    Male   18 1.750000                            yes  yes    3   3   \n",
       "15    Female   22 1.700000                            yes   no    3   3   \n",
       "816     Male   23 1.670000                            yes  yes    2   3   \n",
       "\n",
       "           CAEC SMOKE CH2O  SCC FAF TUE       CALC                 MTRANS  \\\n",
       "1930  Sometimes    no    1   no   0   1  Sometimes  Public_Transportation   \n",
       "1803  Sometimes    no    3   no   0   0  Sometimes  Public_Transportation   \n",
       "1198  Sometimes    no    3   no   1   0  Sometimes  Public_Transportation   \n",
       "15       Always    no    2  yes   2   1  Sometimes  Public_Transportation   \n",
       "816   Sometimes    no    2   no   0   2  Sometimes  Public_Transportation   \n",
       "\n",
       "               NObeyesdad  \n",
       "1930     Obesity_Type_III  \n",
       "1803     Obesity_Type_III  \n",
       "1198  Overweight_Level_II  \n",
       "15          Normal_Weight  \n",
       "816    Overweight_Level_I  "
      ]
     },
     "execution_count": 111,
     "metadata": {},
     "output_type": "execute_result"
    }
   ],
   "source": [
    "X_train_new.head()"
   ]
  },
  {
   "cell_type": "markdown",
   "id": "180d381e",
   "metadata": {},
   "source": [
    "Di conseguenza si ha una nuova definizione delle variabili. In particolare, ciò che cambia è la ri-definizione delle variabili categoriche, poichè ora si include la variabile categorica (nominale) `NObeyesdad`."
   ]
  },
  {
   "cell_type": "code",
   "execution_count": 112,
   "id": "92d41c30",
   "metadata": {},
   "outputs": [],
   "source": [
    "categorical_vars_new = [\"Gender\", \"family_history_with_overweight\", \"FAVC\", \"SMOKE\", \"SCC\", \n",
    "                        \"FCVC\", \"NCP\", \"CAEC\", \"CH2O\", \"FAF\", \"TUE\", \"CALC\", \"MTRANS\", \"NObeyesdad\"]"
   ]
  },
  {
   "cell_type": "markdown",
   "id": "edfa0477",
   "metadata": {},
   "source": [
    "Con questo nuovo modello si andranno a considerare subito tutte le variabili del dataset, nel senso che non saranno presenti passi intermedi in cui il modello verrà valutato sulle sole variabili numeriche o sulle sole variabili categoriche \"nuove\".  \n",
    "La valutazione del modello avverrà direttamente su tutte le variabili, nessuna esclusa.   \n",
    "La logica ovviamente rimane la medesima di quanto fatto precedentemente: \n",
    "- standardizzazione per le variabili numeriche,\n",
    "- one-hot encoding per le variabili categoriche."
   ]
  },
  {
   "cell_type": "code",
   "execution_count": 113,
   "id": "57511623",
   "metadata": {},
   "outputs": [
    {
     "name": "stdout",
     "output_type": "stream",
     "text": [
      "R²: 0.9643445462236232\n",
      "MSE: 25.502155494379334\n",
      "Relative error: 4.505%\n"
     ]
    }
   ],
   "source": [
    "model = Pipeline([\n",
    "    (\"preproc\", ColumnTransformer([\n",
    "        (\"numeric\", StandardScaler(), numeric_vars),\n",
    "        (\"categorical\", OneHotEncoder(), categorical_vars_new)\n",
    "    ])),\n",
    "    (\"regr\", Ridge())\n",
    "])\n",
    "model.fit(X_train_new, y_train)\n",
    "model_performance(X_val_new, y_val_new, model)"
   ]
  },
  {
   "cell_type": "markdown",
   "id": "d2fa9c90",
   "metadata": {},
   "source": [
    "Si evidenzia come si sia ottenuto un modello decisamente buono, in grado di fare buone predizioni in merito alla variabile target.  \n",
    "Infatti, un R² di 0.96 è un risultato elevato, il quale suggerisce che il modello creato (che include tutte le possibili variabili) ha una forte capacità predittiva e spiega una grande parte della variabilità presente nella variabile target (il peso `Weight`)."
   ]
  },
  {
   "cell_type": "markdown",
   "id": "784b90ee",
   "metadata": {},
   "source": [
    "- Individuazione dei migliori parametri e del migliore modello"
   ]
  },
  {
   "cell_type": "code",
   "execution_count": 114,
   "id": "76f2c462",
   "metadata": {},
   "outputs": [
    {
     "name": "stdout",
     "output_type": "stream",
     "text": [
      "Migliori parametri: {'preproc__categorical__drop': 'first', 'preproc__numeric__poly__degree': 3, 'preproc__numeric__scaler': StandardScaler(), 'regr': Ridge(alpha=0.1), 'regr__alpha': 0.1}\n"
     ]
    }
   ],
   "source": [
    "import warnings\n",
    "\n",
    "# Ignoro i warning relativi alla mancata convergenza di un minimo della funzione obiettivo entro un certo numero di iterazioni. \n",
    "warnings.filterwarnings(\"ignore\", category=Warning)\n",
    "\n",
    "model = Pipeline([\n",
    "    (\"preproc\", ColumnTransformer([\n",
    "        (\"numeric\",  Pipeline([\n",
    "            (\"scaler\", None),\n",
    "            (\"poly\", PolynomialFeatures(include_bias=False))\n",
    "        ]), numeric_vars),\n",
    "        (\"categorical\", OneHotEncoder(), categorical_vars_new)\n",
    "    ])),\n",
    "    (\"regr\", None)\n",
    "])\n",
    "\n",
    "# Grid search su scelte preprocessing e scelta modello\n",
    "grid = [\n",
    "    { # scelte preprocessing + Ridge\n",
    "        \"preproc__numeric__scaler\": [\"passthrough\", StandardScaler()],\n",
    "        \"preproc__numeric__poly__degree\": [1, 2, 3],\n",
    "        \"preproc__categorical__drop\": [None, \"first\"],\n",
    "        \"regr\": [Ridge()],\n",
    "        \"regr__alpha\": [0.1, 1.0, 10.0] \n",
    "    },\n",
    "    { # scelte preprocessing + Lasso\n",
    "        \"preproc__numeric__scaler\": [\"passthrough\", StandardScaler()],\n",
    "        \"preproc__numeric__poly__degree\": [1, 2, 3],\n",
    "        \"preproc__categorical__drop\": [None, \"first\"],\n",
    "        \"regr\": [Lasso()],\n",
    "        \"regr__alpha\": [0.1, 1.0, 10.0] \n",
    "    },\n",
    "    { # scelte preprocessing + Elastic Net\n",
    "        \"preproc__numeric__scaler\": [\"passthrough\", StandardScaler()],\n",
    "        \"preproc__numeric__poly__degree\": [1, 2, 3],\n",
    "        \"preproc__categorical__drop\": [None, \"first\"],\n",
    "        \"regr\": [ElasticNet()],\n",
    "        \"regr__alpha\": [0.1, 1.0],\n",
    "        \"regr__l1_ratio\": [0.1, 0.2, 0.5, 0.7, 0.9, 1],\n",
    "    }\n",
    "]\n",
    "\n",
    "kf = KFold(3, shuffle=True, random_state=42)\n",
    "gs = GridSearchCV(model, grid, cv=kf, scoring=\"r2\")\n",
    "gs.fit(X_train_new, y_train_new)\n",
    "\n",
    "print(\"Migliori parametri:\", gs.best_params_)"
   ]
  },
  {
   "cell_type": "code",
   "execution_count": 115,
   "id": "d7d620dc",
   "metadata": {},
   "outputs": [
    {
     "name": "stdout",
     "output_type": "stream",
     "text": [
      "R²: 0.9667813768831273\n",
      "MSE: 23.759240237097732\n",
      "Relative error: 4.409%\n"
     ]
    }
   ],
   "source": [
    "model_performance(X_val_new, y_val_new, gs)"
   ]
  },
  {
   "cell_type": "code",
   "execution_count": 116,
   "id": "447a32b7",
   "metadata": {},
   "outputs": [
    {
     "name": "stdout",
     "output_type": "stream",
     "text": [
      "R²: 0.9676555850760444\n",
      "MSE: 21.762382529858932\n",
      "Relative error: 4.333%\n"
     ]
    }
   ],
   "source": [
    "model_performance(X_train_new, y_train_new, gs)"
   ]
  },
  {
   "cell_type": "markdown",
   "id": "dcade378",
   "metadata": {},
   "source": [
    "Dai nuovi risultati ottenuti, si possono fare le seguenti nuove considerazioni:  \n",
    "\n",
    "1. **Migliori parametri:** I migliori parametri identificati dalla grid search sono:\n",
    "   - Per le variabili numeriche: standardizzazione e features polinomiali di grado 3.\n",
    "   - Per le variabili categoriche: drop della prima colonna dopo one-hot encoding.\n",
    "   - Per la regolarizzazione: alpha pari a 0.1, ossia applicazione di una regolarizzazione relativamente bassa.  \n",
    "   \n",
    "   \n",
    "2. **Elevata capacità predittiva:** Il modello ottenuto ha una capacità predittiva molto elevata. Il valore di R² vicino a 1 indica che è in grado di fare previsioni molto precise sul peso (`Weight`) basandosi sulle features fornite. Allo stesso tempo, anche i valori bassi ottenuti per l'MSE e l'errore relativo confermano la bontà del modello.  \n",
    "\n",
    "\n",
    "3. **Scelte di preprocessing:** La scelta di standardizzare le variabili numeriche e generare features polinomiali con grado 3 sembra essere efficace per il modello, in quanto ha portato a prestazioni elevate. Inoltre, la decisione di eliminare la prima colonna dopo il one-hot encoding per le variabili categoriche sembra essere utile, probabilmente per evitare il problema della multi-collinearità tra le variabili."
   ]
  },
  {
   "cell_type": "markdown",
   "id": "c08bbc95",
   "metadata": {},
   "source": [
    "Si analizza infine un ultimo modello basato sugli alberi decisionali come fatto precedentemente, con lo scopo di capire effettivamente da cosa sia dato il miglioramento nella predizione rispetto al precedente modello basato sugli alberi decisionali.  \n",
    "Decido inoltre di non applicare la standardizzazione alle variabili numeriche per il solo scopo di comprendere con maggiore chiarezza il relativo output dell'albero decisionale."
   ]
  },
  {
   "cell_type": "code",
   "execution_count": 117,
   "id": "d64eea32",
   "metadata": {},
   "outputs": [
    {
     "name": "stdout",
     "output_type": "stream",
     "text": [
      "|--- NObeyesdad_Obesity_Type_III <= 0.50\n",
      "|   |--- NObeyesdad_Obesity_Type_II <= 0.50\n",
      "|   |   |--- NObeyesdad_Insufficient_Weight <= 0.50\n",
      "|   |   |   |--- NObeyesdad_Normal_Weight <= 0.50\n",
      "|   |   |   |   |--- Height <= 1.74\n",
      "|   |   |   |   |   |--- NObeyesdad_Overweight_Level_I <= 0.50\n",
      "|   |   |   |   |   |   |--- Height <= 1.60\n",
      "|   |   |   |   |   |   |   |--- NObeyesdad_Overweight_Level_II <= 0.50\n",
      "|   |   |   |   |   |   |   |   |--- value: [79.08]\n",
      "|   |   |   |   |   |   |   |--- NObeyesdad_Overweight_Level_II >  0.50\n",
      "|   |   |   |   |   |   |   |   |--- value: [66.83]\n",
      "|   |   |   |   |   |   |--- Height >  1.60\n",
      "|   |   |   |   |   |   |   |--- NObeyesdad_Overweight_Level_II <= 0.50\n",
      "|   |   |   |   |   |   |   |   |--- value: [87.43]\n",
      "|   |   |   |   |   |   |   |--- NObeyesdad_Overweight_Level_II >  0.50\n",
      "|   |   |   |   |   |   |   |   |--- value: [80.91]\n",
      "|   |   |   |   |   |--- NObeyesdad_Overweight_Level_I >  0.50\n",
      "|   |   |   |   |   |   |--- Height <= 1.64\n",
      "|   |   |   |   |   |   |   |--- Height <= 1.60\n",
      "|   |   |   |   |   |   |   |   |--- value: [60.97]\n",
      "|   |   |   |   |   |   |   |--- Height >  1.60\n",
      "|   |   |   |   |   |   |   |   |--- value: [68.22]\n",
      "|   |   |   |   |   |   |--- Height >  1.64\n",
      "|   |   |   |   |   |   |   |--- Height <= 1.66\n",
      "|   |   |   |   |   |   |   |   |--- value: [71.74]\n",
      "|   |   |   |   |   |   |   |--- Height >  1.66\n",
      "|   |   |   |   |   |   |   |   |--- value: [75.53]\n",
      "|   |   |   |   |--- Height >  1.74\n",
      "|   |   |   |   |   |--- NObeyesdad_Obesity_Type_I <= 0.50\n",
      "|   |   |   |   |   |   |--- Height <= 1.78\n",
      "|   |   |   |   |   |   |   |--- NObeyesdad_Overweight_Level_II <= 0.50\n",
      "|   |   |   |   |   |   |   |   |--- value: [79.92]\n",
      "|   |   |   |   |   |   |   |--- NObeyesdad_Overweight_Level_II >  0.50\n",
      "|   |   |   |   |   |   |   |   |--- value: [86.22]\n",
      "|   |   |   |   |   |   |--- Height >  1.78\n",
      "|   |   |   |   |   |   |   |--- NObeyesdad_Overweight_Level_II <= 0.50\n",
      "|   |   |   |   |   |   |   |   |--- value: [87.10]\n",
      "|   |   |   |   |   |   |   |--- NObeyesdad_Overweight_Level_II >  0.50\n",
      "|   |   |   |   |   |   |   |   |--- value: [94.01]\n",
      "|   |   |   |   |   |--- NObeyesdad_Obesity_Type_I >  0.50\n",
      "|   |   |   |   |   |   |--- Height <= 1.85\n",
      "|   |   |   |   |   |   |   |--- Height <= 1.75\n",
      "|   |   |   |   |   |   |   |   |--- value: [98.02]\n",
      "|   |   |   |   |   |   |   |--- Height >  1.75\n",
      "|   |   |   |   |   |   |   |   |--- value: [104.46]\n",
      "|   |   |   |   |   |   |--- Height >  1.85\n",
      "|   |   |   |   |   |   |   |--- Height <= 1.90\n",
      "|   |   |   |   |   |   |   |   |--- value: [112.66]\n",
      "|   |   |   |   |   |   |   |--- Height >  1.90\n",
      "|   |   |   |   |   |   |   |   |--- value: [120.17]\n",
      "|   |   |   |--- NObeyesdad_Normal_Weight >  0.50\n",
      "|   |   |   |   |--- Height <= 1.66\n",
      "|   |   |   |   |   |--- Height <= 1.61\n",
      "|   |   |   |   |   |   |--- Height <= 1.60\n",
      "|   |   |   |   |   |   |   |--- Age <= 19.50\n",
      "|   |   |   |   |   |   |   |   |--- value: [49.00]\n",
      "|   |   |   |   |   |   |   |--- Age >  19.50\n",
      "|   |   |   |   |   |   |   |   |--- value: [52.73]\n",
      "|   |   |   |   |   |   |--- Height >  1.60\n",
      "|   |   |   |   |   |   |   |--- MTRANS_Walking <= 0.50\n",
      "|   |   |   |   |   |   |   |   |--- value: [54.29]\n",
      "|   |   |   |   |   |   |   |--- MTRANS_Walking >  0.50\n",
      "|   |   |   |   |   |   |   |   |--- value: [59.00]\n",
      "|   |   |   |   |   |--- Height >  1.61\n",
      "|   |   |   |   |   |   |--- Height <= 1.64\n",
      "|   |   |   |   |   |   |   |--- family_history_with_overweight_yes <= 0.50\n",
      "|   |   |   |   |   |   |   |   |--- value: [56.00]\n",
      "|   |   |   |   |   |   |   |--- family_history_with_overweight_yes >  0.50\n",
      "|   |   |   |   |   |   |   |   |--- value: [58.77]\n",
      "|   |   |   |   |   |   |--- Height >  1.64\n",
      "|   |   |   |   |   |   |   |--- Age <= 24.50\n",
      "|   |   |   |   |   |   |   |   |--- value: [59.79]\n",
      "|   |   |   |   |   |   |   |--- Age >  24.50\n",
      "|   |   |   |   |   |   |   |   |--- value: [65.67]\n",
      "|   |   |   |   |--- Height >  1.66\n",
      "|   |   |   |   |   |--- Height <= 1.73\n",
      "|   |   |   |   |   |   |--- Age <= 18.50\n",
      "|   |   |   |   |   |   |   |--- MTRANS_Walking <= 0.50\n",
      "|   |   |   |   |   |   |   |   |--- value: [57.22]\n",
      "|   |   |   |   |   |   |   |--- MTRANS_Walking >  0.50\n",
      "|   |   |   |   |   |   |   |   |--- value: [65.00]\n",
      "|   |   |   |   |   |   |--- Age >  18.50\n",
      "|   |   |   |   |   |   |   |--- NCP_4 <= 0.50\n",
      "|   |   |   |   |   |   |   |   |--- value: [66.27]\n",
      "|   |   |   |   |   |   |   |--- NCP_4 >  0.50\n",
      "|   |   |   |   |   |   |   |   |--- value: [59.33]\n",
      "|   |   |   |   |   |--- Height >  1.73\n",
      "|   |   |   |   |   |   |--- Height <= 1.88\n",
      "|   |   |   |   |   |   |   |--- Height <= 1.81\n",
      "|   |   |   |   |   |   |   |   |--- value: [69.81]\n",
      "|   |   |   |   |   |   |   |--- Height >  1.81\n",
      "|   |   |   |   |   |   |   |   |--- value: [74.69]\n",
      "|   |   |   |   |   |   |--- Height >  1.88\n",
      "|   |   |   |   |   |   |   |--- FAF_2 <= 0.50\n",
      "|   |   |   |   |   |   |   |   |--- value: [87.00]\n",
      "|   |   |   |   |   |   |   |--- FAF_2 >  0.50\n",
      "|   |   |   |   |   |   |   |   |--- value: [84.00]\n",
      "|   |   |--- NObeyesdad_Insufficient_Weight >  0.50\n",
      "|   |   |   |--- Height <= 1.64\n",
      "|   |   |   |   |--- Height <= 1.58\n"
     ]
    }
   ],
   "source": [
    "preprocessor = ColumnTransformer([\n",
    "    (\"numeric\", \"passthrough\", numeric_vars),\n",
    "    (\"categorical\", OneHotEncoder(), categorical_vars_new)\n",
    "])\n",
    "\n",
    "X_train_encoded_new = preprocessor.fit_transform(X_train_new)\n",
    "X_val_encoded_new = preprocessor.transform(X_val_new)\n",
    "\n",
    "model = DecisionTreeRegressor(max_depth=8, random_state=42)\n",
    "model.fit(X_train_encoded_new, y_train_new)\n",
    "\n",
    "all_feature_names_new = np.r_[\n",
    "    numeric_vars,\n",
    "    preprocessor.named_transformers_[\"categorical\"].get_feature_names(categorical_vars_new),\n",
    "].tolist()\n",
    "\n",
    "tree_text_new = export_text(model, feature_names=all_feature_names_new)\n",
    "\n",
    "# Divido l'output per righe: mostro solo le prime 100\n",
    "tree_rows_new = tree_text_new.split(\"\\n\")\n",
    "for row in tree_rows_new[:100]:\n",
    "    print(row)"
   ]
  },
  {
   "cell_type": "markdown",
   "id": "18bff205",
   "metadata": {},
   "source": [
    "Dall'output ottenuto si comprende come ragiona l'albero decisionale. Una breve spiegazione è spiegata qui di seguito:\n",
    "\n",
    "Se l'individuo non è obeso di livello 3 (massimo livello di obesità), ossia se \"NObeyesdad_Obesity_Type_III\" è uguale a 0:\n",
    "- Se `NObeyesdad_Obesity_Type_II` è uguale a 0, cioè non è obeso di livello 2:\n",
    "  - Se `NObeyesdad_Insufficient_Weight` è uguale a 0, cioè non è di peso insufficiente:\n",
    "    - Se `NObeyesdad_Normal_Weight` è uguale a 0, cioè non è di peso normale:\n",
    "      - Se `Height` (cioè l'altezza) è minore o uguale a 1.74:\n",
    "        - Se `NObeyesdad_Overweight_Level_I` è uguale a 0, cioè non è in sovrappeso di livello I:\n",
    "          - Se l'altezza (`Height`) è minore o uguale a 1.60:\n",
    "            - Se `NObeyesdad_Overweight_Level_II` è uguale a 0, cioè non è in sovrappeso di livello II:\n",
    "              - Allora il peso stimato è di 79.08 kg e l'individuo sarà classificato per esclusione come obeso di livello I.\n",
    "            - Se `NObeyesdad_Overweight_Level_II` è 1, cioè è in sovrappeso di livello II:\n",
    "              - Allora il peso stimato è di 66.83 kg. \n",
    "          - Se l'altezza (`Height`) è maggiore di 1.60:\n",
    "            - si prosegue con questa logica ..."
   ]
  },
  {
   "cell_type": "code",
   "execution_count": 118,
   "id": "a10d7277",
   "metadata": {},
   "outputs": [
    {
     "name": "stdout",
     "output_type": "stream",
     "text": [
      "Miglior valore di max_depth:  {'max_depth': 9}\n"
     ]
    }
   ],
   "source": [
    "# Ricerca della profondità dell'albero migliore\n",
    "grid = {\n",
    "    \"max_depth\": range(1,21)\n",
    "}\n",
    "\n",
    "kf = KFold(3, shuffle=True, random_state=42)\n",
    "model = DecisionTreeRegressor(random_state=42)\n",
    "gs = GridSearchCV(model, grid, cv=kf)\n",
    "gs.fit(X_train_encoded_new, y_train_new)\n",
    "\n",
    "print(\"Miglior valore di max_depth: \", gs.best_params_)"
   ]
  },
  {
   "cell_type": "code",
   "execution_count": 119,
   "id": "18c11c0b",
   "metadata": {
    "scrolled": false
   },
   "outputs": [
    {
     "name": "stdout",
     "output_type": "stream",
     "text": [
      "R²: 0.9801564523991405\n",
      "MSE: 14.192870455417339\n",
      "Relative error: 3.186%\n"
     ]
    }
   ],
   "source": [
    "model = DecisionTreeRegressor(max_depth=9, random_state=42)\n",
    "model.fit(X_train_encoded_new, y_train)\n",
    "model_performance(X_val_encoded_new, y_val_new, model)"
   ]
  },
  {
   "cell_type": "markdown",
   "id": "8d9ecf58",
   "metadata": {},
   "source": [
    "Si ottiene un ottimo modello, capace di fare ottime previsioni sul validation set.  \n",
    "\n",
    "- Rappresentazione grafica dell'albero decisionale"
   ]
  },
  {
   "cell_type": "code",
   "execution_count": 120,
   "id": "890f18a9",
   "metadata": {},
   "outputs": [
    {
     "data": {
      "image/png": "[encoded data removed]",
      "text/plain": [
       "<Figure size 1512x576 with 1 Axes>"
      ]
     },
     "metadata": {
      "needs_background": "light"
     },
     "output_type": "display_data"
    }
   ],
   "source": [
    "plt.figure(figsize=(21, 8))\n",
    "plot_tree(model, feature_names=all_feature_names_new, max_depth=3, fontsize=8);"
   ]
  },
  {
   "cell_type": "code",
   "execution_count": 121,
   "id": "8271c98b",
   "metadata": {},
   "outputs": [
    {
     "data": {
      "text/html": [
       "<div>\n",
       "<style scoped>\n",
       "    .dataframe tbody tr th:only-of-type {\n",
       "        vertical-align: middle;\n",
       "    }\n",
       "\n",
       "    .dataframe tbody tr th {\n",
       "        vertical-align: top;\n",
       "    }\n",
       "\n",
       "    .dataframe thead th {\n",
       "        text-align: right;\n",
       "    }\n",
       "</style>\n",
       "<table border=\"1\" class=\"dataframe\">\n",
       "  <thead>\n",
       "    <tr style=\"text-align: right;\">\n",
       "      <th></th>\n",
       "      <th>Features importances new</th>\n",
       "    </tr>\n",
       "  </thead>\n",
       "  <tbody>\n",
       "    <tr>\n",
       "      <th>NObeyesdad_Obesity_Type_III</th>\n",
       "      <td>0.309189</td>\n",
       "    </tr>\n",
       "    <tr>\n",
       "      <th>NObeyesdad_Obesity_Type_II</th>\n",
       "      <td>0.306991</td>\n",
       "    </tr>\n",
       "    <tr>\n",
       "      <th>NObeyesdad_Insufficient_Weight</th>\n",
       "      <td>0.130377</td>\n",
       "    </tr>\n",
       "    <tr>\n",
       "      <th>Height</th>\n",
       "      <td>0.127606</td>\n",
       "    </tr>\n",
       "    <tr>\n",
       "      <th>NObeyesdad_Normal_Weight</th>\n",
       "      <td>0.072657</td>\n",
       "    </tr>\n",
       "    <tr>\n",
       "      <th>NObeyesdad_Obesity_Type_I</th>\n",
       "      <td>0.017689</td>\n",
       "    </tr>\n",
       "    <tr>\n",
       "      <th>NObeyesdad_Overweight_Level_I</th>\n",
       "      <td>0.013799</td>\n",
       "    </tr>\n",
       "    <tr>\n",
       "      <th>NObeyesdad_Overweight_Level_II</th>\n",
       "      <td>0.006588</td>\n",
       "    </tr>\n",
       "    <tr>\n",
       "      <th>Age</th>\n",
       "      <td>0.005328</td>\n",
       "    </tr>\n",
       "    <tr>\n",
       "      <th>Gender_Male</th>\n",
       "      <td>0.002301</td>\n",
       "    </tr>\n",
       "    <tr>\n",
       "      <th>MTRANS_Automobile</th>\n",
       "      <td>0.001378</td>\n",
       "    </tr>\n",
       "    <tr>\n",
       "      <th>TUE_0</th>\n",
       "      <td>0.001298</td>\n",
       "    </tr>\n",
       "    <tr>\n",
       "      <th>CH2O_3</th>\n",
       "      <td>0.001230</td>\n",
       "    </tr>\n",
       "    <tr>\n",
       "      <th>FCVC_3</th>\n",
       "      <td>0.000931</td>\n",
       "    </tr>\n",
       "    <tr>\n",
       "      <th>FAF_0</th>\n",
       "      <td>0.000706</td>\n",
       "    </tr>\n",
       "    <tr>\n",
       "      <th>CH2O_2</th>\n",
       "      <td>0.000345</td>\n",
       "    </tr>\n",
       "    <tr>\n",
       "      <th>NCP_4</th>\n",
       "      <td>0.000222</td>\n",
       "    </tr>\n",
       "    <tr>\n",
       "      <th>CH2O_1</th>\n",
       "      <td>0.000214</td>\n",
       "    </tr>\n",
       "    <tr>\n",
       "      <th>TUE_1</th>\n",
       "      <td>0.000211</td>\n",
       "    </tr>\n",
       "    <tr>\n",
       "      <th>FAF_1</th>\n",
       "      <td>0.000183</td>\n",
       "    </tr>\n",
       "    <tr>\n",
       "      <th>TUE_2</th>\n",
       "      <td>0.000119</td>\n",
       "    </tr>\n",
       "    <tr>\n",
       "      <th>FAVC_no</th>\n",
       "      <td>0.000114</td>\n",
       "    </tr>\n",
       "    <tr>\n",
       "      <th>FCVC_2</th>\n",
       "      <td>0.000105</td>\n",
       "    </tr>\n",
       "    <tr>\n",
       "      <th>MTRANS_Walking</th>\n",
       "      <td>0.000070</td>\n",
       "    </tr>\n",
       "    <tr>\n",
       "      <th>FAF_2</th>\n",
       "      <td>0.000069</td>\n",
       "    </tr>\n",
       "    <tr>\n",
       "      <th>CALC_no</th>\n",
       "      <td>0.000057</td>\n",
       "    </tr>\n",
       "    <tr>\n",
       "      <th>family_history_with_overweight_yes</th>\n",
       "      <td>0.000057</td>\n",
       "    </tr>\n",
       "    <tr>\n",
       "      <th>CAEC_Always</th>\n",
       "      <td>0.000051</td>\n",
       "    </tr>\n",
       "    <tr>\n",
       "      <th>family_history_with_overweight_no</th>\n",
       "      <td>0.000049</td>\n",
       "    </tr>\n",
       "    <tr>\n",
       "      <th>NCP_3</th>\n",
       "      <td>0.000020</td>\n",
       "    </tr>\n",
       "    <tr>\n",
       "      <th>FCVC_1</th>\n",
       "      <td>0.000018</td>\n",
       "    </tr>\n",
       "    <tr>\n",
       "      <th>MTRANS_Public_Transportation</th>\n",
       "      <td>0.000014</td>\n",
       "    </tr>\n",
       "    <tr>\n",
       "      <th>CALC_Sometimes</th>\n",
       "      <td>0.000013</td>\n",
       "    </tr>\n",
       "    <tr>\n",
       "      <th>SMOKE_no</th>\n",
       "      <td>0.000000</td>\n",
       "    </tr>\n",
       "    <tr>\n",
       "      <th>SMOKE_yes</th>\n",
       "      <td>0.000000</td>\n",
       "    </tr>\n",
       "    <tr>\n",
       "      <th>CALC_Frequently</th>\n",
       "      <td>0.000000</td>\n",
       "    </tr>\n",
       "    <tr>\n",
       "      <th>CAEC_no</th>\n",
       "      <td>0.000000</td>\n",
       "    </tr>\n",
       "    <tr>\n",
       "      <th>MTRANS_Bike</th>\n",
       "      <td>0.000000</td>\n",
       "    </tr>\n",
       "    <tr>\n",
       "      <th>MTRANS_Motorbike</th>\n",
       "      <td>0.000000</td>\n",
       "    </tr>\n",
       "    <tr>\n",
       "      <th>CAEC_Frequently</th>\n",
       "      <td>0.000000</td>\n",
       "    </tr>\n",
       "    <tr>\n",
       "      <th>NCP_1</th>\n",
       "      <td>0.000000</td>\n",
       "    </tr>\n",
       "    <tr>\n",
       "      <th>FAVC_yes</th>\n",
       "      <td>0.000000</td>\n",
       "    </tr>\n",
       "    <tr>\n",
       "      <th>FAF_3</th>\n",
       "      <td>0.000000</td>\n",
       "    </tr>\n",
       "    <tr>\n",
       "      <th>SCC_no</th>\n",
       "      <td>0.000000</td>\n",
       "    </tr>\n",
       "    <tr>\n",
       "      <th>CAEC_Sometimes</th>\n",
       "      <td>0.000000</td>\n",
       "    </tr>\n",
       "    <tr>\n",
       "      <th>SCC_yes</th>\n",
       "      <td>0.000000</td>\n",
       "    </tr>\n",
       "    <tr>\n",
       "      <th>Gender_Female</th>\n",
       "      <td>0.000000</td>\n",
       "    </tr>\n",
       "    <tr>\n",
       "      <th>NCP_2</th>\n",
       "      <td>0.000000</td>\n",
       "    </tr>\n",
       "  </tbody>\n",
       "</table>\n",
       "</div>"
      ],
      "text/plain": [
       "                                    Features importances new\n",
       "NObeyesdad_Obesity_Type_III                         0.309189\n",
       "NObeyesdad_Obesity_Type_II                          0.306991\n",
       "NObeyesdad_Insufficient_Weight                      0.130377\n",
       "Height                                              0.127606\n",
       "NObeyesdad_Normal_Weight                            0.072657\n",
       "NObeyesdad_Obesity_Type_I                           0.017689\n",
       "NObeyesdad_Overweight_Level_I                       0.013799\n",
       "NObeyesdad_Overweight_Level_II                      0.006588\n",
       "Age                                                 0.005328\n",
       "Gender_Male                                         0.002301\n",
       "MTRANS_Automobile                                   0.001378\n",
       "TUE_0                                               0.001298\n",
       "CH2O_3                                              0.001230\n",
       "FCVC_3                                              0.000931\n",
       "FAF_0                                               0.000706\n",
       "CH2O_2                                              0.000345\n",
       "NCP_4                                               0.000222\n",
       "CH2O_1                                              0.000214\n",
       "TUE_1                                               0.000211\n",
       "FAF_1                                               0.000183\n",
       "TUE_2                                               0.000119\n",
       "FAVC_no                                             0.000114\n",
       "FCVC_2                                              0.000105\n",
       "MTRANS_Walking                                      0.000070\n",
       "FAF_2                                               0.000069\n",
       "CALC_no                                             0.000057\n",
       "family_history_with_overweight_yes                  0.000057\n",
       "CAEC_Always                                         0.000051\n",
       "family_history_with_overweight_no                   0.000049\n",
       "NCP_3                                               0.000020\n",
       "FCVC_1                                              0.000018\n",
       "MTRANS_Public_Transportation                        0.000014\n",
       "CALC_Sometimes                                      0.000013\n",
       "SMOKE_no                                            0.000000\n",
       "SMOKE_yes                                           0.000000\n",
       "CALC_Frequently                                     0.000000\n",
       "CAEC_no                                             0.000000\n",
       "MTRANS_Bike                                         0.000000\n",
       "MTRANS_Motorbike                                    0.000000\n",
       "CAEC_Frequently                                     0.000000\n",
       "NCP_1                                               0.000000\n",
       "FAVC_yes                                            0.000000\n",
       "FAF_3                                               0.000000\n",
       "SCC_no                                              0.000000\n",
       "CAEC_Sometimes                                      0.000000\n",
       "SCC_yes                                             0.000000\n",
       "Gender_Female                                       0.000000\n",
       "NCP_2                                               0.000000"
      ]
     },
     "execution_count": 121,
     "metadata": {},
     "output_type": "execute_result"
    }
   ],
   "source": [
    "pd.DataFrame({\n",
    "    \"Features importances new\": model.feature_importances_}, \n",
    "index=all_feature_names_new).sort_values(\"Features importances new\", ascending=False)"
   ]
  },
  {
   "cell_type": "markdown",
   "id": "e6bb66d9",
   "metadata": {},
   "source": [
    "Come si poteva immaginare, è evidente l'impatto della variabile `NObeyesdad`, ossia la variabile categorica che rappresenta le possibili categorie (e quindi i possibili valori) che può assumere un individuo in termini di classi di obesità.  \n",
    "Il modello è infatti in grado di predire molto bene il peso di un individuo conoscendone le classi di obesità possibili.  \n",
    "Tant'è che i primi valori disposti in ordine di importanza per il modello analizzato sono: "
   ]
  },
  {
   "cell_type": "code",
   "execution_count": 122,
   "id": "249e4d59",
   "metadata": {},
   "outputs": [
    {
     "data": {
      "text/plain": [
       "['NObeyesdad_Obesity_Type_III',\n",
       " 'NObeyesdad_Obesity_Type_II',\n",
       " 'NObeyesdad_Insufficient_Weight',\n",
       " 'Height',\n",
       " 'NObeyesdad_Normal_Weight']"
      ]
     },
     "execution_count": 122,
     "metadata": {},
     "output_type": "execute_result"
    }
   ],
   "source": [
    "feature_importance_series_new = pd.Series(model.feature_importances_, index=all_feature_names_new).sort_values(ascending=False)\n",
    "feature_importance_series_new.head().index.tolist()"
   ]
  },
  {
   "cell_type": "markdown",
   "id": "e03ae5f3",
   "metadata": {},
   "source": [
    "- `NObeyesdad_Obesity_Type_III`: massimo livello di obesità (livello 3) \n",
    "- `NObeyesdad_Obesity_Type_II`: obesità di livello 2\n",
    "- `NObeyesdad_Insufficient_Weight`: peso insufficiente\n",
    "- `Height`: l'altezza\n",
    "- `NObeyesdad_Normal_Weight`: peso normale\n",
    "\n",
    "\n",
    "Tra questi possibili valori relativi alla variabile `NObeyesdad`, ne emerge però anche la variabile numerica `Height`, che esprime l'altezza di un individuo.\n",
    "Si può quindi affermare (e confermare) che per predire il peso di un individuo è importante la conoscenza dell'altezza, come già si era notato nei precedenti modelli.  \n",
    "\n",
    "\n",
    "Nella predizione del peso sono rilevanti anche ulteriori fattori, come:\n",
    "- l'età (`Age`) \n",
    "- il mezzo di trasporto principale: l'automobile (`MTRANS_Automobile`) piuttosto che la bicicletta (`MTRANS_Bike`)\n",
    "- l'essere una femmina (`Gender_Female`)\n",
    "- l'assenza di tempo dedicato alle attività sedentarie (`TUE_0`)  \n",
    "\n",
    "Tuttavia essi sono espressi da valori piuttosto bassi poichè gli elementi che permettono al modello di effettuare una buona predizione sono quelli sopracitati. Questi utlimi incidono nella predizione, ma non in modo così rilevante.\n",
    "\n",
    "Non sono invece importanti fattori come:\n",
    "- se l'individuo è un fumatore o meno (`SMOKE_yes` o `SMOKE_no`)\n",
    "- l'assunzione non frequente di cibi al di fuori dei pasti principali (`CAEC_Sometimes`)\n",
    "- la scelta della bici come mezzo di trasporto principale (`MTRANS_Bike`)"
   ]
  },
  {
   "cell_type": "markdown",
   "id": "1e5d5de9",
   "metadata": {},
   "source": [
    "Come fatto precedentemente, di seguito si analizza l'importanza delle singole variabili senza effettuarne una distinzione dei possibili valori."
   ]
  },
  {
   "cell_type": "code",
   "execution_count": 123,
   "id": "71cbf3a9",
   "metadata": {},
   "outputs": [
    {
     "data": {
      "text/plain": [
       "NObeyesdad   0.857290\n",
       "Height       0.127606\n",
       "Age          0.005328\n",
       "Gender       0.002301\n",
       "CH2O         0.001789\n",
       "TUE          0.001628\n",
       "MTRANS       0.001463\n",
       "FCVC         0.001054\n",
       "FAF          0.000957\n",
       "NCP          0.000242\n",
       "FAVC         0.000114\n",
       "family       0.000105\n",
       "CALC         0.000070\n",
       "CAEC         0.000051\n",
       "SMOKE        0.000000\n",
       "SCC          0.000000\n",
       "dtype: float64"
      ]
     },
     "execution_count": 123,
     "metadata": {},
     "output_type": "execute_result"
    }
   ],
   "source": [
    "tree_result_new = group_feature_importance(feature_importance_series_new)\n",
    "tree_result_new"
   ]
  },
  {
   "cell_type": "code",
   "execution_count": 124,
   "id": "18ecf78e",
   "metadata": {
    "scrolled": true
   },
   "outputs": [
    {
     "data": {
      "image/png": "[encoded data removed]",
      "text/plain": [
       "<Figure size 1296x432 with 1 Axes>"
      ]
     },
     "metadata": {
      "needs_background": "light"
     },
     "output_type": "display_data"
    }
   ],
   "source": [
    "feature_names = tree_result_new.index\n",
    "importance_values = tree_result_new.values\n",
    "\n",
    "plt.figure(figsize=(18, 6))\n",
    "plt.barh(feature_names, importance_values, color=\"deepskyblue\")\n",
    "plt.xlabel(\"Importance score\")\n",
    "plt.ylabel(\"Variables\")\n",
    "plt.title(\"Variables importances\")\n",
    "plt.gca().invert_yaxis()"
   ]
  },
  {
   "cell_type": "markdown",
   "id": "0ebf77fb",
   "metadata": {},
   "source": [
    "Dal grafico si intuisce ancora meglio l'importanza della conoscenza della classe di obesità: se si ha una conoscenza di essa, \n",
    "si ha una predominanza sulle restanti variabili in termini di importanza per la predizione e (quasi) solo la sua informazione ne permette di realizzare un ottimo modello.  \n",
    "Si osserva, infine, in un unico grafico la differenza di importanza delle variabili per i due modelli predittivi basati sugli alberi decisionali."
   ]
  },
  {
   "cell_type": "code",
   "execution_count": 125,
   "id": "c29528e0",
   "metadata": {},
   "outputs": [
    {
     "data": {
      "image/png": "[encoded data removed]",
      "text/plain": [
       "<Figure size 1224x432 with 2 Axes>"
      ]
     },
     "metadata": {
      "needs_background": "light"
     },
     "output_type": "display_data"
    }
   ],
   "source": [
    "feature_names_1 = tree_result.index\n",
    "importance_values_1 = tree_result.values\n",
    "\n",
    "feature_names_2 = tree_result_new.index\n",
    "importance_values_2 = tree_result_new.values\n",
    "\n",
    "plt.figure(figsize=(17, 6))\n",
    "\n",
    "# Primo grafico: senza classe di obesità\n",
    "plt.subplot(1, 2, 1).barh(feature_names_1[:6], importance_values_1[:6], color=\"deepskyblue\")\n",
    "plt.xlabel(\"Importance score\")\n",
    "plt.ylabel(\"Variables\")\n",
    "plt.title(\"Variables importances without obesity class\")\n",
    "plt.gca().invert_yaxis()\n",
    "plt.xlim(0, 1);\n",
    "\n",
    "# Secondo grafico: con classe di obesità\n",
    "plt.subplot(1, 2, 2).barh(feature_names_2[:6], importance_values_2[:6], color=\"deepskyblue\")\n",
    "plt.xlabel(\"Importance score\")\n",
    "plt.ylabel(\"Variables\")\n",
    "plt.title(\"Variables importances with obesity class\")\n",
    "plt.gca().invert_yaxis()\n",
    "plt.xlim(0, 1);"
   ]
  },
  {
   "cell_type": "markdown",
   "id": "9a210da6",
   "metadata": {},
   "source": [
    "**OSSERVAZIONI CONCLUSIVE**  \n",
    "\n",
    "- **Modello _senza_ conoscenza della classe di obesità**: il modello, non possedendo la classe di obesità dell'individuo come variabile di input, fa affidamento solo sulle altre variabili disponibili per effettuare le predizioni sul peso. La classe di obesità contiene informazioni aggiuntive inerenti alla distribuzione del peso; di conseguenza il modello che ora non possiede queste informazioni ha una maggiore difficoltà nello spiegare tutta la variabilità del peso. Si ottiene di fatti un R² discreto.\n",
    "  La predizione del peso si basa quindi in primo luogo su caratteristiche fisiche come altezza, età e genere, su abitudini alimentari come l'assunzione di alcol ma anche l'assunzione di verdure, e infine anche sulla presenza o meno di familiari in sovrappeso.  \n",
    "\n",
    "\n",
    "- **Modello _con_ conoscenza della classe di obesità**: il modello, avendo accesso alla classe di obesità come variabile di input, è in grado di utilizzare queste informazioni per migliorare le sue predizioni. La classe di obesità è fortemente correlata al peso (oltre che ad altri fattori) e di conseguenza fornisce al modello una comprensione più completa della relazione tra le variabili di input e il peso. Il modello ha quindi maggiori possibilità di spiegare la variabilità del peso e perciò si ottiene un R² più alto.  \n",
    "  Ora, la predizione del peso si basa in primo luogo sulla classe di obesità e solo in secondo luogo sull'altezza, sull'età e sul genere.  \n",
    "  \n",
    "\n",
    "Tuttavia, ciò non significa che il modello senza la classe di obesità sia necessariamente meno utile o errato: addirittura lo si può definire come \"più realistico\", poichè volendo predire il peso di una persona in base alle sue abitudini alimentari, allo stile di vita e alle proprie caratteristiche fisiche, solitamente non si è a conoscenza della classe di obesità se non esplicitamente nota.  \n",
    "Tant'è che le variabili fornite hanno comunque un certo impatto sul peso di una persona e possono quindi essere considerate valide per la predizione approssimativa del peso. "
   ]
  }
 ],
 "metadata": {
  "kernelspec": {
   "display_name": "Python 3 (ipykernel)",
   "language": "python",
   "name": "python3"
  },
  "language_info": {
   "codemirror_mode": {
    "name": "ipython",
    "version": 3
   },
   "file_extension": ".py",
   "mimetype": "text/x-python",
   "name": "python",
   "nbconvert_exporter": "python",
   "pygments_lexer": "ipython3",
   "version": "3.9.7"
  }
 },
 "nbformat": 4,
 "nbformat_minor": 5
}
